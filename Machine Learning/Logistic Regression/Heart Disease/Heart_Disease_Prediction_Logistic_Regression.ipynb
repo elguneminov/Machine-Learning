{
  "nbformat": 4,
  "nbformat_minor": 0,
  "metadata": {
    "colab": {
      "name": "Heart_Disease_Prediction_Logistic_Regression.ipynb",
      "provenance": [],
      "collapsed_sections": []
    },
    "kernelspec": {
      "name": "python3",
      "display_name": "Python 3"
    }
  },
  "cells": [
    {
      "cell_type": "code",
      "metadata": {
        "id": "A55qJ7FkmnNp",
        "colab_type": "code",
        "colab": {}
      },
      "source": [
        "import pandas as pd\n",
        "import numpy as np\n",
        "import seaborn as sns\n",
        "import matplotlib.pyplot as plt\n",
        "%matplotlib inline"
      ],
      "execution_count": 0,
      "outputs": []
    },
    {
      "cell_type": "code",
      "metadata": {
        "id": "-xqPw9XenbBt",
        "colab_type": "code",
        "colab": {}
      },
      "source": [
        "data = pd.read_csv(\"/content/framingham.csv\")"
      ],
      "execution_count": 0,
      "outputs": []
    },
    {
      "cell_type": "code",
      "metadata": {
        "id": "lsvMJv4Vno0s",
        "colab_type": "code",
        "colab": {
          "base_uri": "https://localhost:8080/",
          "height": 226
        },
        "outputId": "d6407842-0c84-4acc-f193-7d49fccfb2a9"
      },
      "source": [
        "data.head()"
      ],
      "execution_count": 32,
      "outputs": [
        {
          "output_type": "execute_result",
          "data": {
            "text/html": [
              "<div>\n",
              "<style scoped>\n",
              "    .dataframe tbody tr th:only-of-type {\n",
              "        vertical-align: middle;\n",
              "    }\n",
              "\n",
              "    .dataframe tbody tr th {\n",
              "        vertical-align: top;\n",
              "    }\n",
              "\n",
              "    .dataframe thead th {\n",
              "        text-align: right;\n",
              "    }\n",
              "</style>\n",
              "<table border=\"1\" class=\"dataframe\">\n",
              "  <thead>\n",
              "    <tr style=\"text-align: right;\">\n",
              "      <th></th>\n",
              "      <th>male</th>\n",
              "      <th>age</th>\n",
              "      <th>education</th>\n",
              "      <th>currentSmoker</th>\n",
              "      <th>cigsPerDay</th>\n",
              "      <th>BPMeds</th>\n",
              "      <th>prevalentStroke</th>\n",
              "      <th>prevalentHyp</th>\n",
              "      <th>diabetes</th>\n",
              "      <th>totChol</th>\n",
              "      <th>sysBP</th>\n",
              "      <th>diaBP</th>\n",
              "      <th>BMI</th>\n",
              "      <th>heartRate</th>\n",
              "      <th>glucose</th>\n",
              "      <th>TenYearCHD</th>\n",
              "    </tr>\n",
              "  </thead>\n",
              "  <tbody>\n",
              "    <tr>\n",
              "      <th>0</th>\n",
              "      <td>1</td>\n",
              "      <td>39</td>\n",
              "      <td>4.0</td>\n",
              "      <td>0</td>\n",
              "      <td>0.0</td>\n",
              "      <td>0.0</td>\n",
              "      <td>0</td>\n",
              "      <td>0</td>\n",
              "      <td>0</td>\n",
              "      <td>195.0</td>\n",
              "      <td>106.0</td>\n",
              "      <td>70.0</td>\n",
              "      <td>26.97</td>\n",
              "      <td>80.0</td>\n",
              "      <td>77.0</td>\n",
              "      <td>0</td>\n",
              "    </tr>\n",
              "    <tr>\n",
              "      <th>1</th>\n",
              "      <td>0</td>\n",
              "      <td>46</td>\n",
              "      <td>2.0</td>\n",
              "      <td>0</td>\n",
              "      <td>0.0</td>\n",
              "      <td>0.0</td>\n",
              "      <td>0</td>\n",
              "      <td>0</td>\n",
              "      <td>0</td>\n",
              "      <td>250.0</td>\n",
              "      <td>121.0</td>\n",
              "      <td>81.0</td>\n",
              "      <td>28.73</td>\n",
              "      <td>95.0</td>\n",
              "      <td>76.0</td>\n",
              "      <td>0</td>\n",
              "    </tr>\n",
              "    <tr>\n",
              "      <th>2</th>\n",
              "      <td>1</td>\n",
              "      <td>48</td>\n",
              "      <td>1.0</td>\n",
              "      <td>1</td>\n",
              "      <td>20.0</td>\n",
              "      <td>0.0</td>\n",
              "      <td>0</td>\n",
              "      <td>0</td>\n",
              "      <td>0</td>\n",
              "      <td>245.0</td>\n",
              "      <td>127.5</td>\n",
              "      <td>80.0</td>\n",
              "      <td>25.34</td>\n",
              "      <td>75.0</td>\n",
              "      <td>70.0</td>\n",
              "      <td>0</td>\n",
              "    </tr>\n",
              "    <tr>\n",
              "      <th>3</th>\n",
              "      <td>0</td>\n",
              "      <td>61</td>\n",
              "      <td>3.0</td>\n",
              "      <td>1</td>\n",
              "      <td>30.0</td>\n",
              "      <td>0.0</td>\n",
              "      <td>0</td>\n",
              "      <td>1</td>\n",
              "      <td>0</td>\n",
              "      <td>225.0</td>\n",
              "      <td>150.0</td>\n",
              "      <td>95.0</td>\n",
              "      <td>28.58</td>\n",
              "      <td>65.0</td>\n",
              "      <td>103.0</td>\n",
              "      <td>1</td>\n",
              "    </tr>\n",
              "    <tr>\n",
              "      <th>4</th>\n",
              "      <td>0</td>\n",
              "      <td>46</td>\n",
              "      <td>3.0</td>\n",
              "      <td>1</td>\n",
              "      <td>23.0</td>\n",
              "      <td>0.0</td>\n",
              "      <td>0</td>\n",
              "      <td>0</td>\n",
              "      <td>0</td>\n",
              "      <td>285.0</td>\n",
              "      <td>130.0</td>\n",
              "      <td>84.0</td>\n",
              "      <td>23.10</td>\n",
              "      <td>85.0</td>\n",
              "      <td>85.0</td>\n",
              "      <td>0</td>\n",
              "    </tr>\n",
              "  </tbody>\n",
              "</table>\n",
              "</div>"
            ],
            "text/plain": [
              "   male  age  education  currentSmoker  ...    BMI  heartRate  glucose  TenYearCHD\n",
              "0     1   39        4.0              0  ...  26.97       80.0     77.0           0\n",
              "1     0   46        2.0              0  ...  28.73       95.0     76.0           0\n",
              "2     1   48        1.0              1  ...  25.34       75.0     70.0           0\n",
              "3     0   61        3.0              1  ...  28.58       65.0    103.0           1\n",
              "4     0   46        3.0              1  ...  23.10       85.0     85.0           0\n",
              "\n",
              "[5 rows x 16 columns]"
            ]
          },
          "metadata": {
            "tags": []
          },
          "execution_count": 32
        }
      ]
    },
    {
      "cell_type": "code",
      "metadata": {
        "id": "27bmkRFUnrcv",
        "colab_type": "code",
        "colab": {
          "base_uri": "https://localhost:8080/",
          "height": 320
        },
        "outputId": "b14e21ce-84ef-453f-8c51-fb2d3f7e3e27"
      },
      "source": [
        "data.describe()"
      ],
      "execution_count": 33,
      "outputs": [
        {
          "output_type": "execute_result",
          "data": {
            "text/html": [
              "<div>\n",
              "<style scoped>\n",
              "    .dataframe tbody tr th:only-of-type {\n",
              "        vertical-align: middle;\n",
              "    }\n",
              "\n",
              "    .dataframe tbody tr th {\n",
              "        vertical-align: top;\n",
              "    }\n",
              "\n",
              "    .dataframe thead th {\n",
              "        text-align: right;\n",
              "    }\n",
              "</style>\n",
              "<table border=\"1\" class=\"dataframe\">\n",
              "  <thead>\n",
              "    <tr style=\"text-align: right;\">\n",
              "      <th></th>\n",
              "      <th>male</th>\n",
              "      <th>age</th>\n",
              "      <th>education</th>\n",
              "      <th>currentSmoker</th>\n",
              "      <th>cigsPerDay</th>\n",
              "      <th>BPMeds</th>\n",
              "      <th>prevalentStroke</th>\n",
              "      <th>prevalentHyp</th>\n",
              "      <th>diabetes</th>\n",
              "      <th>totChol</th>\n",
              "      <th>sysBP</th>\n",
              "      <th>diaBP</th>\n",
              "      <th>BMI</th>\n",
              "      <th>heartRate</th>\n",
              "      <th>glucose</th>\n",
              "      <th>TenYearCHD</th>\n",
              "    </tr>\n",
              "  </thead>\n",
              "  <tbody>\n",
              "    <tr>\n",
              "      <th>count</th>\n",
              "      <td>4238.000000</td>\n",
              "      <td>4238.000000</td>\n",
              "      <td>4133.000000</td>\n",
              "      <td>4238.000000</td>\n",
              "      <td>4209.000000</td>\n",
              "      <td>4185.000000</td>\n",
              "      <td>4238.000000</td>\n",
              "      <td>4238.000000</td>\n",
              "      <td>4238.000000</td>\n",
              "      <td>4188.000000</td>\n",
              "      <td>4238.000000</td>\n",
              "      <td>4238.000000</td>\n",
              "      <td>4219.000000</td>\n",
              "      <td>4237.000000</td>\n",
              "      <td>3850.000000</td>\n",
              "      <td>4238.000000</td>\n",
              "    </tr>\n",
              "    <tr>\n",
              "      <th>mean</th>\n",
              "      <td>0.429212</td>\n",
              "      <td>49.584946</td>\n",
              "      <td>1.978950</td>\n",
              "      <td>0.494101</td>\n",
              "      <td>9.003089</td>\n",
              "      <td>0.029630</td>\n",
              "      <td>0.005899</td>\n",
              "      <td>0.310524</td>\n",
              "      <td>0.025720</td>\n",
              "      <td>236.721585</td>\n",
              "      <td>132.352407</td>\n",
              "      <td>82.893464</td>\n",
              "      <td>25.802008</td>\n",
              "      <td>75.878924</td>\n",
              "      <td>81.966753</td>\n",
              "      <td>0.151958</td>\n",
              "    </tr>\n",
              "    <tr>\n",
              "      <th>std</th>\n",
              "      <td>0.495022</td>\n",
              "      <td>8.572160</td>\n",
              "      <td>1.019791</td>\n",
              "      <td>0.500024</td>\n",
              "      <td>11.920094</td>\n",
              "      <td>0.169584</td>\n",
              "      <td>0.076587</td>\n",
              "      <td>0.462763</td>\n",
              "      <td>0.158316</td>\n",
              "      <td>44.590334</td>\n",
              "      <td>22.038097</td>\n",
              "      <td>11.910850</td>\n",
              "      <td>4.080111</td>\n",
              "      <td>12.026596</td>\n",
              "      <td>23.959998</td>\n",
              "      <td>0.359023</td>\n",
              "    </tr>\n",
              "    <tr>\n",
              "      <th>min</th>\n",
              "      <td>0.000000</td>\n",
              "      <td>32.000000</td>\n",
              "      <td>1.000000</td>\n",
              "      <td>0.000000</td>\n",
              "      <td>0.000000</td>\n",
              "      <td>0.000000</td>\n",
              "      <td>0.000000</td>\n",
              "      <td>0.000000</td>\n",
              "      <td>0.000000</td>\n",
              "      <td>107.000000</td>\n",
              "      <td>83.500000</td>\n",
              "      <td>48.000000</td>\n",
              "      <td>15.540000</td>\n",
              "      <td>44.000000</td>\n",
              "      <td>40.000000</td>\n",
              "      <td>0.000000</td>\n",
              "    </tr>\n",
              "    <tr>\n",
              "      <th>25%</th>\n",
              "      <td>0.000000</td>\n",
              "      <td>42.000000</td>\n",
              "      <td>1.000000</td>\n",
              "      <td>0.000000</td>\n",
              "      <td>0.000000</td>\n",
              "      <td>0.000000</td>\n",
              "      <td>0.000000</td>\n",
              "      <td>0.000000</td>\n",
              "      <td>0.000000</td>\n",
              "      <td>206.000000</td>\n",
              "      <td>117.000000</td>\n",
              "      <td>75.000000</td>\n",
              "      <td>23.070000</td>\n",
              "      <td>68.000000</td>\n",
              "      <td>71.000000</td>\n",
              "      <td>0.000000</td>\n",
              "    </tr>\n",
              "    <tr>\n",
              "      <th>50%</th>\n",
              "      <td>0.000000</td>\n",
              "      <td>49.000000</td>\n",
              "      <td>2.000000</td>\n",
              "      <td>0.000000</td>\n",
              "      <td>0.000000</td>\n",
              "      <td>0.000000</td>\n",
              "      <td>0.000000</td>\n",
              "      <td>0.000000</td>\n",
              "      <td>0.000000</td>\n",
              "      <td>234.000000</td>\n",
              "      <td>128.000000</td>\n",
              "      <td>82.000000</td>\n",
              "      <td>25.400000</td>\n",
              "      <td>75.000000</td>\n",
              "      <td>78.000000</td>\n",
              "      <td>0.000000</td>\n",
              "    </tr>\n",
              "    <tr>\n",
              "      <th>75%</th>\n",
              "      <td>1.000000</td>\n",
              "      <td>56.000000</td>\n",
              "      <td>3.000000</td>\n",
              "      <td>1.000000</td>\n",
              "      <td>20.000000</td>\n",
              "      <td>0.000000</td>\n",
              "      <td>0.000000</td>\n",
              "      <td>1.000000</td>\n",
              "      <td>0.000000</td>\n",
              "      <td>263.000000</td>\n",
              "      <td>144.000000</td>\n",
              "      <td>89.875000</td>\n",
              "      <td>28.040000</td>\n",
              "      <td>83.000000</td>\n",
              "      <td>87.000000</td>\n",
              "      <td>0.000000</td>\n",
              "    </tr>\n",
              "    <tr>\n",
              "      <th>max</th>\n",
              "      <td>1.000000</td>\n",
              "      <td>70.000000</td>\n",
              "      <td>4.000000</td>\n",
              "      <td>1.000000</td>\n",
              "      <td>70.000000</td>\n",
              "      <td>1.000000</td>\n",
              "      <td>1.000000</td>\n",
              "      <td>1.000000</td>\n",
              "      <td>1.000000</td>\n",
              "      <td>696.000000</td>\n",
              "      <td>295.000000</td>\n",
              "      <td>142.500000</td>\n",
              "      <td>56.800000</td>\n",
              "      <td>143.000000</td>\n",
              "      <td>394.000000</td>\n",
              "      <td>1.000000</td>\n",
              "    </tr>\n",
              "  </tbody>\n",
              "</table>\n",
              "</div>"
            ],
            "text/plain": [
              "              male          age  ...      glucose   TenYearCHD\n",
              "count  4238.000000  4238.000000  ...  3850.000000  4238.000000\n",
              "mean      0.429212    49.584946  ...    81.966753     0.151958\n",
              "std       0.495022     8.572160  ...    23.959998     0.359023\n",
              "min       0.000000    32.000000  ...    40.000000     0.000000\n",
              "25%       0.000000    42.000000  ...    71.000000     0.000000\n",
              "50%       0.000000    49.000000  ...    78.000000     0.000000\n",
              "75%       1.000000    56.000000  ...    87.000000     0.000000\n",
              "max       1.000000    70.000000  ...   394.000000     1.000000\n",
              "\n",
              "[8 rows x 16 columns]"
            ]
          },
          "metadata": {
            "tags": []
          },
          "execution_count": 33
        }
      ]
    },
    {
      "cell_type": "code",
      "metadata": {
        "id": "QZBl8Uyxnxo1",
        "colab_type": "code",
        "colab": {
          "base_uri": "https://localhost:8080/",
          "height": 312
        },
        "outputId": "e1d4e690-cfe1-4f48-b95f-50b439524990"
      },
      "source": [
        "data.isnull().sum()"
      ],
      "execution_count": 34,
      "outputs": [
        {
          "output_type": "execute_result",
          "data": {
            "text/plain": [
              "male                 0\n",
              "age                  0\n",
              "education          105\n",
              "currentSmoker        0\n",
              "cigsPerDay          29\n",
              "BPMeds              53\n",
              "prevalentStroke      0\n",
              "prevalentHyp         0\n",
              "diabetes             0\n",
              "totChol             50\n",
              "sysBP                0\n",
              "diaBP                0\n",
              "BMI                 19\n",
              "heartRate            1\n",
              "glucose            388\n",
              "TenYearCHD           0\n",
              "dtype: int64"
            ]
          },
          "metadata": {
            "tags": []
          },
          "execution_count": 34
        }
      ]
    },
    {
      "cell_type": "code",
      "metadata": {
        "id": "AdQkQ2Vyn4f4",
        "colab_type": "code",
        "colab": {}
      },
      "source": [
        "data.dropna(inplace=True)"
      ],
      "execution_count": 0,
      "outputs": []
    },
    {
      "cell_type": "code",
      "metadata": {
        "id": "ay5__VJuoIia",
        "colab_type": "code",
        "colab": {
          "base_uri": "https://localhost:8080/",
          "height": 355
        },
        "outputId": "62d51595-2063-4d2b-eeb2-22eb45c61898"
      },
      "source": [
        "# Correlation of Data on Heatmap\n",
        "data_corr = data.corr()\n",
        "sns.heatmap(data_corr, \n",
        "        xticklabels=data_corr.columns,\n",
        "        yticklabels=data_corr.columns,cmap=\"BuPu\",vmin=0, vmax=0.5)"
      ],
      "execution_count": 36,
      "outputs": [
        {
          "output_type": "execute_result",
          "data": {
            "text/plain": [
              "<matplotlib.axes._subplots.AxesSubplot at 0x7f587dc5a978>"
            ]
          },
          "metadata": {
            "tags": []
          },
          "execution_count": 36
        },
        {
          "output_type": "display_data",
          "data": {
            "image/png": "[encoded data removed]",
            "text/plain": [
              "<Figure size 432x288 with 2 Axes>"
            ]
          },
          "metadata": {
            "tags": [],
            "needs_background": "light"
          }
        }
      ]
    },
    {
      "cell_type": "code",
      "metadata": {
        "id": "70XBXWoZoNXM",
        "colab_type": "code",
        "colab": {
          "base_uri": "https://localhost:8080/",
          "height": 86
        },
        "outputId": "69bb4b8d-8598-44de-b5f0-edc4773516a4"
      },
      "source": [
        "data.columns"
      ],
      "execution_count": 37,
      "outputs": [
        {
          "output_type": "execute_result",
          "data": {
            "text/plain": [
              "Index(['male', 'age', 'education', 'currentSmoker', 'cigsPerDay', 'BPMeds',\n",
              "       'prevalentStroke', 'prevalentHyp', 'diabetes', 'totChol', 'sysBP',\n",
              "       'diaBP', 'BMI', 'heartRate', 'glucose', 'TenYearCHD'],\n",
              "      dtype='object')"
            ]
          },
          "metadata": {
            "tags": []
          },
          "execution_count": 37
        }
      ]
    },
    {
      "cell_type": "code",
      "metadata": {
        "id": "QdN2X6DgpWX9",
        "colab_type": "code",
        "colab": {
          "base_uri": "https://localhost:8080/",
          "height": 542
        },
        "outputId": "64d00853-0660-4aeb-b5a5-80620ba239ca"
      },
      "source": [
        "import plotly.express as px\n",
        "\n",
        "df = data\n",
        "fig = px.line(df, x=\"TenYearCHD\", y=\"totChol\", title='Cholestrol VS Heart Disease')\n",
        "fig.show()"
      ],
      "execution_count": 38,
      "outputs": [
        {
          "output_type": "display_data",
          "data": {
            "text/html": [
              "<html>\n",
              "<head><meta charset=\"utf-8\" /></head>\n",
              "<body>\n",
              "    <div>\n",
              "            <script src=\"https://cdnjs.cloudflare.com/ajax/libs/mathjax/2.7.5/MathJax.js?config=TeX-AMS-MML_SVG\"></script><script type=\"text/javascript\">if (window.MathJax) {MathJax.Hub.Config({SVG: {font: \"STIX-Web\"}});}</script>\n",
              "                <script type=\"text/javascript\">window.PlotlyConfig = {MathJaxConfig: 'local'};</script>\n",
              "        <script src=\"https://cdn.plot.ly/plotly-latest.min.js\"></script>    \n",
              "            <div id=\"bce87d5c-0d21-427c-ad8b-13ec1aa42ad9\" class=\"plotly-graph-div\" style=\"height:525px; width:100%;\"></div>\n",
              "            <script type=\"text/javascript\">\n",
              "                \n",
              "                    window.PLOTLYENV=window.PLOTLYENV || {};\n",
              "                    \n",
              "                if (document.getElementById(\"bce87d5c-0d21-427c-ad8b-13ec1aa42ad9\")) {\n",
              "                    Plotly.newPlot(\n",
              "                        'bce87d5c-0d21-427c-ad8b-13ec1aa42ad9',\n",
              "                        [{\"hoverlabel\": {\"namelength\": 0}, \"hovertemplate\": \"TenYearCHD=%{x}<br>totChol=%{y}\", \"legendgroup\": \"\", \"line\": {\"color\": \"#636efa\", \"dash\": \"solid\"}, \"mode\": \"lines\", \"name\": \"\", \"showlegend\": false, \"type\": \"scattergl\", \"x\": [0, 0, 0, 1, 0, 0, 1, 0, 0, 0, 0, 0, 0, 0, 1, 0, 1, 0, 0, 0, 0, 0, 0, 1, 0, 1, 0, 0, 0, 1, 0, 0, 0, 0, 0, 0, 0, 0, 1, 0, 0, 0, 1, 1, 0, 0, 0, 0, 0, 0, 0, 1, 0, 0, 0, 0, 1, 0, 0, 0, 0, 0, 0, 0, 1, 1, 0, 0, 0, 0, 1, 0, 0, 0, 0, 0, 0, 0, 0, 0, 0, 0, 0, 1, 0, 0, 0, 0, 0, 0, 0, 0, 0, 0, 0, 1, 1, 0, 0, 0, 0, 1, 1, 0, 0, 0, 0, 0, 0, 0, 0, 0, 0, 0, 0, 0, 0, 0, 0, 0, 0, 0, 1, 1, 1, 0, 0, 1, 0, 1, 0, 0, 1, 0, 0, 0, 1, 1, 0, 0, 0, 0, 0, 0, 0, 0, 0, 0, 0, 0, 0, 1, 0, 1, 0, 0, 0, 0, 0, 1, 0, 0, 0, 0, 0, 0, 0, 0, 0, 1, 0, 0, 1, 1, 0, 1, 0, 1, 0, 0, 0, 0, 0, 0, 0, 1, 0, 0, 1, 0, 0, 0, 0, 0, 0, 0, 0, 0, 0, 0, 0, 0, 1, 1, 0, 0, 1, 0, 0, 0, 1, 0, 0, 0, 1, 0, 0, 1, 0, 0, 0, 0, 0, 0, 0, 0, 0, 0, 0, 0, 0, 1, 0, 0, 0, 0, 0, 1, 0, 0, 0, 1, 0, 0, 0, 0, 0, 1, 0, 1, 0, 0, 1, 0, 0, 0, 0, 0, 0, 0, 0, 0, 0, 0, 0, 0, 0, 0, 0, 0, 0, 1, 0, 0, 0, 0, 0, 0, 0, 0, 0, 0, 1, 0, 0, 1, 0, 0, 0, 0, 0, 0, 1, 0, 0, 1, 0, 0, 1, 0, 0, 0, 0, 0, 0, 0, 0, 0, 0, 0, 0, 1, 1, 0, 0, 1, 0, 0, 0, 1, 0, 1, 0, 1, 0, 0, 0, 1, 1, 0, 0, 0, 0, 0, 0, 0, 0, 0, 0, 0, 0, 0, 1, 0, 0, 1, 0, 0, 1, 0, 0, 0, 0, 0, 0, 0, 0, 0, 0, 0, 0, 0, 0, 0, 0, 0, 0, 0, 0, 0, 0, 0, 0, 0, 0, 0, 0, 0, 0, 0, 0, 0, 0, 0, 0, 0, 0, 0, 0, 0, 0, 0, 0, 0, 0, 0, 0, 0, 0, 0, 0, 0, 0, 0, 0, 1, 0, 0, 0, 0, 0, 0, 0, 0, 1, 1, 0, 0, 1, 0, 0, 0, 0, 0, 0, 1, 0, 0, 0, 0, 1, 0, 0, 0, 0, 0, 0, 0, 0, 0, 1, 0, 0, 0, 0, 0, 0, 1, 0, 1, 1, 1, 0, 0, 0, 0, 0, 0, 0, 0, 1, 0, 0, 0, 0, 0, 0, 1, 0, 1, 0, 0, 0, 0, 0, 0, 0, 1, 1, 0, 0, 0, 0, 1, 0, 0, 0, 0, 0, 0, 1, 0, 0, 0, 0, 0, 1, 0, 0, 0, 1, 1, 0, 0, 0, 0, 0, 0, 0, 0, 0, 0, 1, 1, 0, 0, 0, 0, 0, 0, 0, 0, 1, 1, 1, 0, 1, 0, 0, 1, 0, 0, 0, 0, 0, 0, 0, 0, 1, 1, 0, 0, 1, 0, 0, 0, 0, 0, 0, 0, 0, 0, 0, 0, 0, 0, 0, 0, 0, 0, 0, 0, 0, 0, 0, 0, 0, 0, 0, 0, 0, 0, 0, 1, 0, 0, 0, 0, 0, 1, 0, 0, 0, 0, 0, 0, 0, 0, 0, 0, 0, 0, 0, 0, 1, 0, 0, 0, 0, 0, 0, 0, 0, 0, 0, 1, 0, 0, 0, 0, 0, 0, 0, 0, 0, 0, 1, 0, 0, 0, 0, 0, 0, 1, 0, 0, 0, 0, 0, 0, 0, 0, 0, 0, 0, 0, 0, 0, 0, 0, 0, 1, 0, 0, 1, 0, 0, 0, 0, 0, 0, 1, 0, 0, 0, 0, 0, 0, 1, 1, 0, 0, 1, 0, 0, 0, 1, 0, 0, 1, 0, 0, 1, 0, 1, 0, 0, 0, 0, 1, 0, 1, 0, 0, 1, 0, 0, 0, 1, 0, 0, 0, 0, 1, 0, 0, 0, 0, 0, 0, 1, 0, 0, 0, 0, 0, 0, 0, 0, 0, 0, 0, 0, 0, 0, 0, 0, 0, 0, 0, 0, 0, 0, 1, 1, 0, 0, 1, 0, 1, 0, 0, 0, 1, 0, 0, 0, 0, 0, 0, 0, 0, 0, 0, 0, 0, 0, 0, 0, 0, 0, 0, 0, 1, 0, 0, 1, 1, 0, 0, 0, 0, 0, 0, 1, 1, 0, 0, 0, 1, 0, 0, 1, 0, 0, 1, 0, 0, 0, 0, 1, 0, 0, 1, 1, 0, 0, 0, 0, 0, 0, 0, 0, 0, 0, 0, 0, 0, 0, 1, 0, 0, 0, 0, 0, 0, 0, 0, 0, 0, 1, 0, 0, 0, 1, 0, 1, 0, 0, 0, 0, 0, 0, 0, 0, 1, 0, 0, 1, 0, 0, 0, 0, 0, 0, 0, 0, 0, 1, 0, 0, 1, 0, 0, 0, 1, 0, 0, 1, 0, 1, 0, 1, 0, 0, 0, 0, 0, 1, 0, 0, 0, 0, 0, 0, 0, 0, 0, 0, 0, 0, 0, 0, 0, 0, 0, 0, 0, 0, 0, 0, 0, 0, 0, 0, 0, 0, 0, 0, 0, 0, 0, 0, 0, 0, 0, 0, 0, 1, 0, 0, 0, 0, 0, 0, 0, 0, 0, 0, 1, 0, 0, 0, 0, 1, 0, 0, 0, 1, 0, 0, 1, 0, 0, 0, 0, 0, 0, 0, 0, 0, 1, 0, 0, 1, 0, 0, 1, 0, 0, 0, 0, 1, 0, 0, 0, 0, 1, 0, 1, 0, 1, 0, 1, 0, 0, 1, 0, 0, 0, 0, 0, 0, 0, 0, 1, 1, 0, 0, 0, 0, 1, 0, 0, 0, 0, 0, 0, 0, 0, 0, 1, 0, 0, 0, 0, 0, 0, 0, 1, 0, 0, 0, 0, 0, 0, 0, 0, 0, 0, 0, 0, 0, 0, 0, 0, 0, 0, 0, 0, 0, 0, 0, 0, 0, 0, 0, 0, 0, 0, 0, 0, 0, 0, 1, 0, 0, 1, 0, 1, 0, 0, 0, 1, 0, 1, 0, 0, 0, 0, 0, 0, 1, 0, 0, 0, 0, 0, 0, 0, 0, 0, 0, 0, 0, 0, 0, 0, 0, 0, 0, 0, 0, 0, 0, 1, 0, 0, 0, 0, 0, 0, 0, 0, 1, 0, 0, 0, 0, 0, 0, 0, 0, 0, 0, 0, 0, 0, 1, 0, 0, 0, 0, 0, 0, 0, 1, 0, 0, 0, 0, 0, 0, 0, 0, 0, 0, 0, 0, 0, 0, 0, 0, 0, 0, 0, 0, 1, 0, 0, 0, 0, 1, 0, 0, 0, 0, 0, 0, 0, 0, 0, 0, 0, 0, 0, 0, 0, 0, 0, 0, 0, 0, 0, 0, 0, 0, 0, 0, 0, 0, 0, 0, 0, 0, 0, 0, 0, 0, 1, 1, 0, 0, 0, 1, 0, 0, 0, 1, 0, 0, 0, 0, 0, 0, 1, 0, 1, 1, 0, 0, 0, 0, 0, 1, 0, 0, 0, 0, 0, 1, 1, 0, 0, 0, 0, 0, 0, 0, 0, 1, 1, 1, 0, 0, 0, 0, 0, 0, 0, 0, 0, 0, 0, 0, 1, 0, 0, 0, 0, 0, 0, 1, 0, 0, 0, 0, 0, 0, 0, 0, 0, 0, 0, 0, 1, 0, 0, 0, 0, 0, 0, 0, 0, 0, 0, 0, 0, 0, 0, 0, 0, 0, 0, 0, 0, 0, 0, 1, 0, 0, 1, 0, 0, 0, 0, 0, 0, 0, 0, 0, 0, 0, 0, 0, 0, 0, 0, 1, 0, 1, 0, 0, 0, 0, 0, 1, 0, 0, 0, 0, 0, 0, 0, 0, 0, 0, 0, 0, 0, 0, 0, 0, 0, 0, 0, 0, 0, 0, 0, 1, 0, 1, 0, 0, 0, 1, 0, 0, 0, 0, 0, 0, 0, 0, 0, 0, 0, 0, 0, 0, 0, 0, 0, 0, 0, 0, 0, 0, 0, 0, 0, 0, 0, 0, 0, 0, 1, 0, 0, 0, 0, 0, 0, 0, 0, 0, 0, 0, 0, 1, 0, 1, 0, 0, 0, 0, 0, 1, 0, 0, 1, 0, 0, 0, 0, 1, 1, 0, 1, 0, 0, 0, 0, 0, 0, 0, 0, 1, 0, 0, 0, 0, 0, 1, 0, 0, 0, 1, 0, 0, 0, 0, 0, 0, 0, 0, 0, 0, 0, 0, 1, 0, 0, 0, 0, 0, 0, 0, 0, 0, 0, 0, 0, 0, 0, 1, 0, 0, 0, 0, 0, 0, 0, 0, 1, 0, 0, 1, 0, 0, 0, 0, 0, 0, 0, 0, 0, 1, 0, 0, 1, 0, 0, 0, 0, 0, 0, 0, 0, 0, 0, 1, 0, 0, 0, 0, 0, 0, 0, 0, 0, 0, 0, 0, 0, 0, 0, 0, 0, 0, 0, 1, 1, 0, 0, 0, 1, 0, 0, 0, 0, 0, 1, 0, 0, 0, 0, 0, 0, 0, 0, 0, 0, 1, 0, 0, 0, 0, 1, 0, 0, 0, 0, 0, 0, 0, 0, 0, 0, 1, 0, 0, 1, 0, 0, 0, 0, 0, 0, 1, 0, 0, 0, 0, 0, 1, 0, 0, 0, 1, 0, 0, 1, 0, 0, 0, 0, 0, 0, 0, 1, 0, 0, 0, 0, 0, 0, 0, 1, 0, 0, 0, 0, 1, 0, 0, 0, 1, 0, 0, 0, 1, 0, 0, 0, 0, 0, 0, 0, 0, 0, 1, 0, 0, 0, 1, 0, 0, 0, 0, 0, 1, 0, 0, 0, 0, 0, 0, 0, 1, 0, 0, 0, 1, 0, 0, 0, 0, 0, 0, 0, 0, 0, 0, 0, 0, 0, 1, 0, 0, 1, 0, 0, 0, 0, 0, 0, 1, 0, 0, 0, 0, 0, 0, 0, 0, 0, 0, 0, 0, 0, 0, 0, 1, 1, 0, 0, 0, 0, 0, 1, 0, 0, 0, 0, 0, 0, 0, 0, 1, 1, 0, 0, 0, 0, 0, 1, 0, 0, 0, 0, 0, 0, 1, 0, 0, 0, 0, 0, 1, 0, 0, 0, 0, 1, 0, 0, 0, 0, 0, 0, 1, 0, 0, 0, 0, 0, 0, 1, 0, 0, 0, 0, 0, 0, 0, 0, 0, 0, 0, 0, 0, 1, 0, 0, 0, 0, 1, 0, 0, 0, 0, 0, 1, 0, 0, 0, 0, 0, 0, 1, 0, 0, 0, 0, 0, 0, 1, 0, 0, 0, 0, 1, 0, 1, 0, 0, 0, 0, 0, 0, 1, 0, 0, 0, 0, 0, 0, 0, 0, 0, 0, 0, 0, 0, 1, 0, 0, 0, 1, 0, 0, 0, 0, 0, 0, 0, 1, 0, 0, 0, 0, 0, 0, 0, 0, 1, 1, 0, 0, 0, 0, 0, 0, 0, 0, 1, 0, 0, 0, 0, 1, 1, 1, 0, 1, 0, 0, 0, 0, 0, 0, 0, 0, 1, 0, 0, 0, 0, 0, 1, 0, 0, 0, 1, 1, 0, 0, 0, 0, 0, 0, 0, 0, 0, 0, 0, 0, 0, 0, 0, 0, 1, 0, 0, 0, 0, 0, 0, 0, 0, 0, 0, 0, 0, 0, 0, 0, 1, 0, 0, 1, 0, 0, 0, 0, 0, 1, 0, 0, 0, 0, 0, 0, 1, 0, 0, 1, 0, 0, 0, 0, 0, 0, 0, 0, 1, 0, 0, 0, 0, 0, 0, 0, 1, 0, 0, 0, 0, 0, 0, 1, 0, 0, 1, 0, 0, 0, 0, 0, 0, 1, 0, 0, 0, 1, 0, 0, 0, 0, 0, 0, 0, 0, 0, 0, 0, 0, 0, 0, 0, 0, 0, 0, 0, 0, 0, 0, 0, 1, 1, 1, 0, 0, 0, 0, 0, 0, 0, 0, 0, 0, 0, 0, 0, 0, 0, 0, 0, 0, 0, 0, 0, 0, 0, 0, 1, 0, 0, 0, 0, 0, 0, 0, 0, 0, 0, 0, 1, 0, 0, 0, 0, 0, 0, 0, 0, 0, 0, 0, 0, 1, 0, 0, 1, 0, 0, 0, 0, 1, 0, 1, 1, 0, 0, 1, 0, 1, 0, 0, 0, 0, 1, 0, 0, 1, 0, 0, 0, 0, 0, 0, 0, 0, 1, 0, 0, 0, 0, 0, 0, 1, 0, 0, 1, 0, 0, 1, 1, 0, 0, 0, 0, 1, 0, 0, 0, 0, 0, 0, 1, 0, 0, 0, 0, 0, 0, 0, 0, 0, 0, 0, 0, 1, 0, 1, 0, 0, 0, 0, 0, 0, 0, 1, 0, 0, 0, 0, 0, 0, 1, 0, 0, 0, 0, 0, 0, 0, 0, 0, 0, 1, 0, 0, 0, 1, 0, 1, 0, 0, 0, 0, 0, 0, 0, 0, 0, 0, 0, 0, 0, 0, 0, 0, 1, 1, 0, 0, 0, 0, 0, 1, 0, 1, 0, 0, 0, 1, 0, 0, 1, 0, 0, 0, 0, 0, 0, 0, 0, 0, 0, 0, 0, 0, 1, 0, 0, 0, 1, 0, 1, 1, 0, 0, 0, 0, 0, 1, 0, 0, 0, 0, 0, 0, 0, 0, 0, 1, 0, 0, 0, 0, 0, 0, 0, 1, 0, 0, 0, 0, 0, 0, 0, 0, 0, 0, 0, 0, 0, 0, 0, 0, 0, 0, 1, 0, 0, 0, 0, 0, 0, 0, 0, 0, 0, 0, 0, 1, 0, 0, 0, 0, 0, 0, 0, 0, 1, 0, 0, 0, 0, 0, 0, 0, 0, 0, 1, 0, 0, 0, 0, 0, 0, 0, 0, 1, 0, 0, 0, 0, 1, 0, 0, 0, 0, 0, 0, 0, 0, 0, 0, 0, 0, 0, 0, 0, 1, 0, 0, 0, 0, 0, 0, 1, 1, 0, 0, 1, 0, 0, 0, 0, 0, 0, 0, 0, 0, 0, 0, 0, 0, 0, 0, 1, 0, 0, 0, 0, 0, 0, 0, 0, 0, 0, 1, 0, 1, 0, 0, 0, 0, 0, 0, 0, 0, 0, 0, 1, 0, 0, 0, 0, 0, 1, 0, 0, 0, 0, 0, 0, 0, 0, 0, 0, 0, 0, 1, 0, 0, 0, 0, 0, 0, 0, 1, 0, 1, 0, 0, 0, 0, 1, 0, 0, 0, 0, 1, 0, 1, 0, 1, 0, 0, 0, 0, 0, 0, 0, 0, 1, 1, 0, 1, 1, 0, 0, 0, 0, 1, 0, 0, 0, 0, 0, 0, 0, 0, 0, 0, 0, 0, 0, 0, 1, 0, 0, 0, 0, 0, 0, 0, 0, 0, 0, 0, 0, 0, 0, 0, 1, 1, 0, 1, 0, 0, 0, 1, 0, 1, 0, 1, 1, 0, 0, 0, 0, 0, 0, 0, 0, 0, 0, 0, 0, 0, 0, 0, 0, 0, 0, 1, 0, 0, 0, 0, 0, 0, 1, 0, 0, 0, 0, 0, 0, 0, 0, 0, 0, 0, 0, 0, 0, 0, 0, 0, 0, 0, 0, 0, 0, 0, 0, 0, 0, 0, 0, 0, 0, 0, 1, 0, 0, 0, 1, 0, 0, 0, 0, 1, 0, 1, 0, 0, 0, 0, 0, 0, 0, 0, 1, 0, 0, 0, 0, 1, 0, 1, 0, 0, 0, 1, 0, 0, 0, 0, 0, 0, 1, 0, 0, 0, 0, 0, 1, 1, 0, 1, 1, 0, 0, 1, 0, 0, 0, 0, 1, 0, 0, 0, 0, 0, 0, 0, 0, 0, 0, 1, 0, 0, 1, 1, 0, 1, 0, 0, 1, 0, 0, 0, 0, 0, 0, 0, 0, 0, 0, 1, 0, 0, 0, 1, 0, 0, 0, 1, 0, 0, 1, 0, 0, 0, 0, 0, 0, 0, 0, 0, 0, 0, 0, 0, 0, 0, 1, 0, 0, 0, 0, 0, 0, 0, 0, 0, 0, 1, 0, 0, 0, 0, 0, 0, 0, 0, 0, 0, 0, 0, 0, 0, 0, 0, 1, 0, 0, 0, 0, 0, 1, 0, 0, 0, 0, 1, 0, 0, 0, 0, 0, 0, 0, 0, 0, 0, 0, 1, 0, 0, 0, 1, 0, 0, 1, 0, 1, 0, 0, 0, 0, 0, 1, 0, 0, 0, 0, 0, 0, 0, 0, 0, 0, 0, 0, 1, 0, 0, 0, 0, 0, 0, 0, 0, 0, 0, 0, 0, 1, 0, 0, 0, 0, 0, 0, 0, 0, 0, 0, 0, 0, 1, 0, 0, 0, 0, 0, 0, 1, 0, 0, 0, 0, 0, 0, 0, 0, 0, 0, 0, 1, 1, 0, 0, 1, 1, 0, 0, 0, 0, 0, 1, 0, 0, 0, 0, 0, 1, 0, 0, 0, 0, 0, 0, 0, 0, 0, 0, 0, 1, 0, 0, 0, 0, 0, 0, 0, 0, 0, 0, 0, 0, 0, 0, 0, 0, 0, 1, 0, 0, 0, 0, 1, 0, 0, 0, 0, 1, 1, 0, 0, 0, 0, 0, 1, 0, 0, 0, 1, 0, 0, 0, 0, 0, 0, 0, 0, 0, 0, 0, 0, 0, 0, 0, 1, 1, 0, 0, 0, 0, 0, 0, 0, 0, 0, 0, 0, 0, 0, 0, 0, 0, 0, 0, 0, 0, 0, 0, 0, 0, 0, 0, 0, 0, 0, 0, 0, 0, 0, 0, 0, 0, 0, 1, 0, 0, 0, 0, 1, 0, 0, 0, 0, 0, 0, 0, 0, 0, 0, 0, 1, 0, 1, 0, 0, 0, 0, 1, 0, 0, 0, 0, 1, 0, 0, 0, 1, 0, 0, 0, 1, 0, 0, 0, 0, 1, 0, 0, 1, 0, 0, 0, 0, 0, 1, 0, 0, 0, 0, 0, 1, 0, 0, 0, 0, 1, 0, 1, 0, 0, 0, 0, 0, 0, 1, 0, 0, 0, 0, 0, 0, 0, 0, 0, 0, 0, 0, 0, 0, 0, 0, 0, 0, 1, 0, 0, 0, 1, 1, 0, 0, 0, 0, 0, 0, 0, 0, 0, 1, 0, 0, 0, 0, 0, 0, 0, 0, 0, 0, 0, 0, 0, 0, 0, 0, 0, 0, 0, 1, 0, 0, 0, 0, 0, 1, 1, 0, 0, 1, 0, 0, 0, 0, 0, 0, 0, 0, 0, 0, 1, 0, 0, 0, 0, 0, 0, 0, 0, 0, 0, 0, 0, 0, 0, 1, 0, 0, 0, 0, 0, 1, 1, 0, 0, 0, 1, 0, 0, 0, 0, 1, 0, 0, 0, 0, 0, 0, 1, 0, 0, 0, 0, 0, 0, 0, 0, 0, 0, 1, 0, 0, 0, 0, 0, 0, 0, 0, 0, 1, 0, 0, 0, 1, 0, 0, 0, 1, 0, 0, 0, 0, 0, 0, 0, 0, 0, 0, 0, 0, 0, 0, 0, 0, 1, 1, 0, 0, 0, 0, 0, 1, 1, 0, 0, 0, 0, 0, 1, 0, 1, 0, 0, 0, 0, 1, 0, 0, 0, 0, 0, 1, 0, 0, 0, 0, 0, 0, 0, 0, 0, 0, 0, 0, 0, 0, 0, 0, 0, 0, 0, 0, 1, 0, 0, 0, 0, 0, 0, 0, 0, 1, 0, 1, 0, 0, 0, 1, 0, 0, 1, 0, 0, 0, 0, 0, 0, 0, 0, 1, 0, 0, 1, 0, 0, 0, 0, 0, 0, 0, 0, 0, 1, 0, 0, 0, 0, 0, 0, 1, 0, 0, 1, 0, 0, 1, 0, 1, 0, 1, 0, 0, 0, 0, 0, 0, 0, 0, 0, 0, 0, 0, 0, 0, 0, 0, 0, 0, 0, 0, 0, 0, 0, 0, 0, 0, 0, 1, 0, 1, 0, 0, 0, 0, 0, 0, 0, 0, 0, 0, 0, 0, 0, 1, 0, 0, 0, 0, 0, 1, 0, 0, 0, 0, 0, 0, 0, 0, 0, 0, 0, 0, 0, 0, 0, 0, 1, 0, 0, 0, 0, 0, 0, 1, 0, 0, 0, 0, 0, 0, 0, 1, 0, 0, 1, 0, 0, 0, 0, 0, 1, 0, 0, 0, 0, 1, 1, 0, 1, 0, 0, 0, 0, 1, 1, 0, 0, 0, 1, 1, 0, 0, 0, 0, 1, 1, 0, 0, 0, 0, 0, 1, 0, 0, 0, 0, 0, 0, 1, 0, 0, 1, 0, 1, 0, 0, 0, 1, 0, 0, 0, 1, 1, 0, 1, 0, 0, 0, 0, 0, 1, 0, 0, 0, 0, 1, 0, 0, 0, 0, 0, 0, 1, 0, 0, 0, 0, 1, 1, 0, 0, 0, 0, 0, 0, 1, 0, 0, 0, 0, 0, 0, 0, 0, 0, 0, 0, 0, 0, 0, 0, 0, 0, 0, 1, 0, 0, 0, 0, 0, 0, 0, 0, 0, 0, 1, 0, 0, 0, 0, 0, 0, 0, 1, 0, 0, 0, 0, 0, 0, 0, 1, 0, 0, 0, 0, 0, 0, 0, 0, 0, 0, 0, 1, 0, 0, 1, 0, 0, 0, 0, 1, 0, 0, 0, 0, 1, 0, 0, 0, 0, 0, 1, 0, 0, 0, 0, 0, 0, 0, 0, 0, 0, 0, 0, 0, 0, 0, 0, 0, 0, 0, 0, 0, 0, 0, 0, 0, 0, 0, 0, 0, 0, 0, 0, 0, 0, 0, 0, 0, 0, 0, 0, 1, 0, 1, 0, 0, 0, 0, 0, 0, 0, 0, 0, 1, 0, 0, 0, 1, 0, 0, 0, 1, 0, 0, 0, 0, 0, 0, 0, 0, 0, 0, 0, 0, 1, 1, 0, 0, 0, 0, 0, 0, 0, 0, 1, 0, 0, 0, 0, 0, 0, 1, 1, 0, 0, 0, 0, 0, 0, 0, 0, 0, 0, 0, 0, 0, 0, 0, 1, 0, 1, 0, 0, 1, 0, 0, 0, 0, 0, 0, 0, 0, 1, 0, 1, 0, 0, 0, 1, 0, 0, 0, 1, 0, 1, 0, 1, 0, 0, 0, 0, 0, 0, 0, 0, 0, 0, 0, 0, 0, 0, 0, 0, 1, 0, 0, 0, 0, 0, 0, 0, 0, 0, 1, 0, 0, 0, 0, 0, 1, 0, 0, 0, 0, 0, 0, 1, 0, 0, 0, 0, 0, 0, 0, 0, 0, 0, 0, 0, 0, 0, 0, 1, 1, 0, 0, 1, 1, 1, 0, 0, 0, 0, 1, 0, 0, 0, 0, 0, 0, 0, 1, 0, 0, 0, 0, 1, 1, 0, 0, 0, 0, 0, 1, 1, 0, 1, 0, 0, 1, 0, 0, 0, 1, 1, 0, 0], \"xaxis\": \"x\", \"y\": [195.0, 250.0, 245.0, 225.0, 285.0, 228.0, 205.0, 313.0, 260.0, 225.0, 254.0, 247.0, 294.0, 332.0, 221.0, 232.0, 291.0, 195.0, 195.0, 190.0, 234.0, 215.0, 270.0, 294.0, 225.0, 272.0, 247.0, 295.0, 226.0, 209.0, 214.0, 225.0, 178.0, 233.0, 180.0, 243.0, 237.0, 195.0, 311.0, 208.0, 252.0, 261.0, 179.0, 267.0, 216.0, 237.0, 240.0, 250.0, 266.0, 255.0, 185.0, 205.0, 270.0, 254.0, 220.0, 235.0, 220.0, 252.0, 212.0, 223.0, 300.0, 302.0, 175.0, 189.0, 221.0, 258.0, 202.0, 183.0, 274.0, 170.0, 285.0, 210.0, 170.0, 210.0, 197.0, 261.0, 326.0, 252.0, 274.0, 188.0, 256.0, 244.0, 311.0, 243.0, 193.0, 239.0, 296.0, 269.0, 220.0, 275.0, 268.0, 265.0, 173.0, 273.0, 250.0, 290.0, 278.0, 197.0, 264.0, 233.0, 282.0, 257.0, 278.0, 185.0, 210.0, 175.0, 241.0, 237.0, 288.0, 200.0, 183.0, 223.0, 244.0, 235.0, 210.0, 213.0, 244.0, 303.0, 246.0, 150.0, 270.0, 266.0, 246.0, 187.0, 286.0, 240.0, 154.0, 266.0, 279.0, 293.0, 259.0, 219.0, 210.0, 230.0, 320.0, 220.0, 312.0, 214.0, 209.0, 195.0, 265.0, 254.0, 165.0, 159.0, 244.0, 174.0, 242.0, 301.0, 266.0, 167.0, 205.0, 210.0, 197.0, 235.0, 220.0, 265.0, 200.0, 308.0, 245.0, 325.0, 229.0, 236.0, 214.0, 300.0, 225.0, 215.0, 225.0, 216.0, 224.0, 215.0, 216.0, 245.0, 253.0, 241.0, 235.0, 464.0, 226.0, 308.0, 248.0, 215.0, 240.0, 171.0, 189.0, 240.0, 186.0, 227.0, 273.0, 212.0, 249.0, 185.0, 176.0, 285.0, 254.0, 237.0, 175.0, 196.0, 150.0, 180.0, 242.0, 173.0, 257.0, 193.0, 243.0, 239.0, 273.0, 220.0, 303.0, 310.0, 232.0, 164.0, 245.0, 135.0, 265.0, 291.0, 273.0, 238.0, 207.0, 219.0, 246.0, 197.0, 260.0, 342.0, 180.0, 287.0, 182.0, 224.0, 238.0, 252.0, 212.0, 300.0, 165.0, 352.0, 240.0, 284.0, 219.0, 176.0, 203.0, 265.0, 219.0, 245.0, 312.0, 273.0, 254.0, 273.0, 254.0, 262.0, 215.0, 302.0, 185.0, 284.0, 325.0, 260.0, 164.0, 270.0, 186.0, 258.0, 228.0, 155.0, 270.0, 323.0, 242.0, 310.0, 206.0, 173.0, 283.0, 319.0, 282.0, 188.0, 221.0, 269.0, 250.0, 194.0, 258.0, 272.0, 260.0, 270.0, 340.0, 197.0, 240.0, 240.0, 220.0, 200.0, 328.0, 222.0, 246.0, 246.0, 186.0, 197.0, 311.0, 368.0, 220.0, 218.0, 241.0, 219.0, 312.0, 200.0, 237.0, 207.0, 238.0, 250.0, 238.0, 276.0, 339.0, 231.0, 187.0, 198.0, 196.0, 225.0, 202.0, 231.0, 210.0, 230.0, 283.0, 203.0, 200.0, 244.0, 212.0, 218.0, 185.0, 282.0, 198.0, 248.0, 290.0, 239.0, 245.0, 200.0, 201.0, 290.0, 285.0, 203.0, 250.0, 290.0, 258.0, 246.0, 220.0, 195.0, 235.0, 223.0, 308.0, 167.0, 185.0, 240.0, 245.0, 310.0, 300.0, 256.0, 202.0, 155.0, 207.0, 276.0, 215.0, 277.0, 179.0, 226.0, 245.0, 240.0, 218.0, 229.0, 174.0, 285.0, 323.0, 206.0, 246.0, 304.0, 235.0, 232.0, 177.0, 188.0, 176.0, 268.0, 195.0, 197.0, 268.0, 212.0, 220.0, 240.0, 226.0, 237.0, 199.0, 206.0, 265.0, 260.0, 243.0, 258.0, 182.0, 209.0, 266.0, 210.0, 292.0, 190.0, 234.0, 173.0, 227.0, 186.0, 195.0, 284.0, 177.0, 305.0, 195.0, 227.0, 245.0, 250.0, 152.0, 222.0, 243.0, 270.0, 252.0, 235.0, 161.0, 168.0, 247.0, 250.0, 219.0, 320.0, 253.0, 319.0, 176.0, 239.0, 230.0, 190.0, 181.0, 220.0, 207.0, 269.0, 258.0, 340.0, 277.0, 245.0, 233.0, 258.0, 210.0, 248.0, 251.0, 258.0, 201.0, 303.0, 248.0, 296.0, 218.0, 235.0, 240.0, 234.0, 278.0, 269.0, 203.0, 243.0, 231.0, 271.0, 261.0, 203.0, 210.0, 206.0, 301.0, 241.0, 215.0, 261.0, 266.0, 237.0, 217.0, 176.0, 370.0, 182.0, 245.0, 292.0, 246.0, 193.0, 247.0, 300.0, 213.0, 439.0, 171.0, 227.0, 207.0, 145.0, 210.0, 245.0, 258.0, 233.0, 240.0, 213.0, 242.0, 214.0, 241.0, 250.0, 240.0, 188.0, 275.0, 252.0, 253.0, 278.0, 232.0, 189.0, 242.0, 247.0, 230.0, 223.0, 263.0, 277.0, 215.0, 210.0, 300.0, 287.0, 234.0, 176.0, 240.0, 300.0, 258.0, 215.0, 197.0, 210.0, 220.0, 294.0, 232.0, 220.0, 205.0, 198.0, 208.0, 276.0, 216.0, 254.0, 246.0, 330.0, 170.0, 245.0, 286.0, 250.0, 270.0, 287.0, 218.0, 222.0, 170.0, 197.0, 157.0, 244.0, 252.0, 203.0, 398.0, 207.0, 264.0, 214.0, 272.0, 200.0, 269.0, 250.0, 219.0, 187.0, 243.0, 190.0, 267.0, 218.0, 195.0, 266.0, 229.0, 264.0, 273.0, 162.0, 250.0, 314.0, 219.0, 250.0, 230.0, 195.0, 194.0, 224.0, 166.0, 160.0, 238.0, 281.0, 292.0, 203.0, 250.0, 240.0, 193.0, 243.0, 292.0, 200.0, 295.0, 255.0, 285.0, 206.0, 300.0, 289.0, 287.0, 253.0, 199.0, 262.0, 355.0, 223.0, 307.0, 220.0, 240.0, 234.0, 239.0, 225.0, 267.0, 227.0, 300.0, 248.0, 215.0, 215.0, 156.0, 289.0, 329.0, 270.0, 267.0, 272.0, 195.0, 203.0, 212.0, 190.0, 222.0, 206.0, 262.0, 294.0, 251.0, 160.0, 143.0, 245.0, 200.0, 215.0, 185.0, 212.0, 255.0, 211.0, 212.0, 200.0, 278.0, 240.0, 298.0, 271.0, 283.0, 241.0, 251.0, 292.0, 245.0, 168.0, 197.0, 152.0, 225.0, 296.0, 211.0, 334.0, 241.0, 196.0, 215.0, 188.0, 290.0, 229.0, 196.0, 249.0, 210.0, 232.0, 205.0, 245.0, 249.0, 160.0, 251.0, 207.0, 214.0, 296.0, 250.0, 193.0, 278.0, 254.0, 192.0, 184.0, 267.0, 162.0, 220.0, 204.0, 280.0, 180.0, 210.0, 246.0, 262.0, 193.0, 218.0, 152.0, 253.0, 175.0, 177.0, 199.0, 211.0, 258.0, 256.0, 207.0, 260.0, 272.0, 208.0, 222.0, 219.0, 228.0, 230.0, 167.0, 175.0, 280.0, 242.0, 231.0, 238.0, 314.0, 219.0, 219.0, 326.0, 255.0, 191.0, 239.0, 292.0, 233.0, 237.0, 231.0, 260.0, 225.0, 210.0, 205.0, 305.0, 178.0, 217.0, 328.0, 232.0, 261.0, 217.0, 197.0, 173.0, 248.0, 205.0, 234.0, 240.0, 266.0, 244.0, 241.0, 207.0, 214.0, 225.0, 214.0, 304.0, 238.0, 241.0, 255.0, 212.0, 207.0, 222.0, 220.0, 240.0, 231.0, 268.0, 256.0, 195.0, 247.0, 166.0, 248.0, 165.0, 283.0, 261.0, 264.0, 273.0, 234.0, 197.0, 202.0, 163.0, 247.0, 251.0, 205.0, 225.0, 250.0, 255.0, 239.0, 264.0, 232.0, 232.0, 225.0, 221.0, 242.0, 194.0, 238.0, 206.0, 273.0, 290.0, 290.0, 180.0, 233.0, 199.0, 255.0, 200.0, 244.0, 255.0, 257.0, 176.0, 217.0, 282.0, 318.0, 220.0, 201.0, 206.0, 259.0, 224.0, 154.0, 273.0, 303.0, 229.0, 253.0, 152.0, 194.0, 353.0, 298.0, 253.0, 318.0, 196.0, 360.0, 230.0, 243.0, 247.0, 229.0, 280.0, 335.0, 219.0, 168.0, 250.0, 260.0, 232.0, 284.0, 247.0, 150.0, 202.0, 215.0, 229.0, 285.0, 220.0, 274.0, 234.0, 170.0, 268.0, 257.0, 252.0, 285.0, 209.0, 262.0, 261.0, 202.0, 160.0, 218.0, 284.0, 265.0, 210.0, 266.0, 256.0, 199.0, 171.0, 205.0, 225.0, 272.0, 269.0, 160.0, 158.0, 239.0, 258.0, 201.0, 340.0, 192.0, 300.0, 177.0, 194.0, 266.0, 287.0, 247.0, 199.0, 205.0, 310.0, 270.0, 199.0, 255.0, 168.0, 216.0, 263.0, 175.0, 240.0, 220.0, 310.0, 186.0, 220.0, 232.0, 240.0, 187.0, 213.0, 210.0, 267.0, 332.0, 236.0, 232.0, 242.0, 224.0, 167.0, 277.0, 227.0, 217.0, 200.0, 197.0, 279.0, 236.0, 218.0, 187.0, 222.0, 183.0, 264.0, 270.0, 207.0, 192.0, 285.0, 250.0, 211.0, 201.0, 164.0, 220.0, 270.0, 346.0, 266.0, 169.0, 237.0, 250.0, 245.0, 271.0, 176.0, 240.0, 187.0, 252.0, 140.0, 185.0, 324.0, 273.0, 245.0, 229.0, 200.0, 276.0, 181.0, 170.0, 190.0, 225.0, 273.0, 263.0, 290.0, 273.0, 265.0, 279.0, 232.0, 346.0, 253.0, 216.0, 220.0, 239.0, 261.0, 210.0, 253.0, 263.0, 265.0, 219.0, 246.0, 200.0, 220.0, 279.0, 274.0, 229.0, 352.0, 230.0, 209.0, 227.0, 159.0, 201.0, 600.0, 241.0, 238.0, 220.0, 175.0, 272.0, 267.0, 241.0, 251.0, 210.0, 259.0, 202.0, 253.0, 236.0, 292.0, 215.0, 206.0, 293.0, 262.0, 282.0, 245.0, 192.0, 217.0, 249.0, 256.0, 315.0, 224.0, 196.0, 225.0, 270.0, 265.0, 193.0, 392.0, 239.0, 261.0, 242.0, 222.0, 242.0, 257.0, 291.0, 229.0, 223.0, 214.0, 239.0, 250.0, 334.0, 322.0, 291.0, 214.0, 200.0, 256.0, 221.0, 185.0, 304.0, 248.0, 221.0, 242.0, 170.0, 233.0, 315.0, 205.0, 267.0, 261.0, 306.0, 169.0, 260.0, 242.0, 280.0, 231.0, 270.0, 216.0, 320.0, 214.0, 304.0, 248.0, 246.0, 253.0, 256.0, 245.0, 205.0, 199.0, 304.0, 206.0, 309.0, 234.0, 305.0, 208.0, 210.0, 271.0, 264.0, 209.0, 248.0, 155.0, 149.0, 255.0, 137.0, 160.0, 226.0, 197.0, 279.0, 195.0, 231.0, 229.0, 242.0, 230.0, 183.0, 208.0, 261.0, 246.0, 172.0, 216.0, 222.0, 298.0, 208.0, 213.0, 266.0, 220.0, 210.0, 252.0, 285.0, 175.0, 225.0, 213.0, 252.0, 318.0, 230.0, 248.0, 270.0, 245.0, 196.0, 220.0, 190.0, 218.0, 184.0, 205.0, 272.0, 186.0, 218.0, 234.0, 270.0, 154.0, 253.0, 214.0, 226.0, 187.0, 241.0, 195.0, 233.0, 218.0, 238.0, 244.0, 222.0, 197.0, 240.0, 222.0, 310.0, 175.0, 312.0, 253.0, 226.0, 180.0, 259.0, 216.0, 260.0, 233.0, 280.0, 170.0, 212.0, 206.0, 230.0, 158.0, 183.0, 211.0, 238.0, 186.0, 239.0, 277.0, 235.0, 207.0, 256.0, 230.0, 199.0, 271.0, 250.0, 152.0, 300.0, 287.0, 237.0, 214.0, 201.0, 180.0, 248.0, 240.0, 304.0, 271.0, 250.0, 200.0, 272.0, 211.0, 230.0, 225.0, 185.0, 260.0, 292.0, 246.0, 165.0, 198.0, 204.0, 253.0, 210.0, 217.0, 190.0, 205.0, 235.0, 259.0, 289.0, 272.0, 249.0, 194.0, 340.0, 314.0, 226.0, 225.0, 232.0, 278.0, 305.0, 317.0, 292.0, 175.0, 295.0, 262.0, 234.0, 240.0, 251.0, 358.0, 239.0, 185.0, 217.0, 220.0, 272.0, 211.0, 155.0, 252.0, 172.0, 244.0, 246.0, 276.0, 229.0, 204.0, 170.0, 192.0, 234.0, 161.0, 251.0, 255.0, 345.0, 212.0, 210.0, 245.0, 231.0, 187.0, 190.0, 174.0, 243.0, 160.0, 250.0, 263.0, 221.0, 271.0, 260.0, 213.0, 239.0, 252.0, 201.0, 261.0, 329.0, 229.0, 254.0, 293.0, 250.0, 262.0, 256.0, 239.0, 186.0, 232.0, 260.0, 391.0, 275.0, 231.0, 215.0, 279.0, 249.0, 198.0, 246.0, 246.0, 310.0, 219.0, 215.0, 214.0, 318.0, 335.0, 206.0, 325.0, 237.0, 234.0, 340.0, 258.0, 260.0, 176.0, 206.0, 278.0, 214.0, 334.0, 290.0, 172.0, 194.0, 295.0, 185.0, 255.0, 179.0, 258.0, 206.0, 215.0, 254.0, 230.0, 326.0, 232.0, 306.0, 242.0, 160.0, 304.0, 232.0, 165.0, 262.0, 234.0, 217.0, 275.0, 230.0, 241.0, 265.0, 220.0, 217.0, 320.0, 255.0, 222.0, 235.0, 220.0, 252.0, 219.0, 248.0, 253.0, 273.0, 306.0, 269.0, 190.0, 169.0, 220.0, 210.0, 326.0, 195.0, 205.0, 169.0, 264.0, 218.0, 211.0, 239.0, 185.0, 220.0, 183.0, 214.0, 293.0, 238.0, 410.0, 193.0, 212.0, 182.0, 276.0, 213.0, 213.0, 274.0, 182.0, 285.0, 297.0, 209.0, 213.0, 294.0, 250.0, 167.0, 258.0, 222.0, 190.0, 302.0, 179.0, 219.0, 312.0, 233.0, 187.0, 219.0, 323.0, 271.0, 226.0, 255.0, 204.0, 286.0, 272.0, 242.0, 203.0, 234.0, 246.0, 212.0, 259.0, 235.0, 309.0, 170.0, 157.0, 186.0, 249.0, 270.0, 168.0, 289.0, 272.0, 235.0, 274.0, 246.0, 200.0, 249.0, 271.0, 286.0, 237.0, 234.0, 255.0, 190.0, 219.0, 254.0, 170.0, 180.0, 178.0, 338.0, 241.0, 221.0, 247.0, 244.0, 229.0, 197.0, 200.0, 312.0, 313.0, 240.0, 204.0, 246.0, 211.0, 200.0, 265.0, 298.0, 325.0, 271.0, 229.0, 159.0, 216.0, 268.0, 231.0, 231.0, 246.0, 195.0, 148.0, 222.0, 174.0, 180.0, 248.0, 222.0, 173.0, 209.0, 320.0, 246.0, 258.0, 240.0, 285.0, 202.0, 305.0, 272.0, 233.0, 192.0, 214.0, 229.0, 187.0, 270.0, 175.0, 268.0, 165.0, 164.0, 240.0, 225.0, 215.0, 155.0, 169.0, 259.0, 372.0, 170.0, 225.0, 226.0, 250.0, 229.0, 201.0, 170.0, 246.0, 246.0, 265.0, 223.0, 203.0, 234.0, 206.0, 269.0, 366.0, 262.0, 208.0, 227.0, 257.0, 277.0, 201.0, 270.0, 268.0, 260.0, 247.0, 222.0, 286.0, 281.0, 239.0, 248.0, 241.0, 221.0, 191.0, 190.0, 226.0, 279.0, 293.0, 289.0, 294.0, 150.0, 333.0, 255.0, 225.0, 296.0, 192.0, 208.0, 280.0, 197.0, 215.0, 285.0, 250.0, 164.0, 234.0, 212.0, 195.0, 274.0, 250.0, 207.0, 283.0, 327.0, 270.0, 260.0, 320.0, 285.0, 281.0, 249.0, 193.0, 180.0, 235.0, 295.0, 158.0, 253.0, 226.0, 230.0, 235.0, 245.0, 157.0, 204.0, 184.0, 215.0, 264.0, 176.0, 170.0, 209.0, 189.0, 202.0, 211.0, 240.0, 188.0, 275.0, 205.0, 160.0, 224.0, 285.0, 275.0, 238.0, 236.0, 212.0, 195.0, 238.0, 180.0, 256.0, 225.0, 180.0, 206.0, 342.0, 234.0, 233.0, 280.0, 188.0, 244.0, 245.0, 200.0, 167.0, 196.0, 246.0, 265.0, 203.0, 235.0, 256.0, 210.0, 233.0, 183.0, 344.0, 201.0, 340.0, 227.0, 256.0, 252.0, 194.0, 196.0, 190.0, 232.0, 289.0, 252.0, 196.0, 211.0, 229.0, 214.0, 294.0, 182.0, 204.0, 241.0, 326.0, 283.0, 235.0, 227.0, 249.0, 235.0, 344.0, 310.0, 213.0, 233.0, 298.0, 229.0, 200.0, 301.0, 217.0, 287.0, 310.0, 251.0, 221.0, 219.0, 290.0, 225.0, 288.0, 225.0, 215.0, 280.0, 235.0, 239.0, 230.0, 300.0, 283.0, 230.0, 238.0, 225.0, 261.0, 161.0, 186.0, 232.0, 229.0, 286.0, 245.0, 210.0, 220.0, 175.0, 219.0, 228.0, 300.0, 261.0, 184.0, 215.0, 188.0, 256.0, 223.0, 292.0, 211.0, 167.0, 286.0, 193.0, 222.0, 288.0, 240.0, 224.0, 246.0, 202.0, 307.0, 410.0, 243.0, 296.0, 237.0, 237.0, 227.0, 220.0, 161.0, 232.0, 213.0, 250.0, 295.0, 232.0, 210.0, 222.0, 216.0, 190.0, 262.0, 260.0, 229.0, 289.0, 192.0, 229.0, 238.0, 244.0, 226.0, 250.0, 249.0, 266.0, 212.0, 176.0, 236.0, 224.0, 330.0, 238.0, 319.0, 162.0, 174.0, 238.0, 279.0, 198.0, 144.0, 193.0, 234.0, 241.0, 224.0, 260.0, 195.0, 228.0, 260.0, 192.0, 300.0, 266.0, 261.0, 227.0, 279.0, 190.0, 150.0, 280.0, 225.0, 260.0, 240.0, 280.0, 233.0, 273.0, 390.0, 207.0, 226.0, 245.0, 282.0, 287.0, 173.0, 196.0, 244.0, 165.0, 221.0, 321.0, 192.0, 262.0, 216.0, 184.0, 225.0, 224.0, 237.0, 229.0, 253.0, 234.0, 281.0, 273.0, 163.0, 229.0, 210.0, 163.0, 251.0, 305.0, 165.0, 257.0, 203.0, 220.0, 255.0, 274.0, 210.0, 165.0, 288.0, 245.0, 216.0, 166.0, 287.0, 220.0, 182.0, 266.0, 237.0, 308.0, 270.0, 263.0, 213.0, 259.0, 236.0, 232.0, 185.0, 228.0, 177.0, 265.0, 206.0, 209.0, 243.0, 305.0, 200.0, 264.0, 309.0, 250.0, 275.0, 260.0, 217.0, 217.0, 258.0, 180.0, 177.0, 258.0, 195.0, 160.0, 266.0, 254.0, 200.0, 195.0, 234.0, 225.0, 225.0, 276.0, 179.0, 216.0, 298.0, 143.0, 290.0, 195.0, 164.0, 259.0, 206.0, 298.0, 283.0, 234.0, 202.0, 258.0, 293.0, 245.0, 154.0, 310.0, 186.0, 170.0, 271.0, 200.0, 305.0, 265.0, 260.0, 162.0, 212.0, 212.0, 274.0, 274.0, 328.0, 165.0, 240.0, 255.0, 210.0, 249.0, 205.0, 203.0, 247.0, 205.0, 229.0, 273.0, 229.0, 300.0, 279.0, 250.0, 293.0, 238.0, 297.0, 232.0, 165.0, 232.0, 209.0, 339.0, 272.0, 288.0, 190.0, 293.0, 190.0, 260.0, 230.0, 258.0, 209.0, 232.0, 260.0, 260.0, 405.0, 197.0, 359.0, 234.0, 230.0, 174.0, 295.0, 243.0, 260.0, 195.0, 226.0, 182.0, 288.0, 322.0, 230.0, 309.0, 240.0, 205.0, 232.0, 193.0, 167.0, 238.0, 285.0, 239.0, 235.0, 219.0, 207.0, 260.0, 246.0, 288.0, 255.0, 270.0, 239.0, 202.0, 233.0, 200.0, 243.0, 250.0, 235.0, 178.0, 207.0, 220.0, 205.0, 197.0, 213.0, 232.0, 238.0, 258.0, 208.0, 268.0, 314.0, 260.0, 148.0, 199.0, 275.0, 346.0, 237.0, 193.0, 350.0, 166.0, 219.0, 281.0, 272.0, 243.0, 208.0, 240.0, 240.0, 206.0, 251.0, 270.0, 292.0, 235.0, 212.0, 200.0, 238.0, 227.0, 254.0, 213.0, 190.0, 195.0, 230.0, 336.0, 204.0, 180.0, 230.0, 175.0, 235.0, 199.0, 202.0, 274.0, 246.0, 275.0, 203.0, 245.0, 205.0, 213.0, 233.0, 200.0, 195.0, 312.0, 192.0, 176.0, 157.0, 183.0, 249.0, 233.0, 259.0, 252.0, 273.0, 193.0, 199.0, 229.0, 181.0, 168.0, 267.0, 261.0, 235.0, 281.0, 201.0, 215.0, 218.0, 266.0, 217.0, 241.0, 226.0, 216.0, 380.0, 233.0, 270.0, 281.0, 299.0, 243.0, 293.0, 270.0, 262.0, 212.0, 232.0, 254.0, 200.0, 355.0, 210.0, 242.0, 240.0, 390.0, 190.0, 212.0, 315.0, 230.0, 189.0, 218.0, 264.0, 279.0, 287.0, 186.0, 235.0, 156.0, 275.0, 310.0, 259.0, 240.0, 332.0, 228.0, 280.0, 254.0, 205.0, 265.0, 227.0, 342.0, 302.0, 152.0, 193.0, 196.0, 326.0, 135.0, 156.0, 230.0, 303.0, 220.0, 233.0, 323.0, 288.0, 190.0, 255.0, 218.0, 179.0, 212.0, 216.0, 205.0, 188.0, 260.0, 180.0, 221.0, 159.0, 216.0, 193.0, 229.0, 268.0, 205.0, 214.0, 193.0, 189.0, 248.0, 185.0, 155.0, 161.0, 266.0, 275.0, 224.0, 223.0, 325.0, 278.0, 124.0, 253.0, 250.0, 213.0, 264.0, 214.0, 205.0, 243.0, 295.0, 187.0, 189.0, 242.0, 236.0, 185.0, 270.0, 285.0, 185.0, 299.0, 266.0, 290.0, 261.0, 237.0, 189.0, 208.0, 259.0, 212.0, 202.0, 227.0, 261.0, 239.0, 165.0, 198.0, 232.0, 252.0, 260.0, 230.0, 260.0, 271.0, 220.0, 200.0, 273.0, 235.0, 201.0, 371.0, 201.0, 309.0, 190.0, 312.0, 300.0, 227.0, 215.0, 235.0, 270.0, 300.0, 232.0, 277.0, 270.0, 219.0, 309.0, 199.0, 258.0, 199.0, 199.0, 223.0, 212.0, 206.0, 172.0, 211.0, 334.0, 197.0, 280.0, 181.0, 224.0, 216.0, 222.0, 113.0, 212.0, 309.0, 238.0, 180.0, 317.0, 201.0, 167.0, 302.0, 228.0, 226.0, 232.0, 215.0, 214.0, 266.0, 234.0, 155.0, 240.0, 178.0, 254.0, 274.0, 266.0, 237.0, 260.0, 190.0, 188.0, 200.0, 167.0, 248.0, 176.0, 226.0, 233.0, 253.0, 170.0, 273.0, 207.0, 227.0, 150.0, 204.0, 215.0, 226.0, 333.0, 304.0, 350.0, 275.0, 315.0, 290.0, 251.0, 248.0, 231.0, 180.0, 256.0, 168.0, 207.0, 246.0, 295.0, 216.0, 249.0, 221.0, 214.0, 214.0, 213.0, 240.0, 230.0, 252.0, 354.0, 320.0, 193.0, 243.0, 268.0, 382.0, 231.0, 288.0, 211.0, 240.0, 210.0, 287.0, 205.0, 195.0, 188.0, 240.0, 241.0, 308.0, 213.0, 232.0, 225.0, 312.0, 280.0, 288.0, 222.0, 267.0, 202.0, 345.0, 295.0, 173.0, 215.0, 260.0, 243.0, 246.0, 205.0, 219.0, 262.0, 155.0, 254.0, 150.0, 255.0, 279.0, 210.0, 226.0, 171.0, 220.0, 208.0, 211.0, 248.0, 344.0, 285.0, 158.0, 272.0, 175.0, 209.0, 292.0, 318.0, 230.0, 364.0, 339.0, 242.0, 230.0, 179.0, 215.0, 210.0, 250.0, 307.0, 253.0, 242.0, 291.0, 295.0, 173.0, 248.0, 194.0, 204.0, 220.0, 246.0, 207.0, 177.0, 208.0, 259.0, 262.0, 322.0, 219.0, 288.0, 335.0, 192.0, 198.0, 274.0, 228.0, 215.0, 263.0, 285.0, 309.0, 341.0, 265.0, 195.0, 240.0, 282.0, 216.0, 260.0, 205.0, 286.0, 225.0, 275.0, 231.0, 212.0, 238.0, 211.0, 300.0, 232.0, 190.0, 180.0, 236.0, 211.0, 212.0, 249.0, 200.0, 159.0, 228.0, 187.0, 275.0, 264.0, 210.0, 232.0, 305.0, 229.0, 285.0, 205.0, 175.0, 238.0, 293.0, 208.0, 170.0, 244.0, 205.0, 234.0, 197.0, 209.0, 231.0, 253.0, 226.0, 228.0, 261.0, 240.0, 280.0, 260.0, 235.0, 278.0, 238.0, 210.0, 239.0, 344.0, 193.0, 281.0, 189.0, 179.0, 243.0, 230.0, 274.0, 268.0, 220.0, 286.0, 133.0, 295.0, 280.0, 367.0, 207.0, 224.0, 160.0, 313.0, 191.0, 219.0, 212.0, 241.0, 215.0, 188.0, 214.0, 193.0, 201.0, 214.0, 208.0, 194.0, 230.0, 265.0, 263.0, 279.0, 304.0, 218.0, 272.0, 285.0, 240.0, 232.0, 252.0, 237.0, 220.0, 177.0, 230.0, 219.0, 185.0, 230.0, 297.0, 203.0, 173.0, 282.0, 220.0, 264.0, 257.0, 208.0, 184.0, 237.0, 262.0, 172.0, 240.0, 263.0, 280.0, 165.0, 188.0, 314.0, 320.0, 153.0, 255.0, 205.0, 163.0, 281.0, 194.0, 226.0, 163.0, 214.0, 215.0, 212.0, 152.0, 253.0, 280.0, 240.0, 228.0, 264.0, 247.0, 291.0, 175.0, 280.0, 211.0, 260.0, 234.0, 238.0, 205.0, 201.0, 292.0, 189.0, 241.0, 248.0, 144.0, 346.0, 224.0, 250.0, 290.0, 178.0, 231.0, 203.0, 174.0, 206.0, 179.0, 229.0, 303.0, 223.0, 252.0, 183.0, 230.0, 263.0, 210.0, 243.0, 192.0, 296.0, 228.0, 345.0, 273.0, 252.0, 206.0, 258.0, 230.0, 283.0, 218.0, 280.0, 240.0, 163.0, 254.0, 295.0, 276.0, 225.0, 176.0, 217.0, 220.0, 287.0, 279.0, 217.0, 254.0, 328.0, 306.0, 281.0, 260.0, 237.0, 160.0, 180.0, 180.0, 260.0, 258.0, 274.0, 228.0, 193.0, 202.0, 248.0, 237.0, 262.0, 229.0, 352.0, 280.0, 270.0, 220.0, 252.0, 225.0, 234.0, 258.0, 280.0, 233.0, 265.0, 258.0, 241.0, 432.0, 189.0, 230.0, 240.0, 252.0, 172.0, 239.0, 317.0, 229.0, 200.0, 234.0, 260.0, 232.0, 216.0, 258.0, 185.0, 181.0, 217.0, 210.0, 264.0, 188.0, 204.0, 191.0, 200.0, 165.0, 216.0, 195.0, 240.0, 273.0, 273.0, 250.0, 300.0, 266.0, 239.0, 273.0, 261.0, 282.0, 290.0, 232.0, 313.0, 310.0, 225.0, 226.0, 226.0, 195.0, 271.0, 287.0, 257.0, 177.0, 235.0, 266.0, 239.0, 270.0, 241.0, 243.0, 278.0, 315.0, 351.0, 174.0, 196.0, 275.0, 254.0, 239.0, 280.0, 165.0, 328.0, 243.0, 217.0, 196.0, 256.0, 192.0, 193.0, 214.0, 297.0, 184.0, 257.0, 269.0, 223.0, 245.0, 177.0, 289.0, 163.0, 260.0, 177.0, 220.0, 278.0, 167.0, 216.0, 274.0, 204.0, 298.0, 192.0, 254.0, 249.0, 303.0, 230.0, 252.0, 262.0, 177.0, 236.0, 337.0, 248.0, 256.0, 210.0, 275.0, 238.0, 195.0, 268.0, 260.0, 248.0, 267.0, 240.0, 198.0, 221.0, 182.0, 213.0, 274.0, 260.0, 222.0, 326.0, 279.0, 280.0, 272.0, 286.0, 254.0, 231.0, 273.0, 226.0, 221.0, 243.0, 257.0, 275.0, 295.0, 310.0, 246.0, 305.0, 293.0, 193.0, 219.0, 200.0, 270.0, 234.0, 240.0, 234.0, 292.0, 363.0, 226.0, 217.0, 265.0, 189.0, 253.0, 201.0, 279.0, 209.0, 311.0, 256.0, 195.0, 278.0, 223.0, 331.0, 271.0, 267.0, 188.0, 226.0, 252.0, 235.0, 164.0, 190.0, 165.0, 207.0, 155.0, 220.0, 187.0, 195.0, 218.0, 225.0, 237.0, 297.0, 277.0, 165.0, 214.0, 275.0, 224.0, 253.0, 184.0, 216.0, 206.0, 313.0, 208.0, 210.0, 194.0, 226.0, 219.0, 196.0, 225.0, 279.0, 195.0, 200.0, 258.0, 202.0, 236.0, 300.0, 172.0, 290.0, 187.0, 315.0, 201.0, 263.0, 204.0, 255.0, 200.0, 327.0, 272.0, 230.0, 285.0, 281.0, 258.0, 235.0, 265.0, 230.0, 212.0, 272.0, 275.0, 281.0, 259.0, 205.0, 202.0, 342.0, 239.0, 254.0, 239.0, 165.0, 265.0, 227.0, 286.0, 226.0, 261.0, 224.0, 225.0, 316.0, 216.0, 197.0, 305.0, 185.0, 194.0, 167.0, 270.0, 159.0, 260.0, 218.0, 232.0, 307.0, 241.0, 229.0, 200.0, 200.0, 194.0, 290.0, 175.0, 239.0, 242.0, 205.0, 283.0, 193.0, 250.0, 215.0, 267.0, 253.0, 213.0, 165.0, 262.0, 259.0, 229.0, 200.0, 193.0, 225.0, 177.0, 259.0, 220.0, 243.0, 235.0, 254.0, 215.0, 264.0, 265.0, 225.0, 198.0, 226.0, 243.0, 235.0, 241.0, 175.0, 194.0, 186.0, 173.0, 228.0, 200.0, 240.0, 253.0, 198.0, 285.0, 254.0, 297.0, 326.0, 190.0, 150.0, 288.0, 195.0, 290.0, 257.0, 197.0, 259.0, 232.0, 223.0, 240.0, 306.0, 291.0, 275.0, 231.0, 274.0, 272.0, 261.0, 250.0, 312.0, 233.0, 320.0, 231.0, 181.0, 260.0, 274.0, 234.0, 215.0, 210.0, 253.0, 205.0, 184.0, 221.0, 227.0, 254.0, 245.0, 206.0, 249.0, 163.0, 265.0, 178.0, 217.0, 214.0, 157.0, 382.0, 228.0, 179.0, 270.0, 239.0, 288.0, 281.0, 229.0, 228.0, 250.0, 258.0, 225.0, 212.0, 158.0, 241.0, 240.0, 188.0, 204.0, 229.0, 286.0, 346.0, 219.0, 250.0, 361.0, 197.0, 238.0, 232.0, 260.0, 220.0, 281.0, 256.0, 333.0, 208.0, 215.0, 230.0, 232.0, 210.0, 266.0, 255.0, 240.0, 285.0, 203.0, 236.0, 170.0, 271.0, 180.0, 263.0, 194.0, 222.0, 271.0, 310.0, 221.0, 241.0, 241.0, 231.0, 242.0, 195.0, 206.0, 254.0, 216.0, 245.0, 219.0, 312.0, 214.0, 178.0, 248.0, 259.0, 248.0, 230.0, 253.0, 249.0, 230.0, 258.0, 245.0, 453.0, 156.0, 165.0, 232.0, 232.0, 222.0, 238.0, 256.0, 194.0, 254.0, 185.0, 168.0, 298.0, 233.0, 173.0, 281.0, 273.0, 259.0, 185.0, 325.0, 204.0, 237.0, 235.0, 221.0, 242.0, 183.0, 256.0, 231.0, 149.0, 210.0, 214.0, 252.0, 306.0, 251.0, 267.0, 294.0, 240.0, 205.0, 211.0, 186.0, 197.0, 218.0, 246.0, 190.0, 258.0, 285.0, 195.0, 217.0, 175.0, 217.0, 224.0, 309.0, 201.0, 352.0, 223.0, 260.0, 185.0, 320.0, 246.0, 302.0, 237.0, 216.0, 275.0, 192.0, 242.0, 202.0, 241.0, 309.0, 262.0, 197.0, 209.0, 235.0, 217.0, 241.0, 280.0, 260.0, 265.0, 186.0, 210.0, 222.0, 292.0, 221.0, 161.0, 273.0, 291.0, 212.0, 276.0, 165.0, 276.0, 310.0, 184.0, 186.0, 207.0, 190.0, 217.0, 209.0, 199.0, 202.0, 235.0, 193.0, 207.0, 206.0, 246.0, 140.0, 246.0, 244.0, 268.0, 252.0, 200.0, 175.0, 270.0, 226.0, 238.0, 275.0, 206.0, 250.0, 189.0, 238.0, 167.0, 220.0, 193.0, 308.0, 212.0, 270.0, 262.0, 180.0, 235.0, 189.0, 178.0, 170.0, 202.0, 208.0, 182.0, 215.0, 196.0, 244.0, 190.0, 285.0, 231.0, 286.0, 202.0, 226.0, 297.0, 193.0, 270.0, 216.0, 240.0, 240.0, 188.0, 157.0, 275.0, 204.0, 211.0, 178.0, 268.0, 164.0, 270.0, 207.0, 190.0, 226.0, 257.0, 200.0, 227.0, 273.0, 220.0, 226.0, 155.0, 243.0, 175.0, 208.0, 240.0, 203.0, 223.0, 192.0, 194.0, 263.0, 230.0, 211.0, 282.0, 260.0, 163.0, 315.0, 186.0, 250.0, 155.0, 185.0, 205.0, 252.0, 225.0, 235.0, 240.0, 242.0, 180.0, 195.0, 210.0, 212.0, 254.0, 248.0, 283.0, 186.0, 212.0, 309.0, 308.0, 225.0, 275.0, 154.0, 246.0, 198.0, 208.0, 286.0, 236.0, 214.0, 175.0, 271.0, 208.0, 265.0, 240.0, 212.0, 260.0, 330.0, 185.0, 161.0, 259.0, 220.0, 340.0, 165.0, 220.0, 257.0, 237.0, 254.0, 193.0, 230.0, 203.0, 284.0, 244.0, 240.0, 233.0, 275.0, 223.0, 232.0, 225.0, 190.0, 185.0, 274.0, 212.0, 261.0, 262.0, 231.0, 246.0, 318.0, 176.0, 239.0, 227.0, 262.0, 201.0, 290.0, 215.0, 295.0, 228.0, 286.0, 186.0, 281.0, 204.0, 252.0, 247.0, 220.0, 214.0, 277.0, 238.0, 232.0, 246.0, 227.0, 241.0, 325.0, 224.0, 254.0, 234.0, 210.0, 267.0, 274.0, 262.0, 205.0, 188.0, 263.0, 227.0, 410.0, 223.0, 238.0, 232.0, 350.0, 223.0, 252.0, 257.0, 289.0, 266.0, 296.0, 235.0, 230.0, 231.0, 206.0, 185.0, 223.0, 192.0, 185.0, 181.0, 190.0, 188.0, 232.0, 252.0, 288.0, 222.0, 276.0, 207.0, 266.0, 279.0, 215.0, 342.0, 260.0, 267.0, 209.0, 219.0, 218.0, 358.0, 190.0, 321.0, 170.0, 233.0, 266.0, 228.0, 242.0, 260.0, 237.0, 213.0, 290.0, 199.0, 163.0, 204.0, 254.0, 200.0, 245.0, 255.0, 347.0, 259.0, 228.0, 279.0, 277.0, 256.0, 248.0, 214.0, 244.0, 205.0, 334.0, 246.0, 285.0, 162.0, 270.0, 181.0, 205.0, 189.0, 192.0, 272.0, 167.0, 236.0, 143.0, 200.0, 304.0, 263.0, 230.0, 258.0, 240.0, 210.0, 232.0, 260.0, 212.0, 230.0, 205.0, 206.0, 243.0, 202.0, 200.0, 184.0, 233.0, 203.0, 373.0, 222.0, 316.0, 155.0, 305.0, 164.0, 155.0, 248.0, 185.0, 225.0, 261.0, 273.0, 237.0, 249.0, 275.0, 214.0, 191.0, 212.0, 208.0, 175.0, 227.0, 239.0, 260.0, 202.0, 346.0, 250.0, 250.0, 179.0, 260.0, 202.0, 200.0, 291.0, 174.0, 217.0, 313.0, 240.0, 291.0, 211.0, 304.0, 292.0, 213.0, 223.0, 263.0, 270.0, 172.0, 205.0, 250.0, 195.0, 306.0, 309.0, 262.0, 240.0, 287.0, 202.0, 180.0, 273.0, 235.0, 238.0, 188.0, 199.0, 185.0, 203.0, 266.0, 163.0, 179.0, 190.0, 246.0, 200.0, 325.0, 205.0, 205.0, 298.0, 200.0, 385.0, 277.0, 186.0, 309.0, 242.0, 254.0, 240.0, 245.0, 254.0, 271.0, 268.0, 159.0, 264.0, 217.0, 310.0, 266.0, 232.0, 250.0, 233.0, 215.0, 332.0, 242.0, 153.0, 232.0, 196.0, 193.0, 325.0, 233.0, 213.0, 205.0, 166.0, 259.0, 181.0, 225.0, 226.0, 199.0, 208.0, 296.0, 195.0, 177.0, 214.0, 315.0, 345.0, 262.0, 206.0, 253.0, 160.0, 193.0, 311.0, 254.0, 272.0, 224.0, 198.0, 197.0, 210.0, 246.0, 155.0, 232.0, 119.0, 209.0, 240.0, 264.0, 202.0, 296.0, 275.0, 241.0, 220.0, 203.0, 265.0, 222.0, 214.0, 260.0, 195.0, 253.0, 247.0, 326.0, 239.0, 262.0, 290.0, 232.0, 220.0, 198.0, 221.0, 229.0, 180.0, 213.0, 273.0, 245.0, 271.0, 245.0, 217.0, 256.0, 238.0, 175.0, 171.0, 282.0, 199.0, 260.0, 299.0, 220.0, 257.0, 230.0, 270.0, 280.0, 250.0, 213.0, 283.0, 160.0, 195.0, 169.0, 268.0, 201.0, 232.0, 216.0, 287.0, 228.0, 176.0, 291.0, 210.0, 259.0, 195.0, 247.0, 179.0, 235.0, 238.0, 305.0, 206.0, 234.0, 231.0, 237.0, 239.0, 235.0, 202.0, 226.0, 198.0, 207.0, 257.0, 212.0, 269.0, 227.0, 227.0, 325.0, 220.0, 241.0, 224.0, 236.0, 287.0, 230.0, 194.0, 235.0, 325.0, 214.0, 249.0, 223.0, 302.0, 267.0, 266.0, 199.0, 218.0, 210.0, 207.0, 285.0, 235.0, 196.0, 208.0, 232.0, 215.0, 199.0, 180.0, 261.0, 229.0, 173.0, 241.0, 306.0, 246.0, 207.0, 222.0, 257.0, 240.0, 271.0, 169.0, 214.0, 236.0, 240.0, 216.0, 213.0, 190.0, 261.0, 286.0, 282.0, 245.0, 209.0, 193.0, 230.0, 236.0, 251.0, 266.0, 265.0, 204.0, 252.0, 260.0, 289.0, 287.0, 198.0, 216.0, 233.0, 187.0, 260.0, 187.0, 176.0, 313.0, 207.0, 269.0], \"yaxis\": \"y\"}],\n",
              "                        {\"legend\": {\"tracegroupgap\": 0}, \"template\": {\"data\": {\"bar\": [{\"error_x\": {\"color\": \"#2a3f5f\"}, \"error_y\": {\"color\": \"#2a3f5f\"}, \"marker\": {\"line\": {\"color\": \"#E5ECF6\", \"width\": 0.5}}, \"type\": \"bar\"}], \"barpolar\": [{\"marker\": {\"line\": {\"color\": \"#E5ECF6\", \"width\": 0.5}}, \"type\": \"barpolar\"}], \"carpet\": [{\"aaxis\": {\"endlinecolor\": \"#2a3f5f\", \"gridcolor\": \"white\", \"linecolor\": \"white\", \"minorgridcolor\": \"white\", \"startlinecolor\": \"#2a3f5f\"}, \"baxis\": {\"endlinecolor\": \"#2a3f5f\", \"gridcolor\": \"white\", \"linecolor\": \"white\", \"minorgridcolor\": \"white\", \"startlinecolor\": \"#2a3f5f\"}, \"type\": \"carpet\"}], \"choropleth\": [{\"colorbar\": {\"outlinewidth\": 0, \"ticks\": \"\"}, \"type\": \"choropleth\"}], \"contour\": [{\"colorbar\": {\"outlinewidth\": 0, \"ticks\": \"\"}, \"colorscale\": [[0.0, \"#0d0887\"], [0.1111111111111111, \"#46039f\"], [0.2222222222222222, \"#7201a8\"], [0.3333333333333333, \"#9c179e\"], [0.4444444444444444, \"#bd3786\"], [0.5555555555555556, \"#d8576b\"], [0.6666666666666666, \"#ed7953\"], [0.7777777777777778, \"#fb9f3a\"], [0.8888888888888888, \"#fdca26\"], [1.0, \"#f0f921\"]], \"type\": \"contour\"}], \"contourcarpet\": [{\"colorbar\": {\"outlinewidth\": 0, \"ticks\": \"\"}, \"type\": \"contourcarpet\"}], \"heatmap\": [{\"colorbar\": {\"outlinewidth\": 0, \"ticks\": \"\"}, \"colorscale\": [[0.0, \"#0d0887\"], [0.1111111111111111, \"#46039f\"], [0.2222222222222222, \"#7201a8\"], [0.3333333333333333, \"#9c179e\"], [0.4444444444444444, \"#bd3786\"], [0.5555555555555556, \"#d8576b\"], [0.6666666666666666, \"#ed7953\"], [0.7777777777777778, \"#fb9f3a\"], [0.8888888888888888, \"#fdca26\"], [1.0, \"#f0f921\"]], \"type\": \"heatmap\"}], \"heatmapgl\": [{\"colorbar\": {\"outlinewidth\": 0, \"ticks\": \"\"}, \"colorscale\": [[0.0, \"#0d0887\"], [0.1111111111111111, \"#46039f\"], [0.2222222222222222, \"#7201a8\"], [0.3333333333333333, \"#9c179e\"], [0.4444444444444444, \"#bd3786\"], [0.5555555555555556, \"#d8576b\"], [0.6666666666666666, \"#ed7953\"], [0.7777777777777778, \"#fb9f3a\"], [0.8888888888888888, \"#fdca26\"], [1.0, \"#f0f921\"]], \"type\": \"heatmapgl\"}], \"histogram\": [{\"marker\": {\"colorbar\": {\"outlinewidth\": 0, \"ticks\": \"\"}}, \"type\": \"histogram\"}], \"histogram2d\": [{\"colorbar\": {\"outlinewidth\": 0, \"ticks\": \"\"}, \"colorscale\": [[0.0, \"#0d0887\"], [0.1111111111111111, \"#46039f\"], [0.2222222222222222, \"#7201a8\"], [0.3333333333333333, \"#9c179e\"], [0.4444444444444444, \"#bd3786\"], [0.5555555555555556, \"#d8576b\"], [0.6666666666666666, \"#ed7953\"], [0.7777777777777778, \"#fb9f3a\"], [0.8888888888888888, \"#fdca26\"], [1.0, \"#f0f921\"]], \"type\": \"histogram2d\"}], \"histogram2dcontour\": [{\"colorbar\": {\"outlinewidth\": 0, \"ticks\": \"\"}, \"colorscale\": [[0.0, \"#0d0887\"], [0.1111111111111111, \"#46039f\"], [0.2222222222222222, \"#7201a8\"], [0.3333333333333333, \"#9c179e\"], [0.4444444444444444, \"#bd3786\"], [0.5555555555555556, \"#d8576b\"], [0.6666666666666666, \"#ed7953\"], [0.7777777777777778, \"#fb9f3a\"], [0.8888888888888888, \"#fdca26\"], [1.0, \"#f0f921\"]], \"type\": \"histogram2dcontour\"}], \"mesh3d\": [{\"colorbar\": {\"outlinewidth\": 0, \"ticks\": \"\"}, \"type\": \"mesh3d\"}], \"parcoords\": [{\"line\": {\"colorbar\": {\"outlinewidth\": 0, \"ticks\": \"\"}}, \"type\": \"parcoords\"}], \"pie\": [{\"automargin\": true, \"type\": \"pie\"}], \"scatter\": [{\"marker\": {\"colorbar\": {\"outlinewidth\": 0, \"ticks\": \"\"}}, \"type\": \"scatter\"}], \"scatter3d\": [{\"line\": {\"colorbar\": {\"outlinewidth\": 0, \"ticks\": \"\"}}, \"marker\": {\"colorbar\": {\"outlinewidth\": 0, \"ticks\": \"\"}}, \"type\": \"scatter3d\"}], \"scattercarpet\": [{\"marker\": {\"colorbar\": {\"outlinewidth\": 0, \"ticks\": \"\"}}, \"type\": \"scattercarpet\"}], \"scattergeo\": [{\"marker\": {\"colorbar\": {\"outlinewidth\": 0, \"ticks\": \"\"}}, \"type\": \"scattergeo\"}], \"scattergl\": [{\"marker\": {\"colorbar\": {\"outlinewidth\": 0, \"ticks\": \"\"}}, \"type\": \"scattergl\"}], \"scattermapbox\": [{\"marker\": {\"colorbar\": {\"outlinewidth\": 0, \"ticks\": \"\"}}, \"type\": \"scattermapbox\"}], \"scatterpolar\": [{\"marker\": {\"colorbar\": {\"outlinewidth\": 0, \"ticks\": \"\"}}, \"type\": \"scatterpolar\"}], \"scatterpolargl\": [{\"marker\": {\"colorbar\": {\"outlinewidth\": 0, \"ticks\": \"\"}}, \"type\": \"scatterpolargl\"}], \"scatterternary\": [{\"marker\": {\"colorbar\": {\"outlinewidth\": 0, \"ticks\": \"\"}}, \"type\": \"scatterternary\"}], \"surface\": [{\"colorbar\": {\"outlinewidth\": 0, \"ticks\": \"\"}, \"colorscale\": [[0.0, \"#0d0887\"], [0.1111111111111111, \"#46039f\"], [0.2222222222222222, \"#7201a8\"], [0.3333333333333333, \"#9c179e\"], [0.4444444444444444, \"#bd3786\"], [0.5555555555555556, \"#d8576b\"], [0.6666666666666666, \"#ed7953\"], [0.7777777777777778, \"#fb9f3a\"], [0.8888888888888888, \"#fdca26\"], [1.0, \"#f0f921\"]], \"type\": \"surface\"}], \"table\": [{\"cells\": {\"fill\": {\"color\": \"#EBF0F8\"}, \"line\": {\"color\": \"white\"}}, \"header\": {\"fill\": {\"color\": \"#C8D4E3\"}, \"line\": {\"color\": \"white\"}}, \"type\": \"table\"}]}, \"layout\": {\"annotationdefaults\": {\"arrowcolor\": \"#2a3f5f\", \"arrowhead\": 0, \"arrowwidth\": 1}, \"coloraxis\": {\"colorbar\": {\"outlinewidth\": 0, \"ticks\": \"\"}}, \"colorscale\": {\"diverging\": [[0, \"#8e0152\"], [0.1, \"#c51b7d\"], [0.2, \"#de77ae\"], [0.3, \"#f1b6da\"], [0.4, \"#fde0ef\"], [0.5, \"#f7f7f7\"], [0.6, \"#e6f5d0\"], [0.7, \"#b8e186\"], [0.8, \"#7fbc41\"], [0.9, \"#4d9221\"], [1, \"#276419\"]], \"sequential\": [[0.0, \"#0d0887\"], [0.1111111111111111, \"#46039f\"], [0.2222222222222222, \"#7201a8\"], [0.3333333333333333, \"#9c179e\"], [0.4444444444444444, \"#bd3786\"], [0.5555555555555556, \"#d8576b\"], [0.6666666666666666, \"#ed7953\"], [0.7777777777777778, \"#fb9f3a\"], [0.8888888888888888, \"#fdca26\"], [1.0, \"#f0f921\"]], \"sequentialminus\": [[0.0, \"#0d0887\"], [0.1111111111111111, \"#46039f\"], [0.2222222222222222, \"#7201a8\"], [0.3333333333333333, \"#9c179e\"], [0.4444444444444444, \"#bd3786\"], [0.5555555555555556, \"#d8576b\"], [0.6666666666666666, \"#ed7953\"], [0.7777777777777778, \"#fb9f3a\"], [0.8888888888888888, \"#fdca26\"], [1.0, \"#f0f921\"]]}, \"colorway\": [\"#636efa\", \"#EF553B\", \"#00cc96\", \"#ab63fa\", \"#FFA15A\", \"#19d3f3\", \"#FF6692\", \"#B6E880\", \"#FF97FF\", \"#FECB52\"], \"font\": {\"color\": \"#2a3f5f\"}, \"geo\": {\"bgcolor\": \"white\", \"lakecolor\": \"white\", \"landcolor\": \"#E5ECF6\", \"showlakes\": true, \"showland\": true, \"subunitcolor\": \"white\"}, \"hoverlabel\": {\"align\": \"left\"}, \"hovermode\": \"closest\", \"mapbox\": {\"style\": \"light\"}, \"paper_bgcolor\": \"white\", \"plot_bgcolor\": \"#E5ECF6\", \"polar\": {\"angularaxis\": {\"gridcolor\": \"white\", \"linecolor\": \"white\", \"ticks\": \"\"}, \"bgcolor\": \"#E5ECF6\", \"radialaxis\": {\"gridcolor\": \"white\", \"linecolor\": \"white\", \"ticks\": \"\"}}, \"scene\": {\"xaxis\": {\"backgroundcolor\": \"#E5ECF6\", \"gridcolor\": \"white\", \"gridwidth\": 2, \"linecolor\": \"white\", \"showbackground\": true, \"ticks\": \"\", \"zerolinecolor\": \"white\"}, \"yaxis\": {\"backgroundcolor\": \"#E5ECF6\", \"gridcolor\": \"white\", \"gridwidth\": 2, \"linecolor\": \"white\", \"showbackground\": true, \"ticks\": \"\", \"zerolinecolor\": \"white\"}, \"zaxis\": {\"backgroundcolor\": \"#E5ECF6\", \"gridcolor\": \"white\", \"gridwidth\": 2, \"linecolor\": \"white\", \"showbackground\": true, \"ticks\": \"\", \"zerolinecolor\": \"white\"}}, \"shapedefaults\": {\"line\": {\"color\": \"#2a3f5f\"}}, \"ternary\": {\"aaxis\": {\"gridcolor\": \"white\", \"linecolor\": \"white\", \"ticks\": \"\"}, \"baxis\": {\"gridcolor\": \"white\", \"linecolor\": \"white\", \"ticks\": \"\"}, \"bgcolor\": \"#E5ECF6\", \"caxis\": {\"gridcolor\": \"white\", \"linecolor\": \"white\", \"ticks\": \"\"}}, \"title\": {\"x\": 0.05}, \"xaxis\": {\"automargin\": true, \"gridcolor\": \"white\", \"linecolor\": \"white\", \"ticks\": \"\", \"title\": {\"standoff\": 15}, \"zerolinecolor\": \"white\", \"zerolinewidth\": 2}, \"yaxis\": {\"automargin\": true, \"gridcolor\": \"white\", \"linecolor\": \"white\", \"ticks\": \"\", \"title\": {\"standoff\": 15}, \"zerolinecolor\": \"white\", \"zerolinewidth\": 2}}}, \"title\": {\"text\": \"Cholestrol VS Heart Disease\"}, \"xaxis\": {\"anchor\": \"y\", \"domain\": [0.0, 1.0], \"title\": {\"text\": \"TenYearCHD\"}}, \"yaxis\": {\"anchor\": \"x\", \"domain\": [0.0, 1.0], \"title\": {\"text\": \"totChol\"}}},\n",
              "                        {\"responsive\": true}\n",
              "                    ).then(function(){\n",
              "                            \n",
              "var gd = document.getElementById('bce87d5c-0d21-427c-ad8b-13ec1aa42ad9');\n",
              "var x = new MutationObserver(function (mutations, observer) {{\n",
              "        var display = window.getComputedStyle(gd).display;\n",
              "        if (!display || display === 'none') {{\n",
              "            console.log([gd, 'removed!']);\n",
              "            Plotly.purge(gd);\n",
              "            observer.disconnect();\n",
              "        }}\n",
              "}});\n",
              "\n",
              "// Listen for the removal of the full notebook cells\n",
              "var notebookContainer = gd.closest('#notebook-container');\n",
              "if (notebookContainer) {{\n",
              "    x.observe(notebookContainer, {childList: true});\n",
              "}}\n",
              "\n",
              "// Listen for the clearing of the current output cell\n",
              "var outputEl = gd.closest('.output');\n",
              "if (outputEl) {{\n",
              "    x.observe(outputEl, {childList: true});\n",
              "}}\n",
              "\n",
              "                        })\n",
              "                };\n",
              "                \n",
              "            </script>\n",
              "        </div>\n",
              "</body>\n",
              "</html>"
            ]
          },
          "metadata": {
            "tags": []
          }
        }
      ]
    },
    {
      "cell_type": "code",
      "metadata": {
        "id": "xZhPuw0upazU",
        "colab_type": "code",
        "colab": {
          "base_uri": "https://localhost:8080/",
          "height": 542
        },
        "outputId": "195125f2-adc3-40ff-b696-00b5104c088e"
      },
      "source": [
        "import plotly.express as px\n",
        "df = data\n",
        "fig = px.box(df, x=data['cigsPerDay'], y=data['heartRate'])\n",
        "fig.show()"
      ],
      "execution_count": 39,
      "outputs": [
        {
          "output_type": "display_data",
          "data": {
            "text/html": [
              "<html>\n",
              "<head><meta charset=\"utf-8\" /></head>\n",
              "<body>\n",
              "    <div>\n",
              "            <script src=\"https://cdnjs.cloudflare.com/ajax/libs/mathjax/2.7.5/MathJax.js?config=TeX-AMS-MML_SVG\"></script><script type=\"text/javascript\">if (window.MathJax) {MathJax.Hub.Config({SVG: {font: \"STIX-Web\"}});}</script>\n",
              "                <script type=\"text/javascript\">window.PlotlyConfig = {MathJaxConfig: 'local'};</script>\n",
              "        <script src=\"https://cdn.plot.ly/plotly-latest.min.js\"></script>    \n",
              "            <div id=\"73598012-6042-4a29-bf20-671fa7d325d9\" class=\"plotly-graph-div\" style=\"height:525px; width:100%;\"></div>\n",
              "            <script type=\"text/javascript\">\n",
              "                \n",
              "                    window.PLOTLYENV=window.PLOTLYENV || {};\n",
              "                    \n",
              "                if (document.getElementById(\"73598012-6042-4a29-bf20-671fa7d325d9\")) {\n",
              "                    Plotly.newPlot(\n",
              "                        '73598012-6042-4a29-bf20-671fa7d325d9',\n",
              "                        [{\"alignmentgroup\": \"True\", \"hoverlabel\": {\"namelength\": 0}, \"hovertemplate\": \"cigsPerDay=%{x}<br>heartRate=%{y}\", \"legendgroup\": \"\", \"marker\": {\"color\": \"#636efa\"}, \"name\": \"\", \"notched\": false, \"offsetgroup\": \"\", \"orientation\": \"v\", \"showlegend\": false, \"type\": \"box\", \"x\": [0.0, 0.0, 20.0, 30.0, 23.0, 0.0, 0.0, 20.0, 0.0, 30.0, 0.0, 0.0, 15.0, 0.0, 20.0, 10.0, 20.0, 5.0, 0.0, 30.0, 0.0, 20.0, 30.0, 20.0, 20.0, 0.0, 0.0, 35.0, 43.0, 0.0, 20.0, 0.0, 0.0, 1.0, 0.0, 10.0, 1.0, 0.0, 0.0, 0.0, 0.0, 20.0, 40.0, 3.0, 0.0, 20.0, 0.0, 10.0, 9.0, 2.0, 0.0, 20.0, 20.0, 0.0, 20.0, 3.0, 0.0, 0.0, 0.0, 20.0, 20.0, 0.0, 10.0, 20.0, 10.0, 0.0, 0.0, 0.0, 43.0, 20.0, 0.0, 0.0, 15.0, 0.0, 15.0, 0.0, 1.0, 43.0, 0.0, 20.0, 15.0, 0.0, 0.0, 30.0, 0.0, 20.0, 0.0, 15.0, 20.0, 0.0, 9.0, 0.0, 20.0, 0.0, 0.0, 43.0, 0.0, 20.0, 0.0, 0.0, 0.0, 0.0, 0.0, 5.0, 0.0, 40.0, 0.0, 3.0, 0.0, 0.0, 0.0, 0.0, 0.0, 0.0, 15.0, 0.0, 30.0, 30.0, 20.0, 15.0, 30.0, 0.0, 0.0, 30.0, 0.0, 40.0, 0.0, 0.0, 3.0, 0.0, 1.0, 0.0, 0.0, 0.0, 0.0, 0.0, 0.0, 0.0, 40.0, 0.0, 0.0, 0.0, 0.0, 20.0, 20.0, 0.0, 1.0, 0.0, 0.0, 0.0, 40.0, 20.0, 20.0, 0.0, 0.0, 20.0, 12.0, 4.0, 20.0, 0.0, 20.0, 5.0, 15.0, 0.0, 10.0, 40.0, 15.0, 0.0, 15.0, 0.0, 20.0, 0.0, 20.0, 30.0, 0.0, 0.0, 9.0, 10.0, 9.0, 5.0, 0.0, 0.0, 30.0, 15.0, 20.0, 0.0, 0.0, 20.0, 0.0, 30.0, 18.0, 0.0, 0.0, 30.0, 0.0, 0.0, 20.0, 9.0, 0.0, 0.0, 0.0, 0.0, 43.0, 0.0, 0.0, 0.0, 0.0, 0.0, 0.0, 0.0, 20.0, 3.0, 20.0, 0.0, 1.0, 43.0, 0.0, 15.0, 0.0, 20.0, 30.0, 5.0, 20.0, 0.0, 0.0, 0.0, 15.0, 0.0, 0.0, 30.0, 0.0, 0.0, 0.0, 20.0, 0.0, 0.0, 0.0, 9.0, 0.0, 0.0, 0.0, 0.0, 1.0, 0.0, 0.0, 20.0, 0.0, 0.0, 0.0, 0.0, 0.0, 0.0, 0.0, 0.0, 0.0, 0.0, 5.0, 30.0, 0.0, 0.0, 20.0, 40.0, 10.0, 0.0, 0.0, 0.0, 0.0, 20.0, 20.0, 20.0, 0.0, 20.0, 20.0, 5.0, 20.0, 0.0, 15.0, 20.0, 40.0, 20.0, 4.0, 0.0, 0.0, 20.0, 60.0, 0.0, 1.0, 1.0, 0.0, 0.0, 20.0, 30.0, 30.0, 0.0, 0.0, 0.0, 20.0, 15.0, 20.0, 0.0, 20.0, 10.0, 0.0, 0.0, 5.0, 30.0, 30.0, 40.0, 0.0, 3.0, 20.0, 30.0, 20.0, 10.0, 0.0, 15.0, 15.0, 0.0, 35.0, 0.0, 30.0, 0.0, 0.0, 0.0, 0.0, 20.0, 0.0, 3.0, 20.0, 0.0, 10.0, 0.0, 0.0, 0.0, 30.0, 35.0, 0.0, 0.0, 0.0, 0.0, 20.0, 20.0, 0.0, 0.0, 20.0, 0.0, 0.0, 3.0, 43.0, 0.0, 0.0, 0.0, 0.0, 20.0, 20.0, 0.0, 0.0, 10.0, 0.0, 0.0, 3.0, 15.0, 20.0, 0.0, 25.0, 0.0, 15.0, 0.0, 15.0, 0.0, 0.0, 0.0, 10.0, 30.0, 40.0, 30.0, 20.0, 0.0, 15.0, 0.0, 20.0, 0.0, 0.0, 10.0, 0.0, 45.0, 10.0, 0.0, 8.0, 0.0, 0.0, 0.0, 0.0, 10.0, 9.0, 15.0, 15.0, 0.0, 30.0, 0.0, 40.0, 15.0, 10.0, 0.0, 0.0, 0.0, 0.0, 20.0, 15.0, 0.0, 15.0, 20.0, 0.0, 9.0, 0.0, 20.0, 0.0, 0.0, 40.0, 0.0, 5.0, 0.0, 0.0, 10.0, 43.0, 20.0, 20.0, 13.0, 30.0, 0.0, 10.0, 0.0, 0.0, 0.0, 11.0, 0.0, 5.0, 0.0, 20.0, 0.0, 0.0, 0.0, 20.0, 20.0, 0.0, 20.0, 20.0, 0.0, 0.0, 40.0, 9.0, 25.0, 0.0, 1.0, 15.0, 25.0, 0.0, 0.0, 0.0, 4.0, 0.0, 0.0, 0.0, 20.0, 0.0, 0.0, 20.0, 0.0, 0.0, 18.0, 0.0, 5.0, 35.0, 0.0, 30.0, 0.0, 0.0, 20.0, 0.0, 20.0, 0.0, 0.0, 0.0, 10.0, 20.0, 0.0, 0.0, 0.0, 0.0, 0.0, 0.0, 0.0, 15.0, 3.0, 0.0, 0.0, 0.0, 30.0, 43.0, 10.0, 0.0, 0.0, 3.0, 18.0, 5.0, 0.0, 0.0, 20.0, 30.0, 3.0, 0.0, 20.0, 15.0, 5.0, 1.0, 0.0, 0.0, 0.0, 15.0, 0.0, 15.0, 0.0, 15.0, 20.0, 23.0, 9.0, 20.0, 0.0, 35.0, 15.0, 0.0, 0.0, 20.0, 20.0, 0.0, 0.0, 3.0, 0.0, 20.0, 0.0, 20.0, 3.0, 20.0, 0.0, 10.0, 30.0, 5.0, 20.0, 3.0, 5.0, 20.0, 5.0, 20.0, 0.0, 7.0, 0.0, 0.0, 3.0, 30.0, 25.0, 0.0, 0.0, 0.0, 0.0, 0.0, 20.0, 0.0, 20.0, 18.0, 30.0, 10.0, 5.0, 20.0, 20.0, 30.0, 0.0, 0.0, 43.0, 0.0, 20.0, 0.0, 1.0, 0.0, 20.0, 15.0, 0.0, 0.0, 20.0, 30.0, 15.0, 0.0, 30.0, 3.0, 0.0, 0.0, 5.0, 0.0, 1.0, 0.0, 0.0, 20.0, 0.0, 20.0, 0.0, 30.0, 5.0, 0.0, 20.0, 10.0, 0.0, 0.0, 0.0, 1.0, 0.0, 20.0, 0.0, 30.0, 30.0, 40.0, 25.0, 43.0, 20.0, 20.0, 0.0, 20.0, 1.0, 0.0, 20.0, 60.0, 0.0, 0.0, 0.0, 0.0, 20.0, 0.0, 20.0, 0.0, 0.0, 0.0, 5.0, 8.0, 30.0, 0.0, 20.0, 0.0, 20.0, 6.0, 0.0, 0.0, 3.0, 15.0, 0.0, 20.0, 0.0, 0.0, 0.0, 0.0, 0.0, 0.0, 0.0, 0.0, 10.0, 9.0, 0.0, 10.0, 9.0, 0.0, 0.0, 20.0, 15.0, 1.0, 20.0, 0.0, 15.0, 0.0, 0.0, 0.0, 0.0, 20.0, 40.0, 20.0, 15.0, 1.0, 0.0, 25.0, 0.0, 0.0, 0.0, 20.0, 40.0, 0.0, 0.0, 2.0, 15.0, 0.0, 40.0, 20.0, 20.0, 0.0, 0.0, 0.0, 3.0, 0.0, 20.0, 10.0, 5.0, 0.0, 0.0, 0.0, 15.0, 5.0, 20.0, 0.0, 0.0, 0.0, 15.0, 10.0, 20.0, 0.0, 10.0, 30.0, 0.0, 0.0, 0.0, 20.0, 6.0, 30.0, 0.0, 0.0, 0.0, 0.0, 0.0, 0.0, 0.0, 0.0, 30.0, 0.0, 0.0, 0.0, 40.0, 0.0, 0.0, 3.0, 0.0, 0.0, 30.0, 0.0, 0.0, 9.0, 0.0, 30.0, 15.0, 10.0, 0.0, 0.0, 30.0, 30.0, 30.0, 0.0, 0.0, 0.0, 0.0, 30.0, 0.0, 0.0, 20.0, 0.0, 5.0, 0.0, 20.0, 20.0, 9.0, 0.0, 0.0, 10.0, 0.0, 0.0, 0.0, 15.0, 20.0, 20.0, 20.0, 20.0, 6.0, 20.0, 0.0, 11.0, 1.0, 0.0, 0.0, 0.0, 20.0, 40.0, 0.0, 0.0, 5.0, 0.0, 0.0, 20.0, 40.0, 0.0, 10.0, 15.0, 0.0, 30.0, 0.0, 20.0, 20.0, 25.0, 5.0, 5.0, 20.0, 20.0, 0.0, 0.0, 20.0, 0.0, 0.0, 2.0, 0.0, 40.0, 30.0, 0.0, 20.0, 0.0, 20.0, 20.0, 0.0, 30.0, 5.0, 0.0, 20.0, 0.0, 0.0, 0.0, 20.0, 0.0, 0.0, 1.0, 9.0, 15.0, 20.0, 0.0, 0.0, 0.0, 3.0, 0.0, 10.0, 15.0, 20.0, 20.0, 0.0, 20.0, 0.0, 2.0, 0.0, 0.0, 5.0, 10.0, 10.0, 0.0, 0.0, 0.0, 0.0, 30.0, 0.0, 1.0, 0.0, 30.0, 0.0, 0.0, 0.0, 0.0, 0.0, 0.0, 0.0, 0.0, 20.0, 1.0, 30.0, 1.0, 20.0, 0.0, 0.0, 5.0, 0.0, 0.0, 0.0, 0.0, 0.0, 0.0, 0.0, 0.0, 0.0, 5.0, 0.0, 20.0, 0.0, 3.0, 0.0, 20.0, 0.0, 20.0, 0.0, 20.0, 20.0, 9.0, 0.0, 30.0, 0.0, 0.0, 0.0, 20.0, 9.0, 20.0, 0.0, 0.0, 60.0, 9.0, 0.0, 30.0, 0.0, 0.0, 3.0, 3.0, 0.0, 0.0, 0.0, 0.0, 10.0, 0.0, 0.0, 0.0, 5.0, 0.0, 20.0, 0.0, 0.0, 35.0, 0.0, 30.0, 0.0, 0.0, 10.0, 0.0, 10.0, 4.0, 9.0, 0.0, 30.0, 15.0, 40.0, 0.0, 20.0, 10.0, 0.0, 0.0, 5.0, 0.0, 9.0, 20.0, 9.0, 20.0, 0.0, 0.0, 0.0, 0.0, 0.0, 0.0, 43.0, 1.0, 15.0, 0.0, 9.0, 0.0, 0.0, 0.0, 30.0, 10.0, 10.0, 0.0, 0.0, 0.0, 0.0, 0.0, 30.0, 30.0, 20.0, 35.0, 30.0, 0.0, 0.0, 0.0, 0.0, 30.0, 25.0, 0.0, 30.0, 10.0, 0.0, 0.0, 1.0, 0.0, 20.0, 0.0, 5.0, 0.0, 3.0, 0.0, 0.0, 0.0, 20.0, 0.0, 0.0, 0.0, 20.0, 0.0, 0.0, 0.0, 0.0, 20.0, 15.0, 0.0, 43.0, 0.0, 3.0, 0.0, 0.0, 20.0, 0.0, 0.0, 20.0, 15.0, 0.0, 0.0, 20.0, 3.0, 0.0, 10.0, 10.0, 20.0, 0.0, 30.0, 0.0, 0.0, 0.0, 15.0, 20.0, 0.0, 0.0, 1.0, 0.0, 0.0, 15.0, 0.0, 0.0, 0.0, 0.0, 10.0, 20.0, 0.0, 0.0, 9.0, 3.0, 15.0, 30.0, 0.0, 3.0, 0.0, 20.0, 0.0, 20.0, 0.0, 9.0, 20.0, 0.0, 0.0, 0.0, 10.0, 0.0, 2.0, 9.0, 15.0, 0.0, 0.0, 15.0, 0.0, 0.0, 20.0, 0.0, 0.0, 0.0, 20.0, 0.0, 0.0, 13.0, 0.0, 0.0, 0.0, 9.0, 0.0, 0.0, 0.0, 0.0, 0.0, 20.0, 30.0, 30.0, 20.0, 40.0, 0.0, 0.0, 15.0, 0.0, 0.0, 0.0, 15.0, 3.0, 0.0, 0.0, 15.0, 20.0, 0.0, 30.0, 0.0, 0.0, 0.0, 43.0, 0.0, 20.0, 15.0, 20.0, 0.0, 15.0, 20.0, 30.0, 0.0, 0.0, 0.0, 40.0, 5.0, 0.0, 0.0, 20.0, 38.0, 20.0, 0.0, 0.0, 0.0, 0.0, 5.0, 10.0, 0.0, 0.0, 20.0, 0.0, 0.0, 0.0, 15.0, 25.0, 25.0, 20.0, 25.0, 5.0, 0.0, 0.0, 0.0, 30.0, 10.0, 0.0, 30.0, 0.0, 0.0, 0.0, 0.0, 0.0, 50.0, 20.0, 40.0, 20.0, 0.0, 0.0, 0.0, 0.0, 20.0, 0.0, 20.0, 30.0, 0.0, 0.0, 20.0, 0.0, 8.0, 20.0, 20.0, 0.0, 0.0, 0.0, 25.0, 10.0, 0.0, 20.0, 10.0, 20.0, 10.0, 23.0, 0.0, 15.0, 20.0, 0.0, 0.0, 3.0, 0.0, 20.0, 0.0, 0.0, 0.0, 0.0, 20.0, 40.0, 15.0, 15.0, 30.0, 0.0, 20.0, 20.0, 5.0, 15.0, 15.0, 0.0, 7.0, 20.0, 23.0, 20.0, 20.0, 20.0, 0.0, 0.0, 0.0, 25.0, 0.0, 0.0, 0.0, 0.0, 30.0, 0.0, 0.0, 3.0, 30.0, 1.0, 2.0, 0.0, 0.0, 30.0, 0.0, 60.0, 20.0, 0.0, 5.0, 0.0, 0.0, 0.0, 0.0, 30.0, 0.0, 0.0, 50.0, 0.0, 20.0, 0.0, 0.0, 60.0, 0.0, 0.0, 7.0, 0.0, 0.0, 3.0, 0.0, 0.0, 0.0, 0.0, 0.0, 0.0, 0.0, 0.0, 20.0, 0.0, 0.0, 60.0, 0.0, 20.0, 0.0, 0.0, 3.0, 0.0, 15.0, 20.0, 0.0, 20.0, 0.0, 0.0, 0.0, 0.0, 20.0, 0.0, 20.0, 20.0, 0.0, 0.0, 0.0, 0.0, 20.0, 43.0, 0.0, 0.0, 9.0, 20.0, 43.0, 10.0, 0.0, 0.0, 25.0, 0.0, 15.0, 20.0, 0.0, 0.0, 20.0, 0.0, 29.0, 0.0, 9.0, 0.0, 40.0, 10.0, 0.0, 0.0, 20.0, 0.0, 20.0, 0.0, 0.0, 0.0, 20.0, 9.0, 20.0, 15.0, 1.0, 12.0, 0.0, 0.0, 0.0, 20.0, 0.0, 0.0, 0.0, 0.0, 0.0, 0.0, 0.0, 20.0, 0.0, 0.0, 20.0, 20.0, 0.0, 30.0, 15.0, 0.0, 0.0, 20.0, 20.0, 0.0, 20.0, 0.0, 20.0, 30.0, 0.0, 0.0, 0.0, 3.0, 0.0, 30.0, 0.0, 1.0, 20.0, 18.0, 0.0, 0.0, 10.0, 15.0, 0.0, 0.0, 0.0, 20.0, 0.0, 0.0, 0.0, 0.0, 0.0, 10.0, 0.0, 0.0, 0.0, 5.0, 0.0, 0.0, 9.0, 0.0, 0.0, 0.0, 40.0, 0.0, 20.0, 2.0, 0.0, 5.0, 43.0, 5.0, 20.0, 0.0, 15.0, 0.0, 0.0, 0.0, 0.0, 25.0, 3.0, 0.0, 20.0, 0.0, 5.0, 20.0, 0.0, 7.0, 20.0, 5.0, 0.0, 0.0, 30.0, 20.0, 3.0, 20.0, 0.0, 20.0, 15.0, 20.0, 0.0, 1.0, 10.0, 0.0, 20.0, 0.0, 0.0, 0.0, 35.0, 0.0, 15.0, 15.0, 10.0, 20.0, 0.0, 0.0, 9.0, 0.0, 15.0, 0.0, 10.0, 0.0, 20.0, 3.0, 0.0, 0.0, 15.0, 1.0, 11.0, 0.0, 0.0, 20.0, 0.0, 40.0, 30.0, 0.0, 0.0, 1.0, 20.0, 40.0, 20.0, 0.0, 0.0, 0.0, 0.0, 20.0, 0.0, 0.0, 9.0, 20.0, 0.0, 20.0, 0.0, 9.0, 0.0, 10.0, 30.0, 0.0, 0.0, 0.0, 5.0, 0.0, 0.0, 0.0, 0.0, 20.0, 5.0, 15.0, 1.0, 0.0, 8.0, 9.0, 17.0, 0.0, 0.0, 25.0, 0.0, 0.0, 0.0, 0.0, 0.0, 20.0, 20.0, 0.0, 0.0, 0.0, 15.0, 0.0, 40.0, 0.0, 0.0, 0.0, 10.0, 20.0, 20.0, 20.0, 0.0, 43.0, 30.0, 0.0, 20.0, 0.0, 35.0, 0.0, 3.0, 0.0, 0.0, 20.0, 15.0, 0.0, 0.0, 20.0, 1.0, 10.0, 0.0, 5.0, 20.0, 30.0, 20.0, 0.0, 0.0, 9.0, 0.0, 15.0, 5.0, 35.0, 20.0, 1.0, 0.0, 0.0, 0.0, 3.0, 0.0, 0.0, 15.0, 0.0, 0.0, 0.0, 0.0, 0.0, 40.0, 0.0, 0.0, 0.0, 50.0, 0.0, 15.0, 0.0, 0.0, 0.0, 60.0, 20.0, 0.0, 0.0, 0.0, 0.0, 0.0, 0.0, 0.0, 3.0, 0.0, 20.0, 0.0, 0.0, 0.0, 0.0, 5.0, 0.0, 0.0, 3.0, 0.0, 9.0, 0.0, 20.0, 30.0, 0.0, 0.0, 40.0, 30.0, 0.0, 30.0, 0.0, 0.0, 20.0, 15.0, 0.0, 3.0, 20.0, 20.0, 0.0, 43.0, 0.0, 1.0, 0.0, 20.0, 0.0, 20.0, 0.0, 0.0, 0.0, 0.0, 20.0, 0.0, 18.0, 0.0, 20.0, 20.0, 20.0, 0.0, 10.0, 20.0, 0.0, 0.0, 20.0, 20.0, 25.0, 20.0, 0.0, 0.0, 0.0, 30.0, 0.0, 0.0, 0.0, 0.0, 20.0, 0.0, 0.0, 0.0, 20.0, 0.0, 35.0, 0.0, 10.0, 0.0, 0.0, 0.0, 0.0, 0.0, 0.0, 0.0, 0.0, 30.0, 15.0, 1.0, 8.0, 0.0, 0.0, 0.0, 30.0, 30.0, 9.0, 0.0, 0.0, 43.0, 20.0, 40.0, 0.0, 43.0, 20.0, 0.0, 5.0, 0.0, 0.0, 0.0, 0.0, 0.0, 0.0, 0.0, 0.0, 0.0, 0.0, 5.0, 20.0, 0.0, 15.0, 15.0, 9.0, 0.0, 0.0, 15.0, 0.0, 3.0, 20.0, 30.0, 0.0, 0.0, 0.0, 0.0, 0.0, 0.0, 10.0, 15.0, 20.0, 0.0, 0.0, 0.0, 0.0, 15.0, 0.0, 0.0, 0.0, 0.0, 0.0, 0.0, 0.0, 0.0, 20.0, 7.0, 20.0, 30.0, 0.0, 0.0, 20.0, 0.0, 0.0, 20.0, 0.0, 20.0, 3.0, 20.0, 0.0, 0.0, 30.0, 20.0, 25.0, 0.0, 0.0, 20.0, 15.0, 20.0, 0.0, 0.0, 20.0, 0.0, 20.0, 0.0, 0.0, 9.0, 0.0, 0.0, 35.0, 0.0, 9.0, 20.0, 0.0, 20.0, 20.0, 0.0, 0.0, 0.0, 5.0, 0.0, 9.0, 0.0, 35.0, 0.0, 25.0, 43.0, 0.0, 9.0, 17.0, 0.0, 0.0, 3.0, 0.0, 5.0, 20.0, 20.0, 0.0, 20.0, 20.0, 0.0, 30.0, 3.0, 0.0, 5.0, 0.0, 15.0, 20.0, 0.0, 0.0, 0.0, 20.0, 6.0, 0.0, 0.0, 0.0, 0.0, 20.0, 30.0, 0.0, 9.0, 0.0, 10.0, 0.0, 5.0, 0.0, 30.0, 15.0, 0.0, 20.0, 0.0, 0.0, 0.0, 30.0, 20.0, 0.0, 0.0, 0.0, 0.0, 20.0, 0.0, 0.0, 0.0, 0.0, 50.0, 0.0, 3.0, 20.0, 30.0, 20.0, 30.0, 1.0, 20.0, 15.0, 30.0, 43.0, 25.0, 0.0, 0.0, 20.0, 0.0, 0.0, 0.0, 0.0, 0.0, 20.0, 20.0, 15.0, 0.0, 10.0, 0.0, 0.0, 35.0, 20.0, 0.0, 20.0, 20.0, 20.0, 20.0, 30.0, 1.0, 10.0, 10.0, 0.0, 0.0, 0.0, 0.0, 43.0, 20.0, 0.0, 15.0, 15.0, 0.0, 20.0, 0.0, 0.0, 43.0, 30.0, 0.0, 20.0, 20.0, 20.0, 0.0, 0.0, 20.0, 0.0, 15.0, 0.0, 10.0, 0.0, 20.0, 10.0, 0.0, 0.0, 20.0, 40.0, 5.0, 0.0, 20.0, 0.0, 20.0, 0.0, 30.0, 0.0, 20.0, 30.0, 20.0, 6.0, 20.0, 0.0, 0.0, 0.0, 10.0, 1.0, 20.0, 0.0, 9.0, 0.0, 0.0, 30.0, 0.0, 0.0, 0.0, 0.0, 0.0, 0.0, 30.0, 40.0, 0.0, 0.0, 0.0, 0.0, 0.0, 0.0, 3.0, 0.0, 1.0, 0.0, 0.0, 0.0, 20.0, 5.0, 20.0, 0.0, 0.0, 20.0, 13.0, 5.0, 9.0, 15.0, 0.0, 15.0, 12.0, 20.0, 20.0, 20.0, 20.0, 0.0, 10.0, 20.0, 15.0, 0.0, 20.0, 9.0, 9.0, 0.0, 0.0, 9.0, 0.0, 0.0, 30.0, 0.0, 25.0, 0.0, 0.0, 0.0, 0.0, 17.0, 25.0, 0.0, 0.0, 30.0, 9.0, 20.0, 0.0, 0.0, 5.0, 20.0, 15.0, 0.0, 5.0, 0.0, 0.0, 0.0, 0.0, 0.0, 0.0, 0.0, 0.0, 0.0, 10.0, 30.0, 0.0, 20.0, 0.0, 0.0, 1.0, 20.0, 0.0, 9.0, 0.0, 0.0, 0.0, 0.0, 15.0, 8.0, 3.0, 0.0, 0.0, 20.0, 0.0, 10.0, 30.0, 30.0, 15.0, 0.0, 20.0, 3.0, 20.0, 10.0, 17.0, 20.0, 0.0, 0.0, 20.0, 9.0, 0.0, 0.0, 0.0, 10.0, 9.0, 20.0, 0.0, 20.0, 9.0, 5.0, 9.0, 20.0, 20.0, 0.0, 20.0, 9.0, 20.0, 43.0, 0.0, 0.0, 20.0, 0.0, 0.0, 0.0, 25.0, 30.0, 20.0, 30.0, 0.0, 0.0, 0.0, 20.0, 0.0, 0.0, 20.0, 9.0, 20.0, 0.0, 0.0, 0.0, 0.0, 0.0, 20.0, 9.0, 0.0, 0.0, 20.0, 16.0, 0.0, 20.0, 1.0, 0.0, 0.0, 20.0, 20.0, 0.0, 0.0, 20.0, 0.0, 20.0, 10.0, 20.0, 0.0, 20.0, 30.0, 15.0, 0.0, 15.0, 0.0, 10.0, 0.0, 0.0, 0.0, 0.0, 3.0, 0.0, 15.0, 1.0, 0.0, 0.0, 20.0, 7.0, 20.0, 0.0, 0.0, 10.0, 0.0, 20.0, 15.0, 0.0, 0.0, 0.0, 0.0, 0.0, 0.0, 20.0, 15.0, 20.0, 0.0, 20.0, 0.0, 20.0, 0.0, 0.0, 0.0, 0.0, 30.0, 0.0, 0.0, 0.0, 20.0, 9.0, 0.0, 0.0, 0.0, 0.0, 0.0, 0.0, 0.0, 0.0, 9.0, 6.0, 0.0, 20.0, 20.0, 20.0, 0.0, 0.0, 19.0, 0.0, 0.0, 0.0, 0.0, 0.0, 0.0, 15.0, 0.0, 15.0, 0.0, 0.0, 0.0, 20.0, 5.0, 3.0, 0.0, 0.0, 19.0, 0.0, 1.0, 0.0, 0.0, 20.0, 20.0, 15.0, 0.0, 0.0, 20.0, 20.0, 2.0, 5.0, 3.0, 20.0, 0.0, 0.0, 0.0, 40.0, 0.0, 0.0, 10.0, 20.0, 0.0, 20.0, 25.0, 30.0, 0.0, 20.0, 0.0, 30.0, 0.0, 0.0, 0.0, 0.0, 0.0, 0.0, 20.0, 30.0, 5.0, 0.0, 0.0, 35.0, 0.0, 10.0, 20.0, 0.0, 4.0, 0.0, 0.0, 20.0, 0.0, 5.0, 0.0, 0.0, 0.0, 0.0, 20.0, 0.0, 20.0, 0.0, 0.0, 20.0, 30.0, 0.0, 0.0, 0.0, 20.0, 15.0, 10.0, 30.0, 0.0, 0.0, 0.0, 15.0, 20.0, 10.0, 30.0, 20.0, 0.0, 9.0, 0.0, 0.0, 0.0, 0.0, 0.0, 25.0, 0.0, 10.0, 0.0, 0.0, 0.0, 20.0, 20.0, 0.0, 20.0, 0.0, 20.0, 0.0, 10.0, 25.0, 0.0, 0.0, 15.0, 0.0, 0.0, 20.0, 60.0, 3.0, 0.0, 15.0, 10.0, 0.0, 0.0, 40.0, 7.0, 20.0, 3.0, 20.0, 0.0, 9.0, 0.0, 20.0, 20.0, 20.0, 15.0, 30.0, 0.0, 20.0, 3.0, 20.0, 10.0, 15.0, 0.0, 20.0, 20.0, 20.0, 15.0, 10.0, 1.0, 0.0, 0.0, 20.0, 10.0, 0.0, 20.0, 35.0, 0.0, 0.0, 0.0, 0.0, 20.0, 0.0, 5.0, 20.0, 0.0, 0.0, 0.0, 0.0, 9.0, 0.0, 0.0, 0.0, 0.0, 20.0, 0.0, 0.0, 20.0, 43.0, 0.0, 1.0, 5.0, 30.0, 20.0, 6.0, 0.0, 0.0, 20.0, 7.0, 0.0, 0.0, 0.0, 0.0, 0.0, 1.0, 0.0, 0.0, 0.0, 15.0, 20.0, 0.0, 30.0, 0.0, 9.0, 20.0, 15.0, 20.0, 20.0, 0.0, 20.0, 0.0, 0.0, 0.0, 40.0, 43.0, 20.0, 1.0, 0.0, 20.0, 0.0, 20.0, 0.0, 20.0, 0.0, 1.0, 0.0, 0.0, 15.0, 0.0, 25.0, 0.0, 40.0, 0.0, 0.0, 20.0, 15.0, 0.0, 20.0, 20.0, 0.0, 0.0, 40.0, 40.0, 0.0, 30.0, 0.0, 20.0, 0.0, 0.0, 0.0, 0.0, 0.0, 20.0, 10.0, 20.0, 0.0, 20.0, 43.0, 0.0, 0.0, 20.0, 20.0, 3.0, 20.0, 20.0, 0.0, 17.0, 0.0, 0.0, 20.0, 0.0, 43.0, 0.0, 0.0, 0.0, 0.0, 2.0, 0.0, 9.0, 0.0, 0.0, 30.0, 40.0, 0.0, 20.0, 20.0, 0.0, 9.0, 0.0, 20.0, 0.0, 0.0, 15.0, 0.0, 0.0, 0.0, 0.0, 25.0, 20.0, 45.0, 20.0, 30.0, 0.0, 0.0, 20.0, 43.0, 0.0, 30.0, 30.0, 20.0, 0.0, 0.0, 20.0, 0.0, 0.0, 20.0, 0.0, 0.0, 0.0, 0.0, 0.0, 0.0, 0.0, 0.0, 40.0, 5.0, 20.0, 0.0, 0.0, 15.0, 0.0, 20.0, 0.0, 15.0, 20.0, 0.0, 43.0, 20.0, 0.0, 15.0, 20.0, 0.0, 20.0, 20.0, 30.0, 20.0, 0.0, 9.0, 20.0, 0.0, 15.0, 20.0, 0.0, 40.0, 3.0, 5.0, 0.0, 2.0, 0.0, 0.0, 0.0, 40.0, 0.0, 0.0, 40.0, 20.0, 20.0, 0.0, 20.0, 0.0, 70.0, 20.0, 0.0, 0.0, 0.0, 20.0, 5.0, 0.0, 0.0, 20.0, 20.0, 9.0, 0.0, 0.0, 15.0, 20.0, 0.0, 17.0, 0.0, 18.0, 3.0, 0.0, 10.0, 0.0, 0.0, 10.0, 0.0, 0.0, 0.0, 0.0, 3.0, 0.0, 0.0, 0.0, 3.0, 0.0, 0.0, 0.0, 20.0, 8.0, 20.0, 20.0, 20.0, 0.0, 0.0, 0.0, 0.0, 0.0, 20.0, 5.0, 30.0, 6.0, 5.0, 0.0, 0.0, 0.0, 0.0, 0.0, 10.0, 0.0, 0.0, 0.0, 0.0, 0.0, 0.0, 0.0, 15.0, 9.0, 30.0, 0.0, 0.0, 20.0, 0.0, 0.0, 20.0, 30.0, 30.0, 0.0, 0.0, 0.0, 30.0, 0.0, 0.0, 0.0, 3.0, 15.0, 30.0, 0.0, 0.0, 30.0, 6.0, 9.0, 15.0, 0.0, 0.0, 0.0, 20.0, 0.0, 0.0, 0.0, 0.0, 0.0, 3.0, 0.0, 0.0, 0.0, 15.0, 0.0, 9.0, 43.0, 0.0, 0.0, 0.0, 15.0, 0.0, 20.0, 0.0, 0.0, 20.0, 5.0, 0.0, 20.0, 30.0, 20.0, 0.0, 20.0, 30.0, 30.0, 0.0, 10.0, 0.0, 9.0, 0.0, 20.0, 0.0, 0.0, 20.0, 9.0, 20.0, 0.0, 20.0, 0.0, 20.0, 0.0, 5.0, 10.0, 0.0, 5.0, 0.0, 0.0, 0.0, 9.0, 0.0, 9.0, 30.0, 0.0, 20.0, 0.0, 0.0, 20.0, 20.0, 23.0, 9.0, 0.0, 0.0, 0.0, 0.0, 6.0, 0.0, 0.0, 30.0, 40.0, 0.0, 0.0, 0.0, 0.0, 20.0, 0.0, 5.0, 0.0, 20.0, 0.0, 0.0, 15.0, 25.0, 0.0, 3.0, 6.0, 0.0, 0.0, 0.0, 0.0, 20.0, 0.0, 20.0, 20.0, 1.0, 35.0, 0.0, 0.0, 0.0, 0.0, 40.0, 20.0, 0.0, 20.0, 20.0, 30.0, 20.0, 30.0, 30.0, 0.0, 6.0, 0.0, 0.0, 10.0, 0.0, 20.0, 2.0, 43.0, 0.0, 20.0, 0.0, 5.0, 30.0, 0.0, 0.0, 20.0, 43.0, 2.0, 20.0, 0.0, 4.0, 0.0, 20.0, 20.0, 20.0, 30.0, 10.0, 0.0, 5.0, 0.0, 0.0, 15.0, 20.0, 0.0, 20.0, 0.0, 20.0, 4.0, 0.0, 20.0, 20.0, 0.0, 11.0, 9.0, 0.0, 0.0, 20.0, 9.0, 0.0, 16.0, 9.0, 20.0, 25.0, 0.0, 0.0, 3.0, 20.0, 10.0, 5.0, 0.0, 25.0, 0.0, 3.0, 0.0, 3.0, 20.0, 0.0, 0.0, 20.0, 30.0, 0.0, 20.0, 0.0, 20.0, 30.0, 15.0, 0.0, 0.0, 5.0, 20.0, 0.0, 15.0, 0.0, 0.0, 15.0, 0.0, 20.0, 0.0, 9.0, 0.0, 0.0, 0.0, 40.0, 0.0, 0.0, 0.0, 0.0, 0.0, 40.0, 0.0, 0.0, 15.0, 30.0, 20.0, 0.0, 0.0, 20.0, 0.0, 0.0, 0.0, 15.0, 30.0, 20.0, 20.0, 0.0, 0.0, 5.0, 0.0, 9.0, 20.0, 20.0, 20.0, 3.0, 0.0, 20.0, 9.0, 11.0, 30.0, 0.0, 0.0, 20.0, 40.0, 0.0, 10.0, 9.0, 0.0, 0.0, 0.0, 20.0, 0.0, 0.0, 0.0, 20.0, 0.0, 25.0, 0.0, 0.0, 0.0, 20.0, 0.0, 20.0, 40.0, 0.0, 25.0, 0.0, 3.0, 9.0, 0.0, 0.0, 20.0, 0.0, 20.0, 3.0, 5.0, 20.0, 0.0, 5.0, 2.0, 0.0, 0.0, 0.0, 10.0, 20.0, 0.0, 9.0, 20.0, 0.0, 0.0, 15.0, 0.0, 0.0, 15.0, 0.0, 30.0, 20.0, 0.0, 0.0, 1.0, 0.0, 0.0, 25.0, 0.0, 15.0, 0.0, 0.0, 0.0, 20.0, 0.0, 3.0, 0.0, 1.0, 0.0, 0.0, 20.0, 0.0, 0.0, 3.0, 30.0, 0.0, 0.0, 1.0, 0.0, 0.0, 6.0, 0.0, 0.0, 20.0, 15.0, 0.0, 20.0, 0.0, 0.0, 16.0, 0.0, 20.0, 9.0, 0.0, 0.0, 0.0, 30.0, 15.0, 0.0, 0.0, 30.0, 0.0, 0.0, 25.0, 10.0, 20.0, 0.0, 15.0, 15.0, 0.0, 0.0, 5.0, 3.0, 30.0, 20.0, 20.0, 0.0, 20.0, 20.0, 43.0, 0.0, 20.0, 0.0, 0.0, 0.0, 0.0, 0.0, 43.0, 0.0, 0.0, 30.0, 30.0, 0.0, 7.0, 20.0, 9.0, 30.0, 15.0, 20.0, 0.0, 15.0, 0.0, 0.0, 20.0, 0.0, 20.0, 25.0, 0.0, 0.0, 0.0, 20.0, 0.0, 20.0, 3.0, 5.0, 0.0, 15.0, 0.0, 0.0, 15.0, 0.0, 43.0, 9.0, 20.0, 0.0, 5.0, 10.0, 15.0, 30.0, 20.0, 20.0, 10.0, 0.0, 0.0, 0.0, 0.0, 0.0, 40.0, 15.0, 0.0, 0.0, 0.0, 20.0, 15.0, 9.0, 20.0, 0.0, 0.0, 0.0, 0.0, 25.0, 0.0, 25.0, 0.0, 15.0, 0.0, 0.0, 5.0, 20.0, 10.0, 5.0, 0.0, 3.0, 0.0, 0.0, 0.0, 0.0, 0.0, 15.0, 15.0, 15.0, 0.0, 1.0, 15.0, 30.0, 40.0, 15.0, 0.0, 0.0, 20.0, 20.0, 0.0, 0.0, 0.0, 0.0, 20.0, 20.0, 20.0, 0.0, 10.0, 0.0, 0.0, 20.0, 15.0, 35.0, 2.0, 20.0, 0.0, 20.0, 9.0, 5.0, 20.0, 20.0, 20.0, 0.0, 0.0, 0.0, 0.0, 0.0, 20.0, 40.0, 20.0, 0.0, 0.0, 9.0, 5.0, 20.0, 30.0, 0.0, 40.0, 15.0, 20.0, 0.0, 20.0, 30.0, 3.0, 0.0, 0.0, 0.0, 5.0, 20.0, 0.0, 9.0, 15.0, 3.0, 0.0, 0.0, 1.0, 0.0, 0.0, 0.0, 15.0, 0.0, 9.0, 30.0, 3.0, 0.0, 0.0, 1.0, 0.0, 0.0, 0.0, 20.0, 9.0, 0.0, 0.0, 0.0, 0.0, 10.0, 0.0, 0.0, 5.0, 15.0, 20.0, 15.0, 0.0, 20.0, 5.0, 15.0, 20.0, 20.0, 20.0, 2.0, 45.0, 20.0, 10.0, 0.0, 0.0, 20.0, 20.0, 0.0, 0.0, 0.0, 0.0, 3.0, 0.0, 30.0, 0.0, 0.0, 0.0, 0.0, 0.0, 20.0, 0.0, 0.0, 0.0, 0.0, 30.0, 0.0, 0.0, 10.0, 40.0, 0.0, 40.0, 20.0, 0.0, 6.0, 0.0, 5.0, 20.0, 9.0, 0.0, 30.0, 0.0, 20.0, 20.0, 0.0, 0.0, 25.0, 0.0, 0.0, 8.0, 0.0, 0.0, 0.0, 10.0, 0.0, 0.0, 20.0, 30.0, 0.0, 20.0, 0.0, 0.0, 0.0, 0.0, 0.0, 15.0, 0.0, 0.0, 3.0, 20.0, 30.0, 0.0, 30.0, 15.0, 30.0, 40.0, 0.0, 0.0, 0.0, 0.0, 20.0, 0.0, 20.0, 20.0, 0.0, 0.0, 5.0, 10.0, 0.0, 0.0, 30.0, 0.0, 0.0, 20.0, 15.0, 40.0, 0.0, 0.0, 40.0, 0.0, 0.0, 43.0, 0.0, 0.0, 0.0, 30.0, 0.0, 0.0, 20.0, 0.0, 20.0, 25.0, 0.0, 10.0, 0.0, 0.0, 0.0, 0.0, 20.0, 0.0, 0.0, 0.0, 0.0, 20.0, 20.0, 0.0, 0.0, 20.0, 0.0, 0.0, 30.0, 10.0, 0.0, 0.0, 9.0, 35.0, 0.0, 0.0, 20.0, 0.0, 60.0, 25.0, 0.0, 25.0, 15.0, 10.0, 20.0, 0.0, 0.0, 0.0, 4.0, 0.0, 30.0, 10.0, 0.0, 0.0, 0.0, 0.0, 10.0, 0.0, 0.0, 0.0, 10.0, 43.0, 0.0, 0.0, 43.0, 20.0, 0.0, 0.0, 0.0, 0.0, 0.0, 30.0, 0.0, 17.0, 5.0, 0.0, 0.0, 0.0, 0.0, 43.0, 0.0, 10.0, 15.0, 0.0, 0.0, 0.0, 14.0, 0.0, 3.0, 0.0, 0.0, 1.0, 15.0, 0.0, 10.0, 15.0, 0.0, 20.0, 9.0, 20.0, 20.0, 0.0, 0.0, 20.0, 0.0, 20.0, 0.0, 15.0, 20.0, 25.0, 9.0, 0.0, 0.0, 20.0, 6.0, 30.0, 0.0, 40.0, 10.0, 30.0, 30.0, 1.0, 40.0, 0.0, 1.0, 0.0, 5.0, 43.0, 15.0, 20.0, 5.0, 0.0, 20.0, 0.0, 20.0, 0.0, 0.0, 0.0, 40.0, 0.0, 0.0, 20.0, 20.0, 0.0, 20.0, 20.0, 20.0, 0.0, 0.0, 20.0, 0.0, 10.0, 0.0, 0.0, 0.0, 0.0, 0.0, 15.0, 0.0, 20.0, 30.0, 30.0, 0.0, 0.0, 0.0, 0.0, 30.0, 0.0, 25.0, 0.0, 0.0, 0.0, 7.0, 0.0, 0.0, 0.0, 0.0, 0.0, 15.0, 20.0, 0.0, 0.0, 20.0, 20.0, 0.0, 5.0, 0.0, 0.0, 40.0, 0.0, 1.0, 6.0, 20.0, 0.0, 0.0, 20.0, 7.0, 30.0, 0.0, 20.0, 0.0, 0.0, 0.0, 20.0, 0.0, 0.0, 0.0, 0.0, 0.0, 20.0, 40.0, 0.0, 0.0, 0.0, 0.0, 0.0, 0.0, 0.0, 2.0, 20.0, 0.0, 0.0, 20.0, 0.0, 20.0, 0.0, 10.0, 0.0, 20.0, 0.0, 0.0, 30.0, 0.0, 20.0, 43.0, 0.0, 0.0, 15.0, 0.0, 0.0, 43.0, 0.0, 0.0, 0.0, 0.0, 40.0, 6.0, 20.0, 0.0, 0.0, 0.0, 0.0, 20.0, 43.0, 0.0, 0.0, 15.0, 0.0, 0.0, 9.0, 30.0, 0.0, 0.0, 0.0, 0.0, 0.0, 20.0, 8.0, 10.0, 0.0, 20.0, 0.0, 15.0, 20.0, 0.0, 20.0, 9.0, 0.0, 0.0, 30.0, 0.0, 0.0, 0.0, 0.0, 10.0, 0.0, 0.0, 15.0, 0.0, 0.0, 0.0, 40.0, 43.0, 0.0, 5.0, 0.0, 20.0, 0.0, 0.0, 0.0, 0.0, 0.0, 0.0, 0.0, 3.0, 43.0, 0.0, 20.0, 0.0, 0.0, 0.0, 1.0, 43.0, 0.0], \"x0\": \" \", \"xaxis\": \"x\", \"y\": [80.0, 95.0, 75.0, 65.0, 85.0, 77.0, 60.0, 79.0, 76.0, 93.0, 75.0, 72.0, 98.0, 65.0, 95.0, 64.0, 80.0, 75.0, 85.0, 72.0, 70.0, 71.0, 75.0, 62.0, 73.0, 85.0, 72.0, 60.0, 75.0, 90.0, 96.0, 95.0, 75.0, 60.0, 71.0, 68.0, 75.0, 75.0, 76.0, 65.0, 90.0, 75.0, 95.0, 60.0, 90.0, 80.0, 63.0, 88.0, 88.0, 75.0, 65.0, 75.0, 95.0, 60.0, 78.0, 83.0, 75.0, 72.0, 100.0, 65.0, 76.0, 63.0, 63.0, 85.0, 64.0, 65.0, 83.0, 80.0, 85.0, 90.0, 84.0, 88.0, 75.0, 70.0, 70.0, 65.0, 57.0, 100.0, 80.0, 60.0, 75.0, 71.0, 60.0, 80.0, 60.0, 88.0, 75.0, 50.0, 65.0, 75.0, 63.0, 74.0, 65.0, 85.0, 65.0, 85.0, 90.0, 76.0, 75.0, 86.0, 75.0, 75.0, 55.0, 70.0, 71.0, 88.0, 68.0, 75.0, 80.0, 100.0, 70.0, 75.0, 75.0, 60.0, 70.0, 62.0, 88.0, 78.0, 92.0, 75.0, 75.0, 100.0, 55.0, 66.0, 80.0, 70.0, 80.0, 96.0, 50.0, 87.0, 70.0, 80.0, 60.0, 72.0, 70.0, 80.0, 71.0, 57.0, 70.0, 60.0, 96.0, 78.0, 80.0, 72.0, 60.0, 110.0, 70.0, 60.0, 62.0, 68.0, 80.0, 73.0, 72.0, 65.0, 73.0, 80.0, 68.0, 75.0, 90.0, 80.0, 78.0, 77.0, 80.0, 81.0, 70.0, 96.0, 80.0, 70.0, 68.0, 68.0, 65.0, 72.0, 80.0, 62.0, 56.0, 72.0, 85.0, 65.0, 89.0, 75.0, 82.0, 90.0, 60.0, 70.0, 66.0, 62.0, 100.0, 75.0, 70.0, 96.0, 77.0, 95.0, 75.0, 88.0, 77.0, 60.0, 50.0, 85.0, 65.0, 85.0, 100.0, 70.0, 90.0, 82.0, 80.0, 80.0, 60.0, 80.0, 85.0, 80.0, 72.0, 73.0, 88.0, 75.0, 75.0, 95.0, 80.0, 77.0, 85.0, 90.0, 65.0, 54.0, 88.0, 69.0, 72.0, 55.0, 60.0, 54.0, 72.0, 73.0, 82.0, 75.0, 64.0, 73.0, 69.0, 68.0, 75.0, 75.0, 75.0, 85.0, 88.0, 110.0, 90.0, 63.0, 88.0, 87.0, 70.0, 80.0, 67.0, 68.0, 63.0, 96.0, 70.0, 67.0, 85.0, 52.0, 88.0, 50.0, 68.0, 69.0, 70.0, 80.0, 75.0, 65.0, 75.0, 72.0, 54.0, 68.0, 75.0, 82.0, 80.0, 75.0, 65.0, 61.0, 85.0, 75.0, 56.0, 70.0, 65.0, 66.0, 88.0, 55.0, 75.0, 73.0, 70.0, 90.0, 80.0, 88.0, 71.0, 100.0, 73.0, 75.0, 85.0, 73.0, 140.0, 85.0, 70.0, 60.0, 60.0, 90.0, 80.0, 75.0, 75.0, 75.0, 78.0, 85.0, 90.0, 70.0, 85.0, 70.0, 130.0, 95.0, 80.0, 63.0, 63.0, 84.0, 85.0, 77.0, 63.0, 58.0, 75.0, 90.0, 87.0, 75.0, 90.0, 60.0, 80.0, 85.0, 65.0, 96.0, 72.0, 80.0, 85.0, 100.0, 70.0, 60.0, 62.0, 85.0, 75.0, 72.0, 70.0, 83.0, 65.0, 70.0, 90.0, 90.0, 73.0, 65.0, 65.0, 90.0, 65.0, 63.0, 73.0, 70.0, 67.0, 78.0, 60.0, 104.0, 75.0, 80.0, 80.0, 72.0, 75.0, 98.0, 77.0, 60.0, 86.0, 88.0, 100.0, 76.0, 70.0, 60.0, 72.0, 65.0, 75.0, 95.0, 75.0, 90.0, 75.0, 60.0, 90.0, 90.0, 80.0, 67.0, 65.0, 75.0, 75.0, 71.0, 80.0, 72.0, 85.0, 66.0, 55.0, 62.0, 73.0, 75.0, 65.0, 62.0, 75.0, 78.0, 92.0, 80.0, 75.0, 78.0, 81.0, 62.0, 60.0, 94.0, 80.0, 63.0, 60.0, 96.0, 78.0, 75.0, 92.0, 89.0, 72.0, 95.0, 75.0, 70.0, 95.0, 80.0, 68.0, 105.0, 75.0, 50.0, 62.0, 83.0, 78.0, 60.0, 73.0, 75.0, 70.0, 100.0, 76.0, 81.0, 68.0, 63.0, 65.0, 80.0, 92.0, 58.0, 85.0, 75.0, 72.0, 80.0, 72.0, 70.0, 85.0, 70.0, 110.0, 75.0, 58.0, 62.0, 58.0, 85.0, 63.0, 73.0, 85.0, 80.0, 63.0, 72.0, 85.0, 91.0, 75.0, 75.0, 85.0, 70.0, 80.0, 100.0, 82.0, 63.0, 60.0, 90.0, 88.0, 75.0, 80.0, 80.0, 81.0, 64.0, 58.0, 80.0, 68.0, 70.0, 75.0, 89.0, 66.0, 105.0, 60.0, 64.0, 69.0, 78.0, 70.0, 72.0, 72.0, 80.0, 72.0, 85.0, 85.0, 78.0, 53.0, 75.0, 78.0, 80.0, 87.0, 68.0, 82.0, 68.0, 80.0, 70.0, 79.0, 90.0, 90.0, 94.0, 83.0, 75.0, 53.0, 60.0, 88.0, 66.0, 68.0, 85.0, 78.0, 90.0, 85.0, 73.0, 83.0, 68.0, 85.0, 67.0, 71.0, 80.0, 60.0, 67.0, 78.0, 88.0, 77.0, 80.0, 70.0, 69.0, 80.0, 65.0, 72.0, 90.0, 65.0, 72.0, 85.0, 67.0, 108.0, 58.0, 76.0, 79.0, 78.0, 65.0, 60.0, 66.0, 67.0, 105.0, 77.0, 63.0, 95.0, 56.0, 73.0, 80.0, 58.0, 60.0, 80.0, 58.0, 72.0, 55.0, 88.0, 65.0, 76.0, 85.0, 84.0, 75.0, 67.0, 90.0, 83.0, 72.0, 94.0, 85.0, 65.0, 69.0, 85.0, 75.0, 75.0, 72.0, 68.0, 70.0, 60.0, 71.0, 60.0, 60.0, 75.0, 58.0, 75.0, 85.0, 100.0, 76.0, 68.0, 66.0, 65.0, 77.0, 87.0, 70.0, 80.0, 110.0, 80.0, 90.0, 75.0, 62.0, 75.0, 82.0, 88.0, 76.0, 69.0, 60.0, 68.0, 67.0, 87.0, 87.0, 80.0, 72.0, 60.0, 80.0, 70.0, 81.0, 70.0, 106.0, 62.0, 80.0, 75.0, 72.0, 60.0, 67.0, 63.0, 65.0, 72.0, 70.0, 52.0, 80.0, 80.0, 75.0, 85.0, 65.0, 110.0, 68.0, 104.0, 70.0, 83.0, 95.0, 83.0, 70.0, 59.0, 64.0, 55.0, 70.0, 77.0, 56.0, 75.0, 85.0, 63.0, 60.0, 61.0, 65.0, 92.0, 85.0, 82.0, 75.0, 63.0, 72.0, 76.0, 85.0, 76.0, 70.0, 88.0, 70.0, 100.0, 73.0, 75.0, 70.0, 76.0, 72.0, 70.0, 62.0, 68.0, 70.0, 63.0, 88.0, 88.0, 85.0, 90.0, 72.0, 94.0, 75.0, 70.0, 83.0, 100.0, 70.0, 75.0, 60.0, 63.0, 75.0, 75.0, 92.0, 67.0, 75.0, 53.0, 73.0, 75.0, 82.0, 85.0, 60.0, 72.0, 75.0, 110.0, 92.0, 75.0, 96.0, 65.0, 70.0, 63.0, 107.0, 80.0, 80.0, 75.0, 95.0, 75.0, 60.0, 77.0, 90.0, 60.0, 65.0, 68.0, 90.0, 95.0, 83.0, 55.0, 73.0, 77.0, 66.0, 88.0, 70.0, 75.0, 74.0, 70.0, 69.0, 67.0, 90.0, 69.0, 72.0, 85.0, 76.0, 75.0, 72.0, 90.0, 70.0, 65.0, 78.0, 60.0, 70.0, 74.0, 72.0, 60.0, 82.0, 76.0, 54.0, 75.0, 80.0, 80.0, 76.0, 68.0, 70.0, 63.0, 75.0, 80.0, 55.0, 66.0, 80.0, 80.0, 82.0, 70.0, 76.0, 75.0, 68.0, 80.0, 87.0, 71.0, 95.0, 75.0, 88.0, 95.0, 108.0, 90.0, 110.0, 80.0, 108.0, 85.0, 75.0, 77.0, 73.0, 85.0, 75.0, 110.0, 84.0, 80.0, 95.0, 72.0, 60.0, 60.0, 80.0, 78.0, 80.0, 80.0, 65.0, 92.0, 70.0, 72.0, 88.0, 75.0, 75.0, 76.0, 75.0, 78.0, 80.0, 63.0, 90.0, 75.0, 67.0, 72.0, 66.0, 98.0, 75.0, 62.0, 70.0, 75.0, 75.0, 68.0, 65.0, 64.0, 80.0, 68.0, 80.0, 81.0, 75.0, 75.0, 75.0, 65.0, 80.0, 60.0, 50.0, 92.0, 86.0, 70.0, 65.0, 110.0, 67.0, 75.0, 71.0, 48.0, 75.0, 77.0, 80.0, 76.0, 70.0, 90.0, 77.0, 70.0, 65.0, 60.0, 100.0, 70.0, 58.0, 60.0, 61.0, 83.0, 112.0, 56.0, 90.0, 90.0, 75.0, 77.0, 94.0, 75.0, 68.0, 57.0, 85.0, 75.0, 100.0, 125.0, 62.0, 60.0, 55.0, 81.0, 60.0, 80.0, 71.0, 76.0, 85.0, 63.0, 66.0, 95.0, 63.0, 75.0, 90.0, 72.0, 67.0, 62.0, 78.0, 72.0, 54.0, 73.0, 75.0, 90.0, 53.0, 91.0, 75.0, 70.0, 94.0, 78.0, 86.0, 80.0, 80.0, 65.0, 63.0, 79.0, 70.0, 80.0, 60.0, 66.0, 76.0, 103.0, 88.0, 65.0, 67.0, 65.0, 75.0, 80.0, 78.0, 82.0, 92.0, 74.0, 75.0, 85.0, 75.0, 70.0, 85.0, 90.0, 70.0, 80.0, 70.0, 85.0, 77.0, 85.0, 72.0, 79.0, 67.0, 75.0, 80.0, 80.0, 83.0, 69.0, 63.0, 82.0, 65.0, 78.0, 69.0, 69.0, 82.0, 72.0, 78.0, 78.0, 69.0, 65.0, 70.0, 85.0, 69.0, 88.0, 60.0, 86.0, 58.0, 87.0, 83.0, 95.0, 66.0, 64.0, 68.0, 68.0, 75.0, 72.0, 64.0, 63.0, 60.0, 80.0, 88.0, 76.0, 60.0, 70.0, 75.0, 73.0, 70.0, 82.0, 75.0, 96.0, 82.0, 70.0, 72.0, 60.0, 64.0, 93.0, 80.0, 58.0, 70.0, 70.0, 80.0, 65.0, 63.0, 79.0, 80.0, 65.0, 85.0, 58.0, 110.0, 66.0, 103.0, 75.0, 70.0, 85.0, 90.0, 85.0, 72.0, 72.0, 56.0, 70.0, 81.0, 68.0, 75.0, 67.0, 80.0, 100.0, 72.0, 100.0, 98.0, 68.0, 75.0, 85.0, 64.0, 65.0, 70.0, 70.0, 75.0, 80.0, 57.0, 66.0, 75.0, 80.0, 75.0, 60.0, 85.0, 100.0, 60.0, 90.0, 75.0, 80.0, 75.0, 58.0, 75.0, 44.0, 55.0, 70.0, 75.0, 95.0, 70.0, 80.0, 58.0, 75.0, 70.0, 75.0, 85.0, 100.0, 76.0, 82.0, 85.0, 60.0, 83.0, 65.0, 72.0, 60.0, 60.0, 78.0, 83.0, 80.0, 70.0, 100.0, 75.0, 75.0, 95.0, 75.0, 78.0, 83.0, 72.0, 81.0, 80.0, 72.0, 95.0, 73.0, 80.0, 72.0, 60.0, 72.0, 63.0, 75.0, 60.0, 80.0, 80.0, 88.0, 68.0, 50.0, 89.0, 75.0, 69.0, 70.0, 75.0, 90.0, 87.0, 71.0, 100.0, 69.0, 73.0, 100.0, 80.0, 67.0, 75.0, 84.0, 70.0, 86.0, 75.0, 75.0, 80.0, 60.0, 75.0, 60.0, 80.0, 75.0, 60.0, 63.0, 67.0, 82.0, 83.0, 85.0, 75.0, 100.0, 62.0, 72.0, 80.0, 66.0, 93.0, 80.0, 100.0, 70.0, 80.0, 95.0, 73.0, 75.0, 75.0, 65.0, 75.0, 63.0, 68.0, 60.0, 54.0, 68.0, 75.0, 70.0, 80.0, 82.0, 80.0, 90.0, 95.0, 60.0, 70.0, 73.0, 94.0, 55.0, 75.0, 60.0, 60.0, 70.0, 70.0, 82.0, 75.0, 75.0, 90.0, 80.0, 70.0, 85.0, 75.0, 66.0, 75.0, 75.0, 72.0, 56.0, 75.0, 58.0, 80.0, 78.0, 67.0, 82.0, 82.0, 70.0, 80.0, 70.0, 66.0, 87.0, 70.0, 75.0, 58.0, 75.0, 65.0, 100.0, 80.0, 66.0, 70.0, 80.0, 75.0, 64.0, 75.0, 82.0, 70.0, 72.0, 100.0, 68.0, 90.0, 80.0, 65.0, 80.0, 70.0, 78.0, 70.0, 72.0, 70.0, 75.0, 88.0, 85.0, 80.0, 66.0, 75.0, 90.0, 80.0, 76.0, 75.0, 82.0, 85.0, 90.0, 59.0, 58.0, 75.0, 62.0, 75.0, 80.0, 64.0, 72.0, 60.0, 67.0, 105.0, 80.0, 64.0, 95.0, 65.0, 60.0, 85.0, 74.0, 80.0, 70.0, 75.0, 80.0, 63.0, 80.0, 80.0, 90.0, 70.0, 80.0, 70.0, 69.0, 60.0, 90.0, 75.0, 68.0, 88.0, 72.0, 60.0, 55.0, 80.0, 74.0, 52.0, 60.0, 67.0, 70.0, 70.0, 72.0, 68.0, 75.0, 82.0, 90.0, 50.0, 60.0, 73.0, 65.0, 72.0, 65.0, 70.0, 72.0, 72.0, 74.0, 75.0, 70.0, 95.0, 100.0, 85.0, 93.0, 70.0, 95.0, 78.0, 69.0, 75.0, 73.0, 70.0, 63.0, 72.0, 77.0, 80.0, 70.0, 75.0, 78.0, 66.0, 60.0, 96.0, 90.0, 64.0, 72.0, 90.0, 78.0, 95.0, 65.0, 80.0, 72.0, 70.0, 75.0, 90.0, 74.0, 66.0, 90.0, 72.0, 80.0, 85.0, 89.0, 75.0, 60.0, 88.0, 67.0, 50.0, 110.0, 58.0, 68.0, 78.0, 60.0, 77.0, 80.0, 70.0, 90.0, 78.0, 75.0, 60.0, 87.0, 53.0, 63.0, 73.0, 96.0, 68.0, 75.0, 80.0, 75.0, 75.0, 65.0, 100.0, 67.0, 57.0, 100.0, 80.0, 58.0, 83.0, 90.0, 85.0, 58.0, 96.0, 80.0, 80.0, 52.0, 100.0, 60.0, 80.0, 79.0, 75.0, 87.0, 72.0, 68.0, 47.0, 90.0, 79.0, 65.0, 75.0, 60.0, 67.0, 70.0, 90.0, 60.0, 75.0, 68.0, 64.0, 58.0, 56.0, 84.0, 55.0, 75.0, 80.0, 68.0, 66.0, 78.0, 65.0, 70.0, 72.0, 80.0, 73.0, 76.0, 70.0, 75.0, 72.0, 64.0, 80.0, 72.0, 70.0, 80.0, 59.0, 75.0, 63.0, 75.0, 83.0, 70.0, 68.0, 90.0, 64.0, 65.0, 88.0, 64.0, 60.0, 82.0, 56.0, 86.0, 70.0, 60.0, 86.0, 75.0, 95.0, 83.0, 75.0, 50.0, 80.0, 100.0, 75.0, 72.0, 63.0, 75.0, 75.0, 96.0, 67.0, 65.0, 72.0, 85.0, 80.0, 75.0, 80.0, 73.0, 85.0, 54.0, 80.0, 60.0, 67.0, 70.0, 66.0, 60.0, 60.0, 110.0, 78.0, 65.0, 58.0, 65.0, 75.0, 68.0, 76.0, 78.0, 76.0, 72.0, 70.0, 90.0, 75.0, 71.0, 70.0, 75.0, 85.0, 68.0, 57.0, 100.0, 60.0, 64.0, 85.0, 62.0, 75.0, 86.0, 69.0, 75.0, 75.0, 80.0, 90.0, 93.0, 66.0, 85.0, 70.0, 63.0, 94.0, 62.0, 50.0, 75.0, 70.0, 62.0, 65.0, 90.0, 80.0, 78.0, 82.0, 105.0, 60.0, 66.0, 67.0, 80.0, 110.0, 53.0, 72.0, 70.0, 64.0, 69.0, 72.0, 58.0, 75.0, 56.0, 85.0, 75.0, 70.0, 74.0, 58.0, 95.0, 110.0, 100.0, 54.0, 65.0, 60.0, 70.0, 84.0, 60.0, 60.0, 75.0, 75.0, 79.0, 80.0, 60.0, 65.0, 65.0, 60.0, 83.0, 64.0, 50.0, 75.0, 70.0, 95.0, 71.0, 68.0, 66.0, 85.0, 67.0, 65.0, 95.0, 60.0, 70.0, 80.0, 45.0, 73.0, 60.0, 69.0, 70.0, 97.0, 75.0, 90.0, 66.0, 72.0, 85.0, 63.0, 60.0, 85.0, 75.0, 52.0, 92.0, 85.0, 100.0, 80.0, 70.0, 95.0, 80.0, 76.0, 70.0, 80.0, 80.0, 68.0, 64.0, 110.0, 60.0, 85.0, 80.0, 85.0, 70.0, 80.0, 74.0, 62.0, 90.0, 68.0, 77.0, 95.0, 65.0, 75.0, 70.0, 67.0, 85.0, 68.0, 105.0, 65.0, 80.0, 70.0, 65.0, 73.0, 66.0, 67.0, 68.0, 80.0, 75.0, 60.0, 73.0, 50.0, 65.0, 90.0, 60.0, 75.0, 90.0, 68.0, 88.0, 75.0, 95.0, 77.0, 70.0, 66.0, 66.0, 70.0, 80.0, 60.0, 78.0, 90.0, 52.0, 68.0, 62.0, 85.0, 60.0, 65.0, 60.0, 52.0, 85.0, 90.0, 66.0, 58.0, 77.0, 72.0, 87.0, 68.0, 66.0, 75.0, 68.0, 90.0, 84.0, 75.0, 80.0, 72.0, 75.0, 72.0, 80.0, 80.0, 62.0, 72.0, 53.0, 85.0, 62.0, 83.0, 72.0, 73.0, 75.0, 72.0, 70.0, 72.0, 69.0, 100.0, 55.0, 63.0, 87.0, 80.0, 90.0, 87.0, 75.0, 100.0, 95.0, 87.0, 75.0, 86.0, 50.0, 72.0, 60.0, 65.0, 75.0, 72.0, 85.0, 69.0, 76.0, 87.0, 83.0, 80.0, 79.0, 75.0, 80.0, 60.0, 78.0, 77.0, 75.0, 72.0, 75.0, 61.0, 72.0, 70.0, 110.0, 78.0, 75.0, 75.0, 77.0, 62.0, 64.0, 85.0, 76.0, 67.0, 75.0, 85.0, 63.0, 80.0, 75.0, 50.0, 87.0, 92.0, 71.0, 98.0, 80.0, 75.0, 63.0, 79.0, 72.0, 76.0, 75.0, 68.0, 90.0, 60.0, 70.0, 75.0, 75.0, 75.0, 68.0, 60.0, 72.0, 70.0, 68.0, 83.0, 84.0, 75.0, 73.0, 90.0, 90.0, 70.0, 55.0, 75.0, 75.0, 82.0, 65.0, 72.0, 58.0, 66.0, 80.0, 63.0, 70.0, 70.0, 60.0, 88.0, 85.0, 75.0, 75.0, 75.0, 75.0, 53.0, 96.0, 80.0, 70.0, 60.0, 66.0, 76.0, 71.0, 82.0, 75.0, 68.0, 75.0, 85.0, 58.0, 95.0, 65.0, 65.0, 60.0, 72.0, 70.0, 72.0, 78.0, 56.0, 60.0, 100.0, 75.0, 65.0, 60.0, 57.0, 70.0, 73.0, 110.0, 72.0, 70.0, 82.0, 60.0, 75.0, 88.0, 75.0, 90.0, 82.0, 83.0, 75.0, 75.0, 72.0, 88.0, 110.0, 70.0, 67.0, 90.0, 80.0, 90.0, 67.0, 72.0, 86.0, 72.0, 85.0, 90.0, 80.0, 69.0, 60.0, 70.0, 92.0, 60.0, 75.0, 70.0, 72.0, 60.0, 74.0, 64.0, 98.0, 71.0, 75.0, 82.0, 75.0, 72.0, 63.0, 68.0, 65.0, 85.0, 72.0, 85.0, 80.0, 80.0, 92.0, 60.0, 60.0, 85.0, 96.0, 70.0, 65.0, 68.0, 67.0, 68.0, 80.0, 73.0, 55.0, 72.0, 122.0, 72.0, 67.0, 90.0, 78.0, 110.0, 85.0, 75.0, 100.0, 80.0, 80.0, 65.0, 75.0, 68.0, 75.0, 90.0, 80.0, 85.0, 80.0, 75.0, 75.0, 73.0, 72.0, 75.0, 75.0, 62.0, 70.0, 65.0, 80.0, 75.0, 110.0, 75.0, 57.0, 64.0, 75.0, 75.0, 69.0, 70.0, 73.0, 85.0, 75.0, 75.0, 60.0, 70.0, 52.0, 86.0, 90.0, 71.0, 75.0, 77.0, 94.0, 65.0, 67.0, 106.0, 60.0, 95.0, 71.0, 80.0, 95.0, 66.0, 95.0, 68.0, 92.0, 70.0, 62.0, 90.0, 67.0, 75.0, 85.0, 70.0, 70.0, 68.0, 78.0, 65.0, 75.0, 67.0, 75.0, 75.0, 80.0, 85.0, 69.0, 70.0, 67.0, 69.0, 80.0, 96.0, 93.0, 92.0, 74.0, 80.0, 67.0, 81.0, 78.0, 77.0, 52.0, 70.0, 87.0, 67.0, 68.0, 80.0, 75.0, 72.0, 75.0, 60.0, 90.0, 80.0, 82.0, 80.0, 86.0, 90.0, 68.0, 90.0, 65.0, 80.0, 80.0, 75.0, 80.0, 95.0, 82.0, 58.0, 60.0, 88.0, 65.0, 100.0, 88.0, 75.0, 54.0, 70.0, 110.0, 75.0, 68.0, 80.0, 70.0, 63.0, 110.0, 79.0, 100.0, 83.0, 70.0, 86.0, 80.0, 74.0, 68.0, 75.0, 88.0, 70.0, 66.0, 72.0, 93.0, 60.0, 85.0, 92.0, 90.0, 64.0, 65.0, 62.0, 63.0, 80.0, 91.0, 95.0, 70.0, 60.0, 62.0, 80.0, 65.0, 80.0, 90.0, 78.0, 70.0, 61.0, 88.0, 48.0, 75.0, 65.0, 107.0, 56.0, 66.0, 96.0, 77.0, 100.0, 68.0, 85.0, 91.0, 75.0, 70.0, 72.0, 50.0, 88.0, 68.0, 72.0, 80.0, 75.0, 68.0, 71.0, 67.0, 75.0, 85.0, 67.0, 70.0, 107.0, 60.0, 80.0, 60.0, 75.0, 67.0, 66.0, 70.0, 102.0, 75.0, 83.0, 80.0, 70.0, 83.0, 65.0, 85.0, 80.0, 68.0, 75.0, 80.0, 73.0, 120.0, 75.0, 65.0, 90.0, 78.0, 90.0, 100.0, 70.0, 70.0, 60.0, 120.0, 60.0, 95.0, 70.0, 84.0, 85.0, 80.0, 75.0, 69.0, 75.0, 62.0, 70.0, 85.0, 80.0, 95.0, 66.0, 67.0, 100.0, 80.0, 60.0, 60.0, 85.0, 65.0, 70.0, 60.0, 70.0, 75.0, 80.0, 78.0, 85.0, 65.0, 67.0, 75.0, 68.0, 66.0, 75.0, 75.0, 67.0, 85.0, 72.0, 79.0, 75.0, 75.0, 72.0, 64.0, 66.0, 72.0, 77.0, 100.0, 82.0, 66.0, 78.0, 92.0, 58.0, 70.0, 75.0, 75.0, 70.0, 68.0, 65.0, 78.0, 100.0, 90.0, 65.0, 88.0, 64.0, 85.0, 60.0, 72.0, 75.0, 70.0, 92.0, 73.0, 75.0, 75.0, 80.0, 80.0, 80.0, 75.0, 96.0, 73.0, 72.0, 76.0, 85.0, 70.0, 82.0, 52.0, 80.0, 75.0, 63.0, 75.0, 66.0, 80.0, 65.0, 83.0, 63.0, 85.0, 70.0, 75.0, 75.0, 73.0, 62.0, 90.0, 62.0, 80.0, 67.0, 75.0, 82.0, 70.0, 62.0, 55.0, 75.0, 85.0, 60.0, 72.0, 99.0, 72.0, 92.0, 70.0, 92.0, 83.0, 75.0, 60.0, 65.0, 63.0, 84.0, 75.0, 60.0, 70.0, 108.0, 65.0, 94.0, 72.0, 95.0, 90.0, 60.0, 92.0, 75.0, 75.0, 90.0, 60.0, 65.0, 87.0, 84.0, 120.0, 66.0, 95.0, 52.0, 75.0, 68.0, 70.0, 67.0, 80.0, 83.0, 72.0, 64.0, 68.0, 67.0, 60.0, 60.0, 85.0, 100.0, 67.0, 72.0, 68.0, 67.0, 75.0, 75.0, 73.0, 65.0, 78.0, 71.0, 75.0, 72.0, 75.0, 95.0, 66.0, 77.0, 85.0, 78.0, 70.0, 75.0, 65.0, 60.0, 72.0, 70.0, 75.0, 63.0, 84.0, 75.0, 63.0, 79.0, 90.0, 80.0, 100.0, 59.0, 92.0, 75.0, 72.0, 72.0, 75.0, 94.0, 86.0, 75.0, 115.0, 86.0, 80.0, 90.0, 60.0, 80.0, 77.0, 69.0, 64.0, 60.0, 68.0, 92.0, 85.0, 65.0, 67.0, 110.0, 95.0, 90.0, 72.0, 78.0, 67.0, 67.0, 73.0, 58.0, 75.0, 72.0, 75.0, 84.0, 100.0, 60.0, 72.0, 50.0, 70.0, 80.0, 79.0, 69.0, 65.0, 72.0, 80.0, 75.0, 75.0, 65.0, 82.0, 65.0, 55.0, 70.0, 69.0, 75.0, 62.0, 85.0, 72.0, 80.0, 80.0, 80.0, 70.0, 92.0, 63.0, 75.0, 82.0, 70.0, 68.0, 75.0, 100.0, 68.0, 70.0, 94.0, 96.0, 75.0, 74.0, 95.0, 67.0, 79.0, 62.0, 85.0, 80.0, 66.0, 85.0, 70.0, 103.0, 100.0, 71.0, 53.0, 84.0, 65.0, 62.0, 80.0, 66.0, 72.0, 75.0, 80.0, 85.0, 75.0, 63.0, 67.0, 100.0, 85.0, 72.0, 75.0, 66.0, 70.0, 75.0, 75.0, 100.0, 96.0, 65.0, 60.0, 75.0, 75.0, 90.0, 75.0, 82.0, 75.0, 70.0, 75.0, 75.0, 60.0, 75.0, 70.0, 74.0, 64.0, 75.0, 66.0, 96.0, 80.0, 69.0, 75.0, 53.0, 85.0, 86.0, 80.0, 75.0, 55.0, 80.0, 73.0, 67.0, 95.0, 68.0, 70.0, 85.0, 52.0, 58.0, 80.0, 75.0, 75.0, 92.0, 80.0, 85.0, 70.0, 95.0, 86.0, 92.0, 74.0, 75.0, 98.0, 75.0, 100.0, 100.0, 75.0, 75.0, 65.0, 68.0, 72.0, 65.0, 72.0, 120.0, 90.0, 60.0, 75.0, 66.0, 100.0, 82.0, 62.0, 70.0, 67.0, 76.0, 62.0, 82.0, 80.0, 80.0, 100.0, 58.0, 75.0, 78.0, 80.0, 60.0, 90.0, 72.0, 80.0, 75.0, 100.0, 75.0, 70.0, 68.0, 96.0, 80.0, 70.0, 74.0, 75.0, 64.0, 85.0, 67.0, 60.0, 84.0, 73.0, 80.0, 80.0, 77.0, 75.0, 79.0, 70.0, 85.0, 85.0, 68.0, 63.0, 102.0, 92.0, 98.0, 90.0, 75.0, 75.0, 65.0, 68.0, 62.0, 71.0, 63.0, 67.0, 52.0, 69.0, 72.0, 86.0, 83.0, 70.0, 80.0, 75.0, 98.0, 75.0, 63.0, 63.0, 62.0, 70.0, 68.0, 90.0, 76.0, 80.0, 85.0, 75.0, 80.0, 86.0, 75.0, 70.0, 95.0, 75.0, 60.0, 75.0, 72.0, 72.0, 52.0, 54.0, 100.0, 105.0, 60.0, 68.0, 62.0, 64.0, 90.0, 60.0, 75.0, 65.0, 75.0, 65.0, 80.0, 63.0, 70.0, 95.0, 65.0, 82.0, 90.0, 75.0, 80.0, 82.0, 88.0, 65.0, 69.0, 50.0, 60.0, 80.0, 62.0, 60.0, 68.0, 69.0, 86.0, 75.0, 77.0, 90.0, 85.0, 72.0, 75.0, 70.0, 56.0, 64.0, 80.0, 64.0, 83.0, 60.0, 72.0, 78.0, 83.0, 76.0, 75.0, 85.0, 70.0, 85.0, 90.0, 75.0, 65.0, 80.0, 68.0, 98.0, 80.0, 105.0, 72.0, 75.0, 77.0, 80.0, 85.0, 95.0, 76.0, 76.0, 76.0, 64.0, 75.0, 85.0, 85.0, 60.0, 60.0, 72.0, 78.0, 54.0, 90.0, 65.0, 92.0, 60.0, 70.0, 95.0, 80.0, 85.0, 143.0, 78.0, 66.0, 96.0, 101.0, 100.0, 65.0, 85.0, 65.0, 71.0, 72.0, 75.0, 55.0, 68.0, 110.0, 95.0, 55.0, 95.0, 67.0, 80.0, 70.0, 70.0, 80.0, 75.0, 68.0, 75.0, 70.0, 80.0, 70.0, 70.0, 94.0, 94.0, 85.0, 72.0, 78.0, 86.0, 66.0, 72.0, 71.0, 93.0, 72.0, 110.0, 100.0, 52.0, 72.0, 58.0, 60.0, 87.0, 60.0, 90.0, 72.0, 75.0, 80.0, 75.0, 100.0, 70.0, 66.0, 95.0, 82.0, 88.0, 60.0, 69.0, 94.0, 73.0, 95.0, 95.0, 70.0, 80.0, 80.0, 75.0, 120.0, 75.0, 85.0, 85.0, 63.0, 110.0, 85.0, 115.0, 85.0, 90.0, 60.0, 70.0, 70.0, 75.0, 98.0, 115.0, 80.0, 80.0, 50.0, 48.0, 75.0, 80.0, 94.0, 80.0, 75.0, 66.0, 82.0, 72.0, 65.0, 75.0, 55.0, 75.0, 60.0, 58.0, 85.0, 68.0, 75.0, 82.0, 50.0, 75.0, 64.0, 83.0, 70.0, 80.0, 65.0, 75.0, 75.0, 80.0, 56.0, 100.0, 75.0, 85.0, 75.0, 85.0, 90.0, 75.0, 67.0, 70.0, 75.0, 90.0, 75.0, 86.0, 75.0, 75.0, 82.0, 89.0, 83.0, 70.0, 58.0, 60.0, 80.0, 70.0, 65.0, 57.0, 60.0, 75.0, 60.0, 70.0, 65.0, 78.0, 65.0, 70.0, 63.0, 74.0, 91.0, 72.0, 78.0, 75.0, 75.0, 67.0, 85.0, 75.0, 60.0, 75.0, 65.0, 82.0, 75.0, 67.0, 64.0, 85.0, 65.0, 85.0, 80.0, 104.0, 77.0, 60.0, 85.0, 80.0, 80.0, 58.0, 72.0, 75.0, 70.0, 62.0, 73.0, 65.0, 77.0, 73.0, 78.0, 67.0, 85.0, 95.0, 65.0, 72.0, 83.0, 80.0, 70.0, 72.0, 65.0, 79.0, 70.0, 71.0, 75.0, 75.0, 68.0, 86.0, 65.0, 60.0, 80.0, 95.0, 80.0, 56.0, 70.0, 69.0, 64.0, 105.0, 80.0, 72.0, 98.0, 100.0, 72.0, 75.0, 66.0, 68.0, 75.0, 80.0, 90.0, 55.0, 76.0, 72.0, 80.0, 75.0, 98.0, 75.0, 74.0, 75.0, 72.0, 75.0, 83.0, 70.0, 65.0, 85.0, 67.0, 95.0, 75.0, 65.0, 95.0, 84.0, 105.0, 75.0, 75.0, 75.0, 57.0, 78.0, 75.0, 65.0, 83.0, 75.0, 88.0, 65.0, 65.0, 90.0, 60.0, 75.0, 68.0, 100.0, 76.0, 75.0, 67.0, 100.0, 65.0, 90.0, 82.0, 68.0, 84.0, 75.0, 63.0, 75.0, 76.0, 76.0, 77.0, 95.0, 74.0, 80.0, 80.0, 68.0, 86.0, 68.0, 60.0, 82.0, 80.0, 70.0, 90.0, 56.0, 75.0, 75.0, 68.0, 80.0, 69.0, 62.0, 75.0, 75.0, 75.0, 79.0, 96.0, 74.0, 75.0, 95.0, 80.0, 68.0, 107.0, 75.0, 63.0, 85.0, 75.0, 73.0, 75.0, 57.0, 90.0, 89.0, 105.0, 65.0, 66.0, 82.0, 102.0, 98.0, 92.0, 94.0, 71.0, 63.0, 75.0, 79.0, 68.0, 65.0, 90.0, 80.0, 88.0, 65.0, 75.0, 65.0, 80.0, 62.0, 65.0, 70.0, 79.0, 73.0, 66.0, 74.0, 66.0, 80.0, 60.0, 75.0, 72.0, 80.0, 80.0, 80.0, 60.0, 62.0, 78.0, 63.0, 75.0, 100.0, 77.0, 90.0, 90.0, 103.0, 66.0, 95.0, 96.0, 90.0, 72.0, 72.0, 65.0, 75.0, 75.0, 75.0, 68.0, 87.0, 60.0, 72.0, 80.0, 60.0, 60.0, 70.0, 67.0, 88.0, 65.0, 77.0, 72.0, 90.0, 92.0, 115.0, 72.0, 70.0, 72.0, 80.0, 85.0, 67.0, 85.0, 85.0, 60.0, 92.0, 85.0, 72.0, 100.0, 85.0, 55.0, 90.0, 75.0, 70.0, 79.0, 80.0, 96.0, 80.0, 66.0, 83.0, 93.0, 89.0, 85.0, 70.0, 55.0, 91.0, 82.0, 75.0, 85.0, 82.0, 75.0, 85.0, 65.0, 68.0, 70.0, 75.0, 65.0, 67.0, 92.0, 75.0, 72.0, 70.0, 75.0, 75.0, 63.0, 65.0, 64.0, 85.0, 56.0, 88.0, 75.0, 70.0, 75.0, 85.0, 100.0, 85.0, 80.0, 80.0, 75.0, 67.0, 69.0, 80.0, 69.0, 76.0, 70.0, 60.0, 80.0, 77.0, 80.0, 75.0, 60.0, 90.0, 90.0, 86.0, 75.0, 65.0, 75.0, 75.0, 86.0, 75.0, 85.0, 78.0, 68.0, 60.0, 62.0, 96.0, 65.0, 87.0, 91.0, 83.0, 60.0, 75.0, 60.0, 90.0, 75.0, 88.0, 100.0, 60.0, 70.0, 80.0, 82.0, 65.0, 75.0, 57.0, 69.0, 72.0, 60.0, 80.0, 55.0, 82.0, 75.0, 65.0, 75.0, 62.0, 80.0, 75.0, 60.0, 56.0, 80.0, 90.0, 85.0, 87.0, 65.0, 60.0, 63.0, 72.0, 75.0, 45.0, 60.0, 84.0, 62.0, 75.0, 120.0, 66.0, 78.0, 100.0, 86.0, 70.0, 70.0, 92.0, 66.0, 75.0, 66.0, 75.0, 80.0, 65.0, 65.0, 67.0, 70.0, 65.0, 76.0, 80.0, 68.0, 85.0, 58.0, 80.0, 80.0, 63.0, 82.0, 83.0, 95.0, 80.0, 80.0, 75.0, 80.0, 90.0, 80.0, 80.0, 65.0, 90.0, 67.0, 75.0, 76.0, 78.0, 92.0, 110.0, 85.0, 55.0, 75.0, 65.0, 90.0, 75.0, 63.0, 75.0, 80.0, 75.0, 80.0, 65.0, 75.0, 70.0, 82.0, 68.0, 102.0, 115.0, 70.0, 69.0, 85.0, 85.0, 64.0, 70.0, 71.0, 56.0, 80.0, 72.0, 88.0, 90.0, 72.0, 75.0, 67.0, 66.0, 90.0, 77.0, 75.0, 67.0, 65.0, 96.0, 65.0, 90.0, 110.0, 60.0, 63.0, 80.0, 75.0, 69.0, 70.0, 60.0, 58.0, 60.0, 68.0, 63.0, 80.0, 75.0, 100.0, 75.0, 70.0, 122.0, 72.0, 88.0, 65.0, 95.0, 80.0, 86.0, 75.0, 85.0, 110.0, 72.0, 100.0, 82.0, 65.0, 84.0, 96.0, 90.0, 77.0, 66.0, 88.0, 75.0, 100.0, 80.0, 90.0, 60.0, 79.0, 82.0, 84.0, 75.0, 85.0, 70.0, 65.0, 72.0, 73.0, 80.0, 75.0, 79.0, 100.0, 95.0, 85.0, 80.0, 108.0, 62.0, 90.0, 80.0, 100.0, 62.0, 63.0, 75.0, 68.0, 74.0, 75.0, 64.0, 80.0, 72.0, 90.0, 74.0, 90.0, 75.0, 74.0, 79.0, 70.0, 75.0, 92.0, 88.0, 88.0, 90.0, 60.0, 102.0, 78.0, 75.0, 85.0, 68.0, 74.0, 73.0, 75.0, 80.0, 72.0, 62.0, 80.0, 67.0, 70.0, 80.0, 75.0, 110.0, 72.0, 64.0, 82.0, 80.0, 85.0, 66.0, 95.0, 82.0, 64.0, 85.0, 88.0, 94.0, 88.0, 77.0, 85.0, 80.0, 80.0, 85.0, 58.0, 55.0, 102.0, 72.0, 60.0, 79.0, 86.0, 92.0, 73.0, 68.0, 72.0, 65.0, 90.0, 70.0, 82.0, 63.0, 63.0, 86.0, 68.0, 83.0, 75.0, 75.0, 87.0, 79.0, 85.0, 70.0, 73.0, 75.0, 90.0, 72.0, 73.0, 63.0, 75.0, 75.0, 67.0, 80.0, 63.0, 85.0, 60.0, 88.0, 78.0, 96.0, 96.0, 75.0, 100.0, 66.0, 70.0, 85.0, 100.0, 75.0, 95.0, 80.0, 85.0, 60.0, 60.0, 82.0, 79.0, 80.0, 80.0, 65.0, 125.0, 58.0, 68.0, 80.0, 70.0, 67.0, 60.0, 60.0, 80.0, 88.0, 90.0, 73.0, 75.0, 60.0, 86.0, 60.0, 125.0, 88.0, 67.0, 70.0, 80.0, 80.0, 68.0, 75.0, 78.0, 70.0, 88.0, 80.0, 82.0, 67.0, 58.0, 90.0, 96.0, 68.0, 80.0, 75.0, 64.0, 66.0, 77.0, 80.0, 90.0, 75.0, 73.0, 70.0, 55.0, 70.0, 80.0, 82.0, 70.0, 85.0, 72.0, 90.0, 100.0, 70.0, 85.0, 68.0, 76.0, 65.0, 94.0, 69.0, 66.0, 94.0, 82.0, 80.0, 98.0, 50.0, 68.0, 63.0, 75.0, 55.0, 85.0, 75.0, 77.0, 85.0, 64.0, 80.0, 80.0, 66.0, 75.0, 84.0, 72.0, 80.0, 75.0, 90.0, 70.0, 67.0, 80.0, 85.0, 85.0, 58.0, 80.0, 65.0, 70.0, 68.0, 75.0, 68.0, 60.0, 85.0, 77.0, 52.0, 112.0, 88.0, 72.0, 75.0, 75.0, 75.0, 75.0, 69.0, 68.0, 70.0, 82.0, 65.0, 79.0, 68.0, 63.0, 60.0, 92.0, 70.0, 70.0, 88.0, 60.0, 92.0, 92.0, 80.0, 75.0, 63.0, 65.0, 75.0, 95.0, 46.0, 75.0, 79.0, 72.0, 90.0, 65.0, 75.0, 85.0, 75.0, 63.0, 75.0, 89.0, 55.0, 70.0, 85.0, 65.0, 84.0, 75.0, 76.0, 78.0, 70.0, 95.0, 72.0, 65.0, 75.0, 80.0, 70.0, 90.0, 75.0, 83.0, 67.0, 80.0, 85.0, 80.0, 60.0, 66.0, 65.0, 80.0], \"y0\": \" \", \"yaxis\": \"y\"}],\n",
              "                        {\"boxmode\": \"group\", \"legend\": {\"tracegroupgap\": 0}, \"margin\": {\"t\": 60}, \"template\": {\"data\": {\"bar\": [{\"error_x\": {\"color\": \"#2a3f5f\"}, \"error_y\": {\"color\": \"#2a3f5f\"}, \"marker\": {\"line\": {\"color\": \"#E5ECF6\", \"width\": 0.5}}, \"type\": \"bar\"}], \"barpolar\": [{\"marker\": {\"line\": {\"color\": \"#E5ECF6\", \"width\": 0.5}}, \"type\": \"barpolar\"}], \"carpet\": [{\"aaxis\": {\"endlinecolor\": \"#2a3f5f\", \"gridcolor\": \"white\", \"linecolor\": \"white\", \"minorgridcolor\": \"white\", \"startlinecolor\": \"#2a3f5f\"}, \"baxis\": {\"endlinecolor\": \"#2a3f5f\", \"gridcolor\": \"white\", \"linecolor\": \"white\", \"minorgridcolor\": \"white\", \"startlinecolor\": \"#2a3f5f\"}, \"type\": \"carpet\"}], \"choropleth\": [{\"colorbar\": {\"outlinewidth\": 0, \"ticks\": \"\"}, \"type\": \"choropleth\"}], \"contour\": [{\"colorbar\": {\"outlinewidth\": 0, \"ticks\": \"\"}, \"colorscale\": [[0.0, \"#0d0887\"], [0.1111111111111111, \"#46039f\"], [0.2222222222222222, \"#7201a8\"], [0.3333333333333333, \"#9c179e\"], [0.4444444444444444, \"#bd3786\"], [0.5555555555555556, \"#d8576b\"], [0.6666666666666666, \"#ed7953\"], [0.7777777777777778, \"#fb9f3a\"], [0.8888888888888888, \"#fdca26\"], [1.0, \"#f0f921\"]], \"type\": \"contour\"}], \"contourcarpet\": [{\"colorbar\": {\"outlinewidth\": 0, \"ticks\": \"\"}, \"type\": \"contourcarpet\"}], \"heatmap\": [{\"colorbar\": {\"outlinewidth\": 0, \"ticks\": \"\"}, \"colorscale\": [[0.0, \"#0d0887\"], [0.1111111111111111, \"#46039f\"], [0.2222222222222222, \"#7201a8\"], [0.3333333333333333, \"#9c179e\"], [0.4444444444444444, \"#bd3786\"], [0.5555555555555556, \"#d8576b\"], [0.6666666666666666, \"#ed7953\"], [0.7777777777777778, \"#fb9f3a\"], [0.8888888888888888, \"#fdca26\"], [1.0, \"#f0f921\"]], \"type\": \"heatmap\"}], \"heatmapgl\": [{\"colorbar\": {\"outlinewidth\": 0, \"ticks\": \"\"}, \"colorscale\": [[0.0, \"#0d0887\"], [0.1111111111111111, \"#46039f\"], [0.2222222222222222, \"#7201a8\"], [0.3333333333333333, \"#9c179e\"], [0.4444444444444444, \"#bd3786\"], [0.5555555555555556, \"#d8576b\"], [0.6666666666666666, \"#ed7953\"], [0.7777777777777778, \"#fb9f3a\"], [0.8888888888888888, \"#fdca26\"], [1.0, \"#f0f921\"]], \"type\": \"heatmapgl\"}], \"histogram\": [{\"marker\": {\"colorbar\": {\"outlinewidth\": 0, \"ticks\": \"\"}}, \"type\": \"histogram\"}], \"histogram2d\": [{\"colorbar\": {\"outlinewidth\": 0, \"ticks\": \"\"}, \"colorscale\": [[0.0, \"#0d0887\"], [0.1111111111111111, \"#46039f\"], [0.2222222222222222, \"#7201a8\"], [0.3333333333333333, \"#9c179e\"], [0.4444444444444444, \"#bd3786\"], [0.5555555555555556, \"#d8576b\"], [0.6666666666666666, \"#ed7953\"], [0.7777777777777778, \"#fb9f3a\"], [0.8888888888888888, \"#fdca26\"], [1.0, \"#f0f921\"]], \"type\": \"histogram2d\"}], \"histogram2dcontour\": [{\"colorbar\": {\"outlinewidth\": 0, \"ticks\": \"\"}, \"colorscale\": [[0.0, \"#0d0887\"], [0.1111111111111111, \"#46039f\"], [0.2222222222222222, \"#7201a8\"], [0.3333333333333333, \"#9c179e\"], [0.4444444444444444, \"#bd3786\"], [0.5555555555555556, \"#d8576b\"], [0.6666666666666666, \"#ed7953\"], [0.7777777777777778, \"#fb9f3a\"], [0.8888888888888888, \"#fdca26\"], [1.0, \"#f0f921\"]], \"type\": \"histogram2dcontour\"}], \"mesh3d\": [{\"colorbar\": {\"outlinewidth\": 0, \"ticks\": \"\"}, \"type\": \"mesh3d\"}], \"parcoords\": [{\"line\": {\"colorbar\": {\"outlinewidth\": 0, \"ticks\": \"\"}}, \"type\": \"parcoords\"}], \"pie\": [{\"automargin\": true, \"type\": \"pie\"}], \"scatter\": [{\"marker\": {\"colorbar\": {\"outlinewidth\": 0, \"ticks\": \"\"}}, \"type\": \"scatter\"}], \"scatter3d\": [{\"line\": {\"colorbar\": {\"outlinewidth\": 0, \"ticks\": \"\"}}, \"marker\": {\"colorbar\": {\"outlinewidth\": 0, \"ticks\": \"\"}}, \"type\": \"scatter3d\"}], \"scattercarpet\": [{\"marker\": {\"colorbar\": {\"outlinewidth\": 0, \"ticks\": \"\"}}, \"type\": \"scattercarpet\"}], \"scattergeo\": [{\"marker\": {\"colorbar\": {\"outlinewidth\": 0, \"ticks\": \"\"}}, \"type\": \"scattergeo\"}], \"scattergl\": [{\"marker\": {\"colorbar\": {\"outlinewidth\": 0, \"ticks\": \"\"}}, \"type\": \"scattergl\"}], \"scattermapbox\": [{\"marker\": {\"colorbar\": {\"outlinewidth\": 0, \"ticks\": \"\"}}, \"type\": \"scattermapbox\"}], \"scatterpolar\": [{\"marker\": {\"colorbar\": {\"outlinewidth\": 0, \"ticks\": \"\"}}, \"type\": \"scatterpolar\"}], \"scatterpolargl\": [{\"marker\": {\"colorbar\": {\"outlinewidth\": 0, \"ticks\": \"\"}}, \"type\": \"scatterpolargl\"}], \"scatterternary\": [{\"marker\": {\"colorbar\": {\"outlinewidth\": 0, \"ticks\": \"\"}}, \"type\": \"scatterternary\"}], \"surface\": [{\"colorbar\": {\"outlinewidth\": 0, \"ticks\": \"\"}, \"colorscale\": [[0.0, \"#0d0887\"], [0.1111111111111111, \"#46039f\"], [0.2222222222222222, \"#7201a8\"], [0.3333333333333333, \"#9c179e\"], [0.4444444444444444, \"#bd3786\"], [0.5555555555555556, \"#d8576b\"], [0.6666666666666666, \"#ed7953\"], [0.7777777777777778, \"#fb9f3a\"], [0.8888888888888888, \"#fdca26\"], [1.0, \"#f0f921\"]], \"type\": \"surface\"}], \"table\": [{\"cells\": {\"fill\": {\"color\": \"#EBF0F8\"}, \"line\": {\"color\": \"white\"}}, \"header\": {\"fill\": {\"color\": \"#C8D4E3\"}, \"line\": {\"color\": \"white\"}}, \"type\": \"table\"}]}, \"layout\": {\"annotationdefaults\": {\"arrowcolor\": \"#2a3f5f\", \"arrowhead\": 0, \"arrowwidth\": 1}, \"coloraxis\": {\"colorbar\": {\"outlinewidth\": 0, \"ticks\": \"\"}}, \"colorscale\": {\"diverging\": [[0, \"#8e0152\"], [0.1, \"#c51b7d\"], [0.2, \"#de77ae\"], [0.3, \"#f1b6da\"], [0.4, \"#fde0ef\"], [0.5, \"#f7f7f7\"], [0.6, \"#e6f5d0\"], [0.7, \"#b8e186\"], [0.8, \"#7fbc41\"], [0.9, \"#4d9221\"], [1, \"#276419\"]], \"sequential\": [[0.0, \"#0d0887\"], [0.1111111111111111, \"#46039f\"], [0.2222222222222222, \"#7201a8\"], [0.3333333333333333, \"#9c179e\"], [0.4444444444444444, \"#bd3786\"], [0.5555555555555556, \"#d8576b\"], [0.6666666666666666, \"#ed7953\"], [0.7777777777777778, \"#fb9f3a\"], [0.8888888888888888, \"#fdca26\"], [1.0, \"#f0f921\"]], \"sequentialminus\": [[0.0, \"#0d0887\"], [0.1111111111111111, \"#46039f\"], [0.2222222222222222, \"#7201a8\"], [0.3333333333333333, \"#9c179e\"], [0.4444444444444444, \"#bd3786\"], [0.5555555555555556, \"#d8576b\"], [0.6666666666666666, \"#ed7953\"], [0.7777777777777778, \"#fb9f3a\"], [0.8888888888888888, \"#fdca26\"], [1.0, \"#f0f921\"]]}, \"colorway\": [\"#636efa\", \"#EF553B\", \"#00cc96\", \"#ab63fa\", \"#FFA15A\", \"#19d3f3\", \"#FF6692\", \"#B6E880\", \"#FF97FF\", \"#FECB52\"], \"font\": {\"color\": \"#2a3f5f\"}, \"geo\": {\"bgcolor\": \"white\", \"lakecolor\": \"white\", \"landcolor\": \"#E5ECF6\", \"showlakes\": true, \"showland\": true, \"subunitcolor\": \"white\"}, \"hoverlabel\": {\"align\": \"left\"}, \"hovermode\": \"closest\", \"mapbox\": {\"style\": \"light\"}, \"paper_bgcolor\": \"white\", \"plot_bgcolor\": \"#E5ECF6\", \"polar\": {\"angularaxis\": {\"gridcolor\": \"white\", \"linecolor\": \"white\", \"ticks\": \"\"}, \"bgcolor\": \"#E5ECF6\", \"radialaxis\": {\"gridcolor\": \"white\", \"linecolor\": \"white\", \"ticks\": \"\"}}, \"scene\": {\"xaxis\": {\"backgroundcolor\": \"#E5ECF6\", \"gridcolor\": \"white\", \"gridwidth\": 2, \"linecolor\": \"white\", \"showbackground\": true, \"ticks\": \"\", \"zerolinecolor\": \"white\"}, \"yaxis\": {\"backgroundcolor\": \"#E5ECF6\", \"gridcolor\": \"white\", \"gridwidth\": 2, \"linecolor\": \"white\", \"showbackground\": true, \"ticks\": \"\", \"zerolinecolor\": \"white\"}, \"zaxis\": {\"backgroundcolor\": \"#E5ECF6\", \"gridcolor\": \"white\", \"gridwidth\": 2, \"linecolor\": \"white\", \"showbackground\": true, \"ticks\": \"\", \"zerolinecolor\": \"white\"}}, \"shapedefaults\": {\"line\": {\"color\": \"#2a3f5f\"}}, \"ternary\": {\"aaxis\": {\"gridcolor\": \"white\", \"linecolor\": \"white\", \"ticks\": \"\"}, \"baxis\": {\"gridcolor\": \"white\", \"linecolor\": \"white\", \"ticks\": \"\"}, \"bgcolor\": \"#E5ECF6\", \"caxis\": {\"gridcolor\": \"white\", \"linecolor\": \"white\", \"ticks\": \"\"}}, \"title\": {\"x\": 0.05}, \"xaxis\": {\"automargin\": true, \"gridcolor\": \"white\", \"linecolor\": \"white\", \"ticks\": \"\", \"title\": {\"standoff\": 15}, \"zerolinecolor\": \"white\", \"zerolinewidth\": 2}, \"yaxis\": {\"automargin\": true, \"gridcolor\": \"white\", \"linecolor\": \"white\", \"ticks\": \"\", \"title\": {\"standoff\": 15}, \"zerolinecolor\": \"white\", \"zerolinewidth\": 2}}}, \"xaxis\": {\"anchor\": \"y\", \"domain\": [0.0, 1.0], \"title\": {\"text\": \"cigsPerDay\"}}, \"yaxis\": {\"anchor\": \"x\", \"domain\": [0.0, 1.0], \"title\": {\"text\": \"heartRate\"}}},\n",
              "                        {\"responsive\": true}\n",
              "                    ).then(function(){\n",
              "                            \n",
              "var gd = document.getElementById('73598012-6042-4a29-bf20-671fa7d325d9');\n",
              "var x = new MutationObserver(function (mutations, observer) {{\n",
              "        var display = window.getComputedStyle(gd).display;\n",
              "        if (!display || display === 'none') {{\n",
              "            console.log([gd, 'removed!']);\n",
              "            Plotly.purge(gd);\n",
              "            observer.disconnect();\n",
              "        }}\n",
              "}});\n",
              "\n",
              "// Listen for the removal of the full notebook cells\n",
              "var notebookContainer = gd.closest('#notebook-container');\n",
              "if (notebookContainer) {{\n",
              "    x.observe(notebookContainer, {childList: true});\n",
              "}}\n",
              "\n",
              "// Listen for the clearing of the current output cell\n",
              "var outputEl = gd.closest('.output');\n",
              "if (outputEl) {{\n",
              "    x.observe(outputEl, {childList: true});\n",
              "}}\n",
              "\n",
              "                        })\n",
              "                };\n",
              "                \n",
              "            </script>\n",
              "        </div>\n",
              "</body>\n",
              "</html>"
            ]
          },
          "metadata": {
            "tags": []
          }
        }
      ]
    },
    {
      "cell_type": "code",
      "metadata": {
        "id": "VIwfW36fqbKU",
        "colab_type": "code",
        "colab": {
          "base_uri": "https://localhost:8080/",
          "height": 444
        },
        "outputId": "c70093a4-de59-4464-afa4-209fdbbfaf78"
      },
      "source": [
        "X = data.drop(\"TenYearCHD\",axis=1)\n",
        "X"
      ],
      "execution_count": 42,
      "outputs": [
        {
          "output_type": "execute_result",
          "data": {
            "text/html": [
              "<div>\n",
              "<style scoped>\n",
              "    .dataframe tbody tr th:only-of-type {\n",
              "        vertical-align: middle;\n",
              "    }\n",
              "\n",
              "    .dataframe tbody tr th {\n",
              "        vertical-align: top;\n",
              "    }\n",
              "\n",
              "    .dataframe thead th {\n",
              "        text-align: right;\n",
              "    }\n",
              "</style>\n",
              "<table border=\"1\" class=\"dataframe\">\n",
              "  <thead>\n",
              "    <tr style=\"text-align: right;\">\n",
              "      <th></th>\n",
              "      <th>male</th>\n",
              "      <th>age</th>\n",
              "      <th>education</th>\n",
              "      <th>currentSmoker</th>\n",
              "      <th>cigsPerDay</th>\n",
              "      <th>BPMeds</th>\n",
              "      <th>prevalentStroke</th>\n",
              "      <th>prevalentHyp</th>\n",
              "      <th>diabetes</th>\n",
              "      <th>totChol</th>\n",
              "      <th>sysBP</th>\n",
              "      <th>diaBP</th>\n",
              "      <th>BMI</th>\n",
              "      <th>heartRate</th>\n",
              "      <th>glucose</th>\n",
              "    </tr>\n",
              "  </thead>\n",
              "  <tbody>\n",
              "    <tr>\n",
              "      <th>0</th>\n",
              "      <td>1</td>\n",
              "      <td>39</td>\n",
              "      <td>4.0</td>\n",
              "      <td>0</td>\n",
              "      <td>0.0</td>\n",
              "      <td>0.0</td>\n",
              "      <td>0</td>\n",
              "      <td>0</td>\n",
              "      <td>0</td>\n",
              "      <td>195.0</td>\n",
              "      <td>106.0</td>\n",
              "      <td>70.0</td>\n",
              "      <td>26.97</td>\n",
              "      <td>80.0</td>\n",
              "      <td>77.0</td>\n",
              "    </tr>\n",
              "    <tr>\n",
              "      <th>1</th>\n",
              "      <td>0</td>\n",
              "      <td>46</td>\n",
              "      <td>2.0</td>\n",
              "      <td>0</td>\n",
              "      <td>0.0</td>\n",
              "      <td>0.0</td>\n",
              "      <td>0</td>\n",
              "      <td>0</td>\n",
              "      <td>0</td>\n",
              "      <td>250.0</td>\n",
              "      <td>121.0</td>\n",
              "      <td>81.0</td>\n",
              "      <td>28.73</td>\n",
              "      <td>95.0</td>\n",
              "      <td>76.0</td>\n",
              "    </tr>\n",
              "    <tr>\n",
              "      <th>2</th>\n",
              "      <td>1</td>\n",
              "      <td>48</td>\n",
              "      <td>1.0</td>\n",
              "      <td>1</td>\n",
              "      <td>20.0</td>\n",
              "      <td>0.0</td>\n",
              "      <td>0</td>\n",
              "      <td>0</td>\n",
              "      <td>0</td>\n",
              "      <td>245.0</td>\n",
              "      <td>127.5</td>\n",
              "      <td>80.0</td>\n",
              "      <td>25.34</td>\n",
              "      <td>75.0</td>\n",
              "      <td>70.0</td>\n",
              "    </tr>\n",
              "    <tr>\n",
              "      <th>3</th>\n",
              "      <td>0</td>\n",
              "      <td>61</td>\n",
              "      <td>3.0</td>\n",
              "      <td>1</td>\n",
              "      <td>30.0</td>\n",
              "      <td>0.0</td>\n",
              "      <td>0</td>\n",
              "      <td>1</td>\n",
              "      <td>0</td>\n",
              "      <td>225.0</td>\n",
              "      <td>150.0</td>\n",
              "      <td>95.0</td>\n",
              "      <td>28.58</td>\n",
              "      <td>65.0</td>\n",
              "      <td>103.0</td>\n",
              "    </tr>\n",
              "    <tr>\n",
              "      <th>4</th>\n",
              "      <td>0</td>\n",
              "      <td>46</td>\n",
              "      <td>3.0</td>\n",
              "      <td>1</td>\n",
              "      <td>23.0</td>\n",
              "      <td>0.0</td>\n",
              "      <td>0</td>\n",
              "      <td>0</td>\n",
              "      <td>0</td>\n",
              "      <td>285.0</td>\n",
              "      <td>130.0</td>\n",
              "      <td>84.0</td>\n",
              "      <td>23.10</td>\n",
              "      <td>85.0</td>\n",
              "      <td>85.0</td>\n",
              "    </tr>\n",
              "    <tr>\n",
              "      <th>...</th>\n",
              "      <td>...</td>\n",
              "      <td>...</td>\n",
              "      <td>...</td>\n",
              "      <td>...</td>\n",
              "      <td>...</td>\n",
              "      <td>...</td>\n",
              "      <td>...</td>\n",
              "      <td>...</td>\n",
              "      <td>...</td>\n",
              "      <td>...</td>\n",
              "      <td>...</td>\n",
              "      <td>...</td>\n",
              "      <td>...</td>\n",
              "      <td>...</td>\n",
              "      <td>...</td>\n",
              "    </tr>\n",
              "    <tr>\n",
              "      <th>4231</th>\n",
              "      <td>1</td>\n",
              "      <td>58</td>\n",
              "      <td>3.0</td>\n",
              "      <td>0</td>\n",
              "      <td>0.0</td>\n",
              "      <td>0.0</td>\n",
              "      <td>0</td>\n",
              "      <td>1</td>\n",
              "      <td>0</td>\n",
              "      <td>187.0</td>\n",
              "      <td>141.0</td>\n",
              "      <td>81.0</td>\n",
              "      <td>24.96</td>\n",
              "      <td>80.0</td>\n",
              "      <td>81.0</td>\n",
              "    </tr>\n",
              "    <tr>\n",
              "      <th>4232</th>\n",
              "      <td>1</td>\n",
              "      <td>68</td>\n",
              "      <td>1.0</td>\n",
              "      <td>0</td>\n",
              "      <td>0.0</td>\n",
              "      <td>0.0</td>\n",
              "      <td>0</td>\n",
              "      <td>1</td>\n",
              "      <td>0</td>\n",
              "      <td>176.0</td>\n",
              "      <td>168.0</td>\n",
              "      <td>97.0</td>\n",
              "      <td>23.14</td>\n",
              "      <td>60.0</td>\n",
              "      <td>79.0</td>\n",
              "    </tr>\n",
              "    <tr>\n",
              "      <th>4233</th>\n",
              "      <td>1</td>\n",
              "      <td>50</td>\n",
              "      <td>1.0</td>\n",
              "      <td>1</td>\n",
              "      <td>1.0</td>\n",
              "      <td>0.0</td>\n",
              "      <td>0</td>\n",
              "      <td>1</td>\n",
              "      <td>0</td>\n",
              "      <td>313.0</td>\n",
              "      <td>179.0</td>\n",
              "      <td>92.0</td>\n",
              "      <td>25.97</td>\n",
              "      <td>66.0</td>\n",
              "      <td>86.0</td>\n",
              "    </tr>\n",
              "    <tr>\n",
              "      <th>4234</th>\n",
              "      <td>1</td>\n",
              "      <td>51</td>\n",
              "      <td>3.0</td>\n",
              "      <td>1</td>\n",
              "      <td>43.0</td>\n",
              "      <td>0.0</td>\n",
              "      <td>0</td>\n",
              "      <td>0</td>\n",
              "      <td>0</td>\n",
              "      <td>207.0</td>\n",
              "      <td>126.5</td>\n",
              "      <td>80.0</td>\n",
              "      <td>19.71</td>\n",
              "      <td>65.0</td>\n",
              "      <td>68.0</td>\n",
              "    </tr>\n",
              "    <tr>\n",
              "      <th>4237</th>\n",
              "      <td>0</td>\n",
              "      <td>52</td>\n",
              "      <td>2.0</td>\n",
              "      <td>0</td>\n",
              "      <td>0.0</td>\n",
              "      <td>0.0</td>\n",
              "      <td>0</td>\n",
              "      <td>0</td>\n",
              "      <td>0</td>\n",
              "      <td>269.0</td>\n",
              "      <td>133.5</td>\n",
              "      <td>83.0</td>\n",
              "      <td>21.47</td>\n",
              "      <td>80.0</td>\n",
              "      <td>107.0</td>\n",
              "    </tr>\n",
              "  </tbody>\n",
              "</table>\n",
              "<p>3656 rows × 15 columns</p>\n",
              "</div>"
            ],
            "text/plain": [
              "      male  age  education  currentSmoker  ...  diaBP    BMI  heartRate  glucose\n",
              "0        1   39        4.0              0  ...   70.0  26.97       80.0     77.0\n",
              "1        0   46        2.0              0  ...   81.0  28.73       95.0     76.0\n",
              "2        1   48        1.0              1  ...   80.0  25.34       75.0     70.0\n",
              "3        0   61        3.0              1  ...   95.0  28.58       65.0    103.0\n",
              "4        0   46        3.0              1  ...   84.0  23.10       85.0     85.0\n",
              "...    ...  ...        ...            ...  ...    ...    ...        ...      ...\n",
              "4231     1   58        3.0              0  ...   81.0  24.96       80.0     81.0\n",
              "4232     1   68        1.0              0  ...   97.0  23.14       60.0     79.0\n",
              "4233     1   50        1.0              1  ...   92.0  25.97       66.0     86.0\n",
              "4234     1   51        3.0              1  ...   80.0  19.71       65.0     68.0\n",
              "4237     0   52        2.0              0  ...   83.0  21.47       80.0    107.0\n",
              "\n",
              "[3656 rows x 15 columns]"
            ]
          },
          "metadata": {
            "tags": []
          },
          "execution_count": 42
        }
      ]
    },
    {
      "cell_type": "code",
      "metadata": {
        "id": "HXXp-NWorkSE",
        "colab_type": "code",
        "colab": {
          "base_uri": "https://localhost:8080/",
          "height": 225
        },
        "outputId": "7019e411-67d5-46a0-c934-859f008a533c"
      },
      "source": [
        "y = data[\"TenYearCHD\"]\n",
        "y"
      ],
      "execution_count": 44,
      "outputs": [
        {
          "output_type": "execute_result",
          "data": {
            "text/plain": [
              "0       0\n",
              "1       0\n",
              "2       0\n",
              "3       1\n",
              "4       0\n",
              "       ..\n",
              "4231    0\n",
              "4232    1\n",
              "4233    1\n",
              "4234    0\n",
              "4237    0\n",
              "Name: TenYearCHD, Length: 3656, dtype: int64"
            ]
          },
          "metadata": {
            "tags": []
          },
          "execution_count": 44
        }
      ]
    },
    {
      "cell_type": "code",
      "metadata": {
        "id": "CTcZBD7TruK0",
        "colab_type": "code",
        "colab": {
          "base_uri": "https://localhost:8080/",
          "height": 243
        },
        "outputId": "62afb590-474b-4f0c-e6e7-54b9e8562a18"
      },
      "source": [
        "# Preprocessing The Data\n",
        "from sklearn.preprocessing import StandardScaler\n",
        "sc = StandardScaler()\n",
        "X = sc.fit_transform(X)\n",
        "X"
      ],
      "execution_count": 46,
      "outputs": [
        {
          "output_type": "execute_result",
          "data": {
            "text/plain": [
              "array([[ 1.11982472, -1.23335117,  1.97575158, ...,  0.29168785,\n",
              "         0.35633992, -0.20312694],\n",
              "       [-0.8929969 , -0.41559058,  0.01979497, ...,  0.7246142 ,\n",
              "         1.60828949, -0.24495595],\n",
              "       [ 1.11982472, -0.1819447 , -0.95818334, ..., -0.10926099,\n",
              "        -0.06097661, -0.49592996],\n",
              "       ...,\n",
              "       [ 1.11982472,  0.05170118, -0.95818334, ...,  0.04570696,\n",
              "        -0.81214636,  0.17333408],\n",
              "       [ 1.11982472,  0.16852412,  0.99777327, ..., -1.49413337,\n",
              "        -0.89560966, -0.57958797],\n",
              "       [-0.8929969 ,  0.28534706,  0.01979497, ..., -1.06120701,\n",
              "         0.35633992,  1.05174313]])"
            ]
          },
          "metadata": {
            "tags": []
          },
          "execution_count": 46
        }
      ]
    },
    {
      "cell_type": "code",
      "metadata": {
        "id": "K-jhtyYlr72b",
        "colab_type": "code",
        "colab": {}
      },
      "source": [
        "from sklearn.model_selection import train_test_split\n",
        "X_train,X_test,y_train,y_test = train_test_split(X,y,random_state=0,test_size=0.25)"
      ],
      "execution_count": 0,
      "outputs": []
    },
    {
      "cell_type": "code",
      "metadata": {
        "id": "Pw94KCkwsWTT",
        "colab_type": "code",
        "colab": {
          "base_uri": "https://localhost:8080/",
          "height": 104
        },
        "outputId": "223a7d85-77da-4a1b-8df9-e0e8f8470636"
      },
      "source": [
        "from sklearn.linear_model import LogisticRegression\n",
        "model = LogisticRegression()\n",
        "model.fit(X_train,y_train)"
      ],
      "execution_count": 49,
      "outputs": [
        {
          "output_type": "execute_result",
          "data": {
            "text/plain": [
              "LogisticRegression(C=1.0, class_weight=None, dual=False, fit_intercept=True,\n",
              "                   intercept_scaling=1, l1_ratio=None, max_iter=100,\n",
              "                   multi_class='auto', n_jobs=None, penalty='l2',\n",
              "                   random_state=None, solver='lbfgs', tol=0.0001, verbose=0,\n",
              "                   warm_start=False)"
            ]
          },
          "metadata": {
            "tags": []
          },
          "execution_count": 49
        }
      ]
    },
    {
      "cell_type": "code",
      "metadata": {
        "id": "PjsPhzvJskoN",
        "colab_type": "code",
        "colab": {}
      },
      "source": [
        "predict = model.predict(X_test)"
      ],
      "execution_count": 0,
      "outputs": []
    },
    {
      "cell_type": "code",
      "metadata": {
        "id": "kt1ClOaqt9jT",
        "colab_type": "code",
        "colab": {
          "base_uri": "https://localhost:8080/",
          "height": 34
        },
        "outputId": "190deadc-4784-4b50-9953-43b440dce4f5"
      },
      "source": [
        "from sklearn.metrics import accuracy_score\n",
        "accuracy_score(y_test, predict)"
      ],
      "execution_count": 57,
      "outputs": [
        {
          "output_type": "execute_result",
          "data": {
            "text/plain": [
              "0.8544857768052516"
            ]
          },
          "metadata": {
            "tags": []
          },
          "execution_count": 57
        }
      ]
    },
    {
      "cell_type": "code",
      "metadata": {
        "id": "TD3JfNZVubuw",
        "colab_type": "code",
        "colab": {
          "base_uri": "https://localhost:8080/",
          "height": 139
        },
        "outputId": "3af119fe-dcd5-4368-876a-32b24f0cccdd"
      },
      "source": [
        "model.predict_proba(X_test)"
      ],
      "execution_count": 58,
      "outputs": [
        {
          "output_type": "execute_result",
          "data": {
            "text/plain": [
              "array([[0.87109465, 0.12890535],\n",
              "       [0.84995821, 0.15004179],\n",
              "       [0.95770111, 0.04229889],\n",
              "       ...,\n",
              "       [0.97077675, 0.02922325],\n",
              "       [0.79048036, 0.20951964],\n",
              "       [0.90136859, 0.09863141]])"
            ]
          },
          "metadata": {
            "tags": []
          },
          "execution_count": 58
        }
      ]
    }
  ]
}